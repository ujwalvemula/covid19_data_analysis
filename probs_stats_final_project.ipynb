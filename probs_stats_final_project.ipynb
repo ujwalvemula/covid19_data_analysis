{
  "nbformat": 4,
  "nbformat_minor": 0,
  "metadata": {
    "colab": {
      "name": "CSE544_project_112584867",
      "provenance": [],
      "collapsed_sections": [
        "AtHq3YwgDnnS"
      ],
      "toc_visible": true
    },
    "kernelspec": {
      "name": "python3",
      "display_name": "Python 3"
    }
  },
  "cells": [
    {
      "cell_type": "markdown",
      "metadata": {
        "id": "yGQrOx6V_g2W",
        "colab_type": "text"
      },
      "source": [
        "# CSE 544 PROJECT\n",
        "\n",
        "## Team Members:\n",
        "\n",
        "Priyanka Datar           \n",
        "\n",
        "Jayakrishna Anvesh Paidy \n",
        "\n",
        "Ujwal Vemula             \n",
        "\n",
        "Shikha Dixit             \n",
        "\n",
        "Eesha Gitay              \n"
      ]
    },
    {
      "cell_type": "markdown",
      "metadata": {
        "id": "6POuX-i1AlCN",
        "colab_type": "text"
      },
      "source": [
        "# Tasks"
      ]
    },
    {
      "cell_type": "markdown",
      "metadata": {
        "id": "clFcYdX-AqDM",
        "colab_type": "text"
      },
      "source": [
        "### 1. Clean your dataset (remove missing values, sanitize data, etc.). Remove any outliers using the Tukey’s rule from class. Report what you found (number of outliers). Comment on your findings both for data cleaning (what issues you found, how you dealt with them) and outlier detection. This will be 10% of the project grade."
      ]
    },
    {
      "cell_type": "markdown",
      "metadata": {
        "id": "HJUkDVliAn7t",
        "colab_type": "text"
      },
      "source": [
        ""
      ]
    },
    {
      "cell_type": "code",
      "metadata": {
        "id": "7rw8rO3OESQp",
        "colab_type": "code",
        "colab": {}
      },
      "source": [
        "#Importing all the necessary libraries\n",
        "\n",
        "import pandas as pd\n",
        "import matplotlib.pyplot as plt\n",
        "import seaborn as sns\n",
        "import numpy as np\n",
        "import warnings\n",
        "import math\n",
        "import statistics \n",
        "import datetime\n",
        "from scipy.stats import gamma\n",
        "import scipy.stats as st\n",
        "from scipy.stats import poisson\n",
        "from scipy.stats import binom\n",
        "from scipy.stats import geom\n",
        "from scipy.stats import chi2\n",
        "from numpy.linalg import pinv\n",
        "\n",
        "\n",
        "warnings.filterwarnings('ignore')\n",
        "%matplotlib inline"
      ],
      "execution_count": 0,
      "outputs": []
    },
    {
      "cell_type": "code",
      "metadata": {
        "id": "HHqRzY9fJmG8",
        "colab_type": "code",
        "outputId": "924627d2-3729-4df0-d618-4d47a18fbc6c",
        "colab": {
          "base_uri": "https://localhost:8080/",
          "height": 626
        }
      },
      "source": [
        "covid = pd.read_csv('./states_daily_4pm_et.csv', encoding = \"ISO-8859-1\")\n",
        "# Our dataset deals with the US states data for the Northeast, Midwest and Southeast regions. Hence we are filteringit for the corresponding states:\n",
        "covidData = covid.loc[covid.state.isin(['ME', 'NY', 'NJ', 'VT', 'MA', 'RI', 'CT', 'NH', 'PA', 'IL', 'IN', 'IA', 'KS', 'MI', 'MN', 'MO', 'NE', 'ND', 'OH', 'SD', 'WI', 'SC', 'VA', 'WV', 'NC', 'MS', 'AR', 'TN', 'FL', 'GA', 'AL', 'KY', 'LA'])] \n",
        "covidData = covidData.sort_values(by=['state', 'date'])\n",
        "covidData.isna().sum()\n",
        "print('Latest Date where data is NaN', covidData['date'].loc[covidData.negative.isna()].max())\n",
        "# Since the values of negative column are missing before 17th March 2020, it is safe to assume that this is 0.\n",
        "\n",
        "covidData.negative = covidData.negative.fillna(0)\n",
        "pd.set_option('display.max_columns', 999)\n",
        "covidData #.loc[covidData.state == 'AR'].sort_values(['hospitalizedCurrently'])"
      ],
      "execution_count": 186,
      "outputs": [
        {
          "output_type": "stream",
          "text": [
            "Latest Date where data is NaN 20200317\n"
          ],
          "name": "stdout"
        },
        {
          "output_type": "execute_result",
          "data": {
            "text/html": [
              "<div>\n",
              "<style scoped>\n",
              "    .dataframe tbody tr th:only-of-type {\n",
              "        vertical-align: middle;\n",
              "    }\n",
              "\n",
              "    .dataframe tbody tr th {\n",
              "        vertical-align: top;\n",
              "    }\n",
              "\n",
              "    .dataframe thead th {\n",
              "        text-align: right;\n",
              "    }\n",
              "</style>\n",
              "<table border=\"1\" class=\"dataframe\">\n",
              "  <thead>\n",
              "    <tr style=\"text-align: right;\">\n",
              "      <th></th>\n",
              "      <th>date</th>\n",
              "      <th>state</th>\n",
              "      <th>positive</th>\n",
              "      <th>negative</th>\n",
              "      <th>pending</th>\n",
              "      <th>hospitalizedCurrently</th>\n",
              "      <th>hospitalizedCumulative</th>\n",
              "      <th>inIcuCurrently</th>\n",
              "      <th>inIcuCumulative</th>\n",
              "      <th>onVentilatorCurrently</th>\n",
              "      <th>onVentilatorCumulative</th>\n",
              "      <th>recovered</th>\n",
              "      <th>dataQualityGrade</th>\n",
              "      <th>lastUpdateEt</th>\n",
              "      <th>hash</th>\n",
              "      <th>dateChecked</th>\n",
              "      <th>death</th>\n",
              "      <th>hospitalized</th>\n",
              "      <th>total</th>\n",
              "      <th>totalTestResults</th>\n",
              "      <th>posNeg</th>\n",
              "      <th>fips</th>\n",
              "      <th>deathIncrease</th>\n",
              "      <th>hospitalizedIncrease</th>\n",
              "      <th>negativeIncrease</th>\n",
              "      <th>positiveIncrease</th>\n",
              "      <th>totalTestResultsIncrease</th>\n",
              "    </tr>\n",
              "  </thead>\n",
              "  <tbody>\n",
              "    <tr>\n",
              "      <th>3485</th>\n",
              "      <td>20200307</td>\n",
              "      <td>AL</td>\n",
              "      <td>0.0</td>\n",
              "      <td>0.0</td>\n",
              "      <td>NaN</td>\n",
              "      <td>NaN</td>\n",
              "      <td>NaN</td>\n",
              "      <td>NaN</td>\n",
              "      <td>NaN</td>\n",
              "      <td>NaN</td>\n",
              "      <td>NaN</td>\n",
              "      <td>NaN</td>\n",
              "      <td>NaN</td>\n",
              "      <td>NaN</td>\n",
              "      <td>b7229e74444e63e1bf4c7acf02ecd69fd3f2d44f</td>\n",
              "      <td>2020-03-07T21:00:00Z</td>\n",
              "      <td>NaN</td>\n",
              "      <td>NaN</td>\n",
              "      <td>0</td>\n",
              "      <td>0</td>\n",
              "      <td>0</td>\n",
              "      <td>1</td>\n",
              "      <td>NaN</td>\n",
              "      <td>NaN</td>\n",
              "      <td>NaN</td>\n",
              "      <td>NaN</td>\n",
              "      <td>NaN</td>\n",
              "    </tr>\n",
              "    <tr>\n",
              "      <th>3435</th>\n",
              "      <td>20200308</td>\n",
              "      <td>AL</td>\n",
              "      <td>0.0</td>\n",
              "      <td>0.0</td>\n",
              "      <td>NaN</td>\n",
              "      <td>NaN</td>\n",
              "      <td>NaN</td>\n",
              "      <td>NaN</td>\n",
              "      <td>NaN</td>\n",
              "      <td>NaN</td>\n",
              "      <td>NaN</td>\n",
              "      <td>NaN</td>\n",
              "      <td>NaN</td>\n",
              "      <td>NaN</td>\n",
              "      <td>cef5c30ef98434091f43d4339edbbda536a2b1e3</td>\n",
              "      <td>2020-03-08T20:00:00Z</td>\n",
              "      <td>NaN</td>\n",
              "      <td>NaN</td>\n",
              "      <td>0</td>\n",
              "      <td>0</td>\n",
              "      <td>0</td>\n",
              "      <td>1</td>\n",
              "      <td>0.0</td>\n",
              "      <td>0.0</td>\n",
              "      <td>0.0</td>\n",
              "      <td>0.0</td>\n",
              "      <td>0.0</td>\n",
              "    </tr>\n",
              "    <tr>\n",
              "      <th>3385</th>\n",
              "      <td>20200309</td>\n",
              "      <td>AL</td>\n",
              "      <td>0.0</td>\n",
              "      <td>0.0</td>\n",
              "      <td>NaN</td>\n",
              "      <td>NaN</td>\n",
              "      <td>NaN</td>\n",
              "      <td>NaN</td>\n",
              "      <td>NaN</td>\n",
              "      <td>NaN</td>\n",
              "      <td>NaN</td>\n",
              "      <td>NaN</td>\n",
              "      <td>NaN</td>\n",
              "      <td>NaN</td>\n",
              "      <td>c391f721afe45510e1c1c86223e438174db9baf8</td>\n",
              "      <td>2020-03-09T20:00:00Z</td>\n",
              "      <td>NaN</td>\n",
              "      <td>NaN</td>\n",
              "      <td>0</td>\n",
              "      <td>0</td>\n",
              "      <td>0</td>\n",
              "      <td>1</td>\n",
              "      <td>0.0</td>\n",
              "      <td>0.0</td>\n",
              "      <td>0.0</td>\n",
              "      <td>0.0</td>\n",
              "      <td>0.0</td>\n",
              "    </tr>\n",
              "    <tr>\n",
              "      <th>3335</th>\n",
              "      <td>20200310</td>\n",
              "      <td>AL</td>\n",
              "      <td>0.0</td>\n",
              "      <td>0.0</td>\n",
              "      <td>0.0</td>\n",
              "      <td>NaN</td>\n",
              "      <td>NaN</td>\n",
              "      <td>NaN</td>\n",
              "      <td>NaN</td>\n",
              "      <td>NaN</td>\n",
              "      <td>NaN</td>\n",
              "      <td>NaN</td>\n",
              "      <td>NaN</td>\n",
              "      <td>NaN</td>\n",
              "      <td>8b98d3b5d6d75f9bb40ee70ef5553b794b7dc4f2</td>\n",
              "      <td>2020-03-10T20:00:00Z</td>\n",
              "      <td>NaN</td>\n",
              "      <td>NaN</td>\n",
              "      <td>0</td>\n",
              "      <td>0</td>\n",
              "      <td>0</td>\n",
              "      <td>1</td>\n",
              "      <td>0.0</td>\n",
              "      <td>0.0</td>\n",
              "      <td>0.0</td>\n",
              "      <td>0.0</td>\n",
              "      <td>0.0</td>\n",
              "    </tr>\n",
              "    <tr>\n",
              "      <th>3285</th>\n",
              "      <td>20200311</td>\n",
              "      <td>AL</td>\n",
              "      <td>0.0</td>\n",
              "      <td>10.0</td>\n",
              "      <td>NaN</td>\n",
              "      <td>NaN</td>\n",
              "      <td>NaN</td>\n",
              "      <td>NaN</td>\n",
              "      <td>NaN</td>\n",
              "      <td>NaN</td>\n",
              "      <td>NaN</td>\n",
              "      <td>NaN</td>\n",
              "      <td>NaN</td>\n",
              "      <td>NaN</td>\n",
              "      <td>06ecb0277a90135b760551e5a082a57764c3d807</td>\n",
              "      <td>2020-03-11T20:00:00Z</td>\n",
              "      <td>NaN</td>\n",
              "      <td>NaN</td>\n",
              "      <td>10</td>\n",
              "      <td>10</td>\n",
              "      <td>10</td>\n",
              "      <td>1</td>\n",
              "      <td>0.0</td>\n",
              "      <td>0.0</td>\n",
              "      <td>10.0</td>\n",
              "      <td>0.0</td>\n",
              "      <td>10.0</td>\n",
              "    </tr>\n",
              "    <tr>\n",
              "      <th>...</th>\n",
              "      <td>...</td>\n",
              "      <td>...</td>\n",
              "      <td>...</td>\n",
              "      <td>...</td>\n",
              "      <td>...</td>\n",
              "      <td>...</td>\n",
              "      <td>...</td>\n",
              "      <td>...</td>\n",
              "      <td>...</td>\n",
              "      <td>...</td>\n",
              "      <td>...</td>\n",
              "      <td>...</td>\n",
              "      <td>...</td>\n",
              "      <td>...</td>\n",
              "      <td>...</td>\n",
              "      <td>...</td>\n",
              "      <td>...</td>\n",
              "      <td>...</td>\n",
              "      <td>...</td>\n",
              "      <td>...</td>\n",
              "      <td>...</td>\n",
              "      <td>...</td>\n",
              "      <td>...</td>\n",
              "      <td>...</td>\n",
              "      <td>...</td>\n",
              "      <td>...</td>\n",
              "      <td>...</td>\n",
              "    </tr>\n",
              "    <tr>\n",
              "      <th>278</th>\n",
              "      <td>20200505</td>\n",
              "      <td>WV</td>\n",
              "      <td>1238.0</td>\n",
              "      <td>53585.0</td>\n",
              "      <td>NaN</td>\n",
              "      <td>64.0</td>\n",
              "      <td>NaN</td>\n",
              "      <td>23.0</td>\n",
              "      <td>NaN</td>\n",
              "      <td>12.0</td>\n",
              "      <td>NaN</td>\n",
              "      <td>630.0</td>\n",
              "      <td>C</td>\n",
              "      <td>5/5/2020 10:00</td>\n",
              "      <td>9065fc831ce3829aaf56c620e5e03765dbfc254e</td>\n",
              "      <td>2020-05-05T20:00:00Z</td>\n",
              "      <td>50.0</td>\n",
              "      <td>NaN</td>\n",
              "      <td>54823</td>\n",
              "      <td>54823</td>\n",
              "      <td>54823</td>\n",
              "      <td>54</td>\n",
              "      <td>0.0</td>\n",
              "      <td>0.0</td>\n",
              "      <td>1552.0</td>\n",
              "      <td>32.0</td>\n",
              "      <td>1584.0</td>\n",
              "    </tr>\n",
              "    <tr>\n",
              "      <th>222</th>\n",
              "      <td>20200506</td>\n",
              "      <td>WV</td>\n",
              "      <td>1248.0</td>\n",
              "      <td>54536.0</td>\n",
              "      <td>NaN</td>\n",
              "      <td>76.0</td>\n",
              "      <td>NaN</td>\n",
              "      <td>22.0</td>\n",
              "      <td>NaN</td>\n",
              "      <td>12.0</td>\n",
              "      <td>NaN</td>\n",
              "      <td>716.0</td>\n",
              "      <td>C</td>\n",
              "      <td>5/6/2020 10:00</td>\n",
              "      <td>d6a7a1e6777a83cd867984183135256763655ed6</td>\n",
              "      <td>2020-05-06T20:00:00Z</td>\n",
              "      <td>50.0</td>\n",
              "      <td>NaN</td>\n",
              "      <td>55784</td>\n",
              "      <td>55784</td>\n",
              "      <td>55784</td>\n",
              "      <td>54</td>\n",
              "      <td>0.0</td>\n",
              "      <td>0.0</td>\n",
              "      <td>951.0</td>\n",
              "      <td>10.0</td>\n",
              "      <td>961.0</td>\n",
              "    </tr>\n",
              "    <tr>\n",
              "      <th>166</th>\n",
              "      <td>20200507</td>\n",
              "      <td>WV</td>\n",
              "      <td>1287.0</td>\n",
              "      <td>56234.0</td>\n",
              "      <td>NaN</td>\n",
              "      <td>76.0</td>\n",
              "      <td>NaN</td>\n",
              "      <td>22.0</td>\n",
              "      <td>NaN</td>\n",
              "      <td>12.0</td>\n",
              "      <td>NaN</td>\n",
              "      <td>716.0</td>\n",
              "      <td>C</td>\n",
              "      <td>5/7/2020 10:00</td>\n",
              "      <td>d5683cefcda0418c9b16fae15e2de62f4567ebd7</td>\n",
              "      <td>2020-05-07T20:00:00Z</td>\n",
              "      <td>51.0</td>\n",
              "      <td>NaN</td>\n",
              "      <td>57521</td>\n",
              "      <td>57521</td>\n",
              "      <td>57521</td>\n",
              "      <td>54</td>\n",
              "      <td>1.0</td>\n",
              "      <td>0.0</td>\n",
              "      <td>1698.0</td>\n",
              "      <td>39.0</td>\n",
              "      <td>1737.0</td>\n",
              "    </tr>\n",
              "    <tr>\n",
              "      <th>110</th>\n",
              "      <td>20200508</td>\n",
              "      <td>WV</td>\n",
              "      <td>1310.0</td>\n",
              "      <td>58126.0</td>\n",
              "      <td>NaN</td>\n",
              "      <td>65.0</td>\n",
              "      <td>NaN</td>\n",
              "      <td>19.0</td>\n",
              "      <td>NaN</td>\n",
              "      <td>11.0</td>\n",
              "      <td>NaN</td>\n",
              "      <td>761.0</td>\n",
              "      <td>C</td>\n",
              "      <td>5/8/2020 10:00</td>\n",
              "      <td>673f9fc45a5a9baea96ab99b912d2b36ae5506db</td>\n",
              "      <td>2020-05-08T20:00:00Z</td>\n",
              "      <td>51.0</td>\n",
              "      <td>NaN</td>\n",
              "      <td>59436</td>\n",
              "      <td>59436</td>\n",
              "      <td>59436</td>\n",
              "      <td>54</td>\n",
              "      <td>0.0</td>\n",
              "      <td>0.0</td>\n",
              "      <td>1892.0</td>\n",
              "      <td>23.0</td>\n",
              "      <td>1915.0</td>\n",
              "    </tr>\n",
              "    <tr>\n",
              "      <th>54</th>\n",
              "      <td>20200509</td>\n",
              "      <td>WV</td>\n",
              "      <td>1335.0</td>\n",
              "      <td>59662.0</td>\n",
              "      <td>NaN</td>\n",
              "      <td>53.0</td>\n",
              "      <td>NaN</td>\n",
              "      <td>13.0</td>\n",
              "      <td>NaN</td>\n",
              "      <td>7.0</td>\n",
              "      <td>NaN</td>\n",
              "      <td>761.0</td>\n",
              "      <td>C</td>\n",
              "      <td>5/9/2020 10:00</td>\n",
              "      <td>09642d84ae790c3f44a5895ee86022ec59029396</td>\n",
              "      <td>2020-05-09T20:00:00Z</td>\n",
              "      <td>53.0</td>\n",
              "      <td>NaN</td>\n",
              "      <td>60997</td>\n",
              "      <td>60997</td>\n",
              "      <td>60997</td>\n",
              "      <td>54</td>\n",
              "      <td>2.0</td>\n",
              "      <td>0.0</td>\n",
              "      <td>1536.0</td>\n",
              "      <td>25.0</td>\n",
              "      <td>1561.0</td>\n",
              "    </tr>\n",
              "  </tbody>\n",
              "</table>\n",
              "<p>2162 rows × 27 columns</p>\n",
              "</div>"
            ],
            "text/plain": [
              "          date state  positive  negative  pending  hospitalizedCurrently  \\\n",
              "3485  20200307    AL       0.0       0.0      NaN                    NaN   \n",
              "3435  20200308    AL       0.0       0.0      NaN                    NaN   \n",
              "3385  20200309    AL       0.0       0.0      NaN                    NaN   \n",
              "3335  20200310    AL       0.0       0.0      0.0                    NaN   \n",
              "3285  20200311    AL       0.0      10.0      NaN                    NaN   \n",
              "...        ...   ...       ...       ...      ...                    ...   \n",
              "278   20200505    WV    1238.0   53585.0      NaN                   64.0   \n",
              "222   20200506    WV    1248.0   54536.0      NaN                   76.0   \n",
              "166   20200507    WV    1287.0   56234.0      NaN                   76.0   \n",
              "110   20200508    WV    1310.0   58126.0      NaN                   65.0   \n",
              "54    20200509    WV    1335.0   59662.0      NaN                   53.0   \n",
              "\n",
              "      hospitalizedCumulative  inIcuCurrently  inIcuCumulative  \\\n",
              "3485                     NaN             NaN              NaN   \n",
              "3435                     NaN             NaN              NaN   \n",
              "3385                     NaN             NaN              NaN   \n",
              "3335                     NaN             NaN              NaN   \n",
              "3285                     NaN             NaN              NaN   \n",
              "...                      ...             ...              ...   \n",
              "278                      NaN            23.0              NaN   \n",
              "222                      NaN            22.0              NaN   \n",
              "166                      NaN            22.0              NaN   \n",
              "110                      NaN            19.0              NaN   \n",
              "54                       NaN            13.0              NaN   \n",
              "\n",
              "      onVentilatorCurrently  onVentilatorCumulative  recovered  \\\n",
              "3485                    NaN                     NaN        NaN   \n",
              "3435                    NaN                     NaN        NaN   \n",
              "3385                    NaN                     NaN        NaN   \n",
              "3335                    NaN                     NaN        NaN   \n",
              "3285                    NaN                     NaN        NaN   \n",
              "...                     ...                     ...        ...   \n",
              "278                    12.0                     NaN      630.0   \n",
              "222                    12.0                     NaN      716.0   \n",
              "166                    12.0                     NaN      716.0   \n",
              "110                    11.0                     NaN      761.0   \n",
              "54                      7.0                     NaN      761.0   \n",
              "\n",
              "     dataQualityGrade    lastUpdateEt  \\\n",
              "3485              NaN             NaN   \n",
              "3435              NaN             NaN   \n",
              "3385              NaN             NaN   \n",
              "3335              NaN             NaN   \n",
              "3285              NaN             NaN   \n",
              "...               ...             ...   \n",
              "278                 C  5/5/2020 10:00   \n",
              "222                 C  5/6/2020 10:00   \n",
              "166                 C  5/7/2020 10:00   \n",
              "110                 C  5/8/2020 10:00   \n",
              "54                  C  5/9/2020 10:00   \n",
              "\n",
              "                                          hash           dateChecked  death  \\\n",
              "3485  b7229e74444e63e1bf4c7acf02ecd69fd3f2d44f  2020-03-07T21:00:00Z    NaN   \n",
              "3435  cef5c30ef98434091f43d4339edbbda536a2b1e3  2020-03-08T20:00:00Z    NaN   \n",
              "3385  c391f721afe45510e1c1c86223e438174db9baf8  2020-03-09T20:00:00Z    NaN   \n",
              "3335  8b98d3b5d6d75f9bb40ee70ef5553b794b7dc4f2  2020-03-10T20:00:00Z    NaN   \n",
              "3285  06ecb0277a90135b760551e5a082a57764c3d807  2020-03-11T20:00:00Z    NaN   \n",
              "...                                        ...                   ...    ...   \n",
              "278   9065fc831ce3829aaf56c620e5e03765dbfc254e  2020-05-05T20:00:00Z   50.0   \n",
              "222   d6a7a1e6777a83cd867984183135256763655ed6  2020-05-06T20:00:00Z   50.0   \n",
              "166   d5683cefcda0418c9b16fae15e2de62f4567ebd7  2020-05-07T20:00:00Z   51.0   \n",
              "110   673f9fc45a5a9baea96ab99b912d2b36ae5506db  2020-05-08T20:00:00Z   51.0   \n",
              "54    09642d84ae790c3f44a5895ee86022ec59029396  2020-05-09T20:00:00Z   53.0   \n",
              "\n",
              "      hospitalized  total  totalTestResults  posNeg  fips  deathIncrease  \\\n",
              "3485           NaN      0                 0       0     1            NaN   \n",
              "3435           NaN      0                 0       0     1            0.0   \n",
              "3385           NaN      0                 0       0     1            0.0   \n",
              "3335           NaN      0                 0       0     1            0.0   \n",
              "3285           NaN     10                10      10     1            0.0   \n",
              "...            ...    ...               ...     ...   ...            ...   \n",
              "278            NaN  54823             54823   54823    54            0.0   \n",
              "222            NaN  55784             55784   55784    54            0.0   \n",
              "166            NaN  57521             57521   57521    54            1.0   \n",
              "110            NaN  59436             59436   59436    54            0.0   \n",
              "54             NaN  60997             60997   60997    54            2.0   \n",
              "\n",
              "      hospitalizedIncrease  negativeIncrease  positiveIncrease  \\\n",
              "3485                   NaN               NaN               NaN   \n",
              "3435                   0.0               0.0               0.0   \n",
              "3385                   0.0               0.0               0.0   \n",
              "3335                   0.0               0.0               0.0   \n",
              "3285                   0.0              10.0               0.0   \n",
              "...                    ...               ...               ...   \n",
              "278                    0.0            1552.0              32.0   \n",
              "222                    0.0             951.0              10.0   \n",
              "166                    0.0            1698.0              39.0   \n",
              "110                    0.0            1892.0              23.0   \n",
              "54                     0.0            1536.0              25.0   \n",
              "\n",
              "      totalTestResultsIncrease  \n",
              "3485                       NaN  \n",
              "3435                       0.0  \n",
              "3385                       0.0  \n",
              "3335                       0.0  \n",
              "3285                      10.0  \n",
              "...                        ...  \n",
              "278                     1584.0  \n",
              "222                      961.0  \n",
              "166                     1737.0  \n",
              "110                     1915.0  \n",
              "54                      1561.0  \n",
              "\n",
              "[2162 rows x 27 columns]"
            ]
          },
          "metadata": {
            "tags": []
          },
          "execution_count": 186
        }
      ]
    },
    {
      "cell_type": "markdown",
      "metadata": {
        "id": "7ZgTOlG1KCY1",
        "colab_type": "text"
      },
      "source": [
        "In our case we will not be using the 'hash' column, 'lastUpdateEt' column and the 'dateChecked' column as we have the date and hence we are dropping it"
      ]
    },
    {
      "cell_type": "code",
      "metadata": {
        "id": "VmPDhZI2KDxH",
        "colab_type": "code",
        "colab": {}
      },
      "source": [
        "covidData = covidData.drop(columns=['hash', 'dateChecked', 'lastUpdateEt'])"
      ],
      "execution_count": 0,
      "outputs": []
    },
    {
      "cell_type": "markdown",
      "metadata": {
        "id": "2on6EQDfKQnE",
        "colab_type": "text"
      },
      "source": [
        "From our dataset, we will now filter the columns as per our needs. \n",
        "\n",
        "The hospitalizedCumulative column data can be computed using the hospitalized currently data. Hence we will drop it. \n",
        "Similar is the case for the following columns:\n",
        "inIcuCumulative, onVentilatorCumulative.\n"
      ]
    },
    {
      "cell_type": "code",
      "metadata": {
        "id": "vn2e6M1AKR6w",
        "colab_type": "code",
        "outputId": "303e91f4-9f66-4f3e-ec79-098fa912d3ed",
        "colab": {
          "base_uri": "https://localhost:8080/",
          "height": 391
        }
      },
      "source": [
        "covidData = covidData.drop(columns=['hospitalizedCumulative', 'inIcuCumulative', 'onVentilatorCumulative'])    \n",
        "covidData.isna().sum()"
      ],
      "execution_count": 188,
      "outputs": [
        {
          "output_type": "execute_result",
          "data": {
            "text/plain": [
              "date                           0\n",
              "state                          0\n",
              "positive                       0\n",
              "negative                       0\n",
              "pending                     1731\n",
              "hospitalizedCurrently       1254\n",
              "inIcuCurrently              1670\n",
              "onVentilatorCurrently       1686\n",
              "recovered                   1491\n",
              "dataQualityGrade            1667\n",
              "death                        411\n",
              "hospitalized                1217\n",
              "total                          0\n",
              "totalTestResults               0\n",
              "posNeg                         0\n",
              "fips                           0\n",
              "deathIncrease                 33\n",
              "hospitalizedIncrease          33\n",
              "negativeIncrease              33\n",
              "positiveIncrease              33\n",
              "totalTestResultsIncrease      33\n",
              "dtype: int64"
            ]
          },
          "metadata": {
            "tags": []
          },
          "execution_count": 188
        }
      ]
    },
    {
      "cell_type": "code",
      "metadata": {
        "id": "dxGr7SYkKSGB",
        "colab_type": "code",
        "outputId": "814f5525-51b0-4a7d-b8e8-cf0bf155aced",
        "colab": {
          "base_uri": "https://localhost:8080/",
          "height": 374
        }
      },
      "source": [
        "covidData.loc[covidData['totalTestResults'] != covidData['posNeg']]\n",
        "# Since posNeg and totalTestResults data have the same values we can discard one of them.\n",
        "covidData = covidData.drop(columns=['posNeg'])\n",
        "covidtest = covidData.loc[covidData['pending'].notnull()]\n",
        "covidtest.count()"
      ],
      "execution_count": 189,
      "outputs": [
        {
          "output_type": "execute_result",
          "data": {
            "text/plain": [
              "date                        431\n",
              "state                       431\n",
              "positive                    431\n",
              "negative                    431\n",
              "pending                     431\n",
              "hospitalizedCurrently       100\n",
              "inIcuCurrently               72\n",
              "onVentilatorCurrently        46\n",
              "recovered                   109\n",
              "dataQualityGrade             69\n",
              "death                       250\n",
              "hospitalized                174\n",
              "total                       431\n",
              "totalTestResults            431\n",
              "fips                        431\n",
              "deathIncrease               417\n",
              "hospitalizedIncrease        417\n",
              "negativeIncrease            417\n",
              "positiveIncrease            417\n",
              "totalTestResultsIncrease    417\n",
              "dtype: int64"
            ]
          },
          "metadata": {
            "tags": []
          },
          "execution_count": 189
        }
      ]
    },
    {
      "cell_type": "code",
      "metadata": {
        "id": "9bVbfE5ZKSJ8",
        "colab_type": "code",
        "outputId": "1407f49b-2d19-4dba-853a-392589ac29de",
        "colab": {
          "base_uri": "https://localhost:8080/",
          "height": 374
        }
      },
      "source": [
        "covidtest.loc[covidtest.pending == covidtest.totalTestResults-covidtest.positive-covidtest.negative].count()\n",
        "# This shows that the pending data follows the formula : totaltests - positive - negative\n",
        "# So we replace all the nan values of pending with this formula"
      ],
      "execution_count": 190,
      "outputs": [
        {
          "output_type": "execute_result",
          "data": {
            "text/plain": [
              "date                        35\n",
              "state                       35\n",
              "positive                    35\n",
              "negative                    35\n",
              "pending                     35\n",
              "hospitalizedCurrently        0\n",
              "inIcuCurrently               0\n",
              "onVentilatorCurrently        0\n",
              "recovered                   14\n",
              "dataQualityGrade             0\n",
              "death                       20\n",
              "hospitalized                16\n",
              "total                       35\n",
              "totalTestResults            35\n",
              "fips                        35\n",
              "deathIncrease               32\n",
              "hospitalizedIncrease        32\n",
              "negativeIncrease            32\n",
              "positiveIncrease            32\n",
              "totalTestResultsIncrease    32\n",
              "dtype: int64"
            ]
          },
          "metadata": {
            "tags": []
          },
          "execution_count": 190
        }
      ]
    },
    {
      "cell_type": "code",
      "metadata": {
        "id": "BqEEv0YXLA2R",
        "colab_type": "code",
        "colab": {}
      },
      "source": [
        "covidData.pending = covidData.totalTestResults-covidData.positive-covidData.negative"
      ],
      "execution_count": 0,
      "outputs": []
    },
    {
      "cell_type": "markdown",
      "metadata": {
        "id": "Gv_ta4TuLESl",
        "colab_type": "text"
      },
      "source": [
        "The columns : \n",
        "deathIncrease                 33\n",
        "hospitalizedIncrease          33\n",
        "negativeIncrease              33\n",
        "positiveIncrease              33\n",
        "totalTestResultsIncrease      33\n",
        "\n",
        "have similar number of Nan values.\n",
        "\n",
        "covidDeathIncrease column is the difference between the previous days death and the next days total deathCount. It represents the number of deaths on that particular day.\n",
        "\n",
        "This pattern of calculation is also calculated for the columns : hospitalizedIncrease, negativeIncrease, positiveIncrease, totalTestResultsIncrease.\n",
        "\n",
        "Below is a code, which checks if data exists for the previous day and if it does, it calculates the value using the above mentioned formula. Otherwise we assign it 0."
      ]
    },
    {
      "cell_type": "code",
      "metadata": {
        "id": "uzsfnX1hLJZo",
        "colab_type": "code",
        "colab": {}
      },
      "source": [
        "for i in covidData.loc[covidData.negativeIncrease.isna()].iterrows():\n",
        "    if(not covidData.loc[(covidData.state == i[1].state) & covidData.date == i[1]['date']-1].empty):\n",
        "        covidData.at[i[0], 'deathIncrease'] = i[1]['death'] - covidData.loc[(covidData.state == i[1].state) & covidData.date == i[1]['date']-1].death\n",
        "        covidData.at[i[0], 'negativeIncrease'] = i[1]['negative'] - covidData.loc[(covidData.state == i[1].state) & covidData.date == i[1]['date']-1].negative\n",
        "        covidData.at[i[0], 'positiveIncrease'] = i[1]['positive'] - covidData.loc[(covidData.state == i[1].state) & covidData.date == i[1]['date']-1].positive\n",
        "        covidData.at[i[0], 'totalTestResultsIncrease'] = i[1]['totalTestResults'] - covidData.loc[(covidData.state == i[1].state) & covidData.date == i[1]['date']-1].totalTestResultsIncrease\n",
        "    else:\n",
        "        covidData.at[i[0], 'deathIncrease'] = 0\n",
        "        covidData.at[i[0], 'negativeIncrease'] = 0\n",
        "        covidData.at[i[0], 'positiveIncrease'] = 0\n",
        "        covidData.at[i[0], 'totalTestResultsIncrease'] = 0\n",
        "        \n"
      ],
      "execution_count": 0,
      "outputs": []
    },
    {
      "cell_type": "code",
      "metadata": {
        "id": "RgSGr00mLJfx",
        "colab_type": "code",
        "outputId": "7e21e749-dde5-4dfd-e3e5-5a7598c04f0f",
        "colab": {
          "base_uri": "https://localhost:8080/",
          "height": 578
        }
      },
      "source": [
        "covidData = covidData.drop(columns=['dataQualityGrade'])\n",
        "for i in covidData.state.unique():\n",
        "    data = covidData.loc[covidData.state == i]\n",
        "    print(data.loc[data.death.isnull()].date.max())\n",
        "# This tells us that for all the states in our dataset, until March there was no deaths reported, hence we will make the value of death 0 wherever it is null\n",
        "covidData['death'] = covidData['death'].fillna(0)"
      ],
      "execution_count": 193,
      "outputs": [
        {
          "output_type": "stream",
          "text": [
            "20200314\n",
            "20200321\n",
            "20200318\n",
            "20200310\n",
            "20200312\n",
            "20200324\n",
            "20200316\n",
            "20200313\n",
            "20200313\n",
            "20200315\n",
            "20200314\n",
            "20200317\n",
            "20200326\n",
            "20200318\n",
            "20200320\n",
            "20200313\n",
            "20200319\n",
            "20200315\n",
            "20200312\n",
            "20200318\n",
            "20200323\n",
            "20200310\n",
            "20200314\n",
            "20200319\n",
            "20200317\n",
            "20200328\n",
            "20200315\n",
            "20200317\n",
            "20200322\n",
            "20200314\n",
            "20200319\n",
            "20200319\n",
            "20200314\n"
          ],
          "name": "stdout"
        }
      ]
    },
    {
      "cell_type": "code",
      "metadata": {
        "id": "Y1-IFcO8LJj2",
        "colab_type": "code",
        "colab": {}
      },
      "source": [
        "data = covidData.loc[covidData.total - covidData.death-covidData.positive-covidData.negative == covidData.recovered]\n",
        "for i in covidData.loc[covidData.recovered.isna()].iterrows():\n",
        "    if(i[1]['recovered'] != i[1]['recovered'] and i[1]['positive'] == 0.0):\n",
        "        covidData.at[i[0], 'recovered'] = covidData.at[i[0], 'positive']\n",
        "# Setting the recovered value to 0 if there have been no positive cases in that state upto that date"
      ],
      "execution_count": 0,
      "outputs": []
    },
    {
      "cell_type": "code",
      "metadata": {
        "id": "inHhfyH9LJqY",
        "colab_type": "code",
        "colab": {}
      },
      "source": [
        "covidData = covidData[['date', 'state', 'positive', 'negative', 'pending', 'death', 'total', 'totalTestResults',\n",
        "       'fips', 'deathIncrease', 'negativeIncrease',\n",
        "       'positiveIncrease', 'totalTestResultsIncrease']]"
      ],
      "execution_count": 0,
      "outputs": []
    },
    {
      "cell_type": "markdown",
      "metadata": {
        "id": "T9MbpW1wMHZR",
        "colab_type": "text"
      },
      "source": [
        "Tukey's rule for outlier detection:\n",
        "\n",
        "Elements of D are outliers if element > Q3+ alpha * IQR\n",
        "\n",
        "In general alpha = 1.5 and we will consider this value.\n",
        "IQR = Q3 - Q1\n",
        "Qi = i/4*100 %\n",
        "Qi th element = i/4 * n\n",
        "where n = total number of elements\n",
        "\n",
        "the k th percentile of D is the k/100 * |D| (upper limit) smallest element of D.\n",
        "\n",
        "### Algorithm : \n",
        "get data for individual state\n",
        "\n",
        "initialize the removed number of rows to 0\n",
        "\n",
        "loop through columns\n",
        "\n",
        "    sort the columns\n",
        "    calculate Q1th element and Q3th element\n",
        "    calculate IQR\n",
        "    calculate the threshold to remove elements \n",
        "        lower = Q1 - alpha*IQR\n",
        "        upper = Q3 + alpha*IQR\n",
        "    rows removed = calculate no. of rows before and after removing\n",
        "    "
      ]
    },
    {
      "cell_type": "code",
      "metadata": {
        "id": "--2W-ohxMHI4",
        "colab_type": "code",
        "outputId": "2f69e73f-e270-4317-8fa3-2e154d1d2cda",
        "colab": {
          "base_uri": "https://localhost:8080/",
          "height": 69
        }
      },
      "source": [
        "newCovid = covidData\n",
        "outlierCovid = covidData\n",
        "newCovid = newCovid.drop(newCovid.index, axis=0)\n",
        "outlierCovid = outlierCovid.drop(outlierCovid.index, axis=0)\n",
        "\n",
        "newCovid"
      ],
      "execution_count": 196,
      "outputs": [
        {
          "output_type": "execute_result",
          "data": {
            "text/html": [
              "<div>\n",
              "<style scoped>\n",
              "    .dataframe tbody tr th:only-of-type {\n",
              "        vertical-align: middle;\n",
              "    }\n",
              "\n",
              "    .dataframe tbody tr th {\n",
              "        vertical-align: top;\n",
              "    }\n",
              "\n",
              "    .dataframe thead th {\n",
              "        text-align: right;\n",
              "    }\n",
              "</style>\n",
              "<table border=\"1\" class=\"dataframe\">\n",
              "  <thead>\n",
              "    <tr style=\"text-align: right;\">\n",
              "      <th></th>\n",
              "      <th>date</th>\n",
              "      <th>state</th>\n",
              "      <th>positive</th>\n",
              "      <th>negative</th>\n",
              "      <th>pending</th>\n",
              "      <th>death</th>\n",
              "      <th>total</th>\n",
              "      <th>totalTestResults</th>\n",
              "      <th>fips</th>\n",
              "      <th>deathIncrease</th>\n",
              "      <th>negativeIncrease</th>\n",
              "      <th>positiveIncrease</th>\n",
              "      <th>totalTestResultsIncrease</th>\n",
              "    </tr>\n",
              "  </thead>\n",
              "  <tbody>\n",
              "  </tbody>\n",
              "</table>\n",
              "</div>"
            ],
            "text/plain": [
              "Empty DataFrame\n",
              "Columns: [date, state, positive, negative, pending, death, total, totalTestResults, fips, deathIncrease, negativeIncrease, positiveIncrease, totalTestResultsIncrease]\n",
              "Index: []"
            ]
          },
          "metadata": {
            "tags": []
          },
          "execution_count": 196
        }
      ]
    },
    {
      "cell_type": "code",
      "metadata": {
        "id": "BbgzY5ClMHz5",
        "colab_type": "code",
        "outputId": "238eb32d-243b-48f0-e69e-894f23221b59",
        "colab": {
          "base_uri": "https://localhost:8080/",
          "height": 456
        }
      },
      "source": [
        "\n",
        "# Tukeys rule for outlier detection implementation:\n",
        "def outlierDetection(covidData, newCovid):\n",
        "  discarded = 0\n",
        "  alpha = 1.5\n",
        "  outlierCovid = covidData\n",
        "  outlierCovid = outlierCovid.drop(outlierCovid.index, axis=0)\n",
        "\n",
        "  for i in covidData.state.unique():\n",
        "      data = covidData.loc[covidData.state == i]\n",
        "      for j in ['positiveIncrease', 'deathIncrease']:\n",
        "          origSize = len(data)\n",
        "          data = data.sort_values([j])\n",
        "          q1 = 25/100 * len(data)\n",
        "          q1 = math.ceil(q1)\n",
        "          q3 = 75/100 * len(data)\n",
        "          q3 = math.ceil(q3)\n",
        "          iqr = data[j].iloc[q3] - data[j].iloc[q1]\n",
        "          # print(iqr, 'iqr')\n",
        "          lower = data[j].iloc[q1] - alpha*iqr\n",
        "          upper = data[j].iloc[q3] + alpha*iqr\n",
        "          # print(q1,q3,len(data))\n",
        "          # print(lower,upper)\n",
        "          for row in data.iterrows():\n",
        "              if (row[1][j] > upper or row[1][j] < lower):\n",
        "                  discarded+=1          \n",
        "                  outlierCovid = outlierCovid.append(data.loc[data.state == row[1]['state']].loc[data.date == row[1]['date']])      \n",
        "                  data.drop([row[0]], axis=0, inplace=True)\n",
        "                  # print(discarded)\n",
        "      newCovid = newCovid.append(data)\n",
        "  print('Number of rows discarded are : ', discarded)\n",
        "\n",
        "  return newCovid, outlierCovid\n",
        "\n",
        "newCovid, outlierCovid = outlierDetection(covidData, newCovid)\n",
        "# print(newCovid)\n",
        "outlierCovid"
      ],
      "execution_count": 197,
      "outputs": [
        {
          "output_type": "stream",
          "text": [
            "Number of rows discarded are :  98\n"
          ],
          "name": "stdout"
        },
        {
          "output_type": "execute_result",
          "data": {
            "text/html": [
              "<div>\n",
              "<style scoped>\n",
              "    .dataframe tbody tr th:only-of-type {\n",
              "        vertical-align: middle;\n",
              "    }\n",
              "\n",
              "    .dataframe tbody tr th {\n",
              "        vertical-align: top;\n",
              "    }\n",
              "\n",
              "    .dataframe thead th {\n",
              "        text-align: right;\n",
              "    }\n",
              "</style>\n",
              "<table border=\"1\" class=\"dataframe\">\n",
              "  <thead>\n",
              "    <tr style=\"text-align: right;\">\n",
              "      <th></th>\n",
              "      <th>date</th>\n",
              "      <th>state</th>\n",
              "      <th>positive</th>\n",
              "      <th>negative</th>\n",
              "      <th>pending</th>\n",
              "      <th>death</th>\n",
              "      <th>total</th>\n",
              "      <th>totalTestResults</th>\n",
              "      <th>fips</th>\n",
              "      <th>deathIncrease</th>\n",
              "      <th>negativeIncrease</th>\n",
              "      <th>positiveIncrease</th>\n",
              "      <th>totalTestResultsIncrease</th>\n",
              "    </tr>\n",
              "  </thead>\n",
              "  <tbody>\n",
              "    <tr>\n",
              "      <th>57</th>\n",
              "      <td>20200508</td>\n",
              "      <td>AL</td>\n",
              "      <td>9221.0</td>\n",
              "      <td>110893.0</td>\n",
              "      <td>0.0</td>\n",
              "      <td>375.0</td>\n",
              "      <td>120114</td>\n",
              "      <td>120114</td>\n",
              "      <td>1</td>\n",
              "      <td>26.0</td>\n",
              "      <td>4618.0</td>\n",
              "      <td>323.0</td>\n",
              "      <td>4941.0</td>\n",
              "    </tr>\n",
              "    <tr>\n",
              "      <th>169</th>\n",
              "      <td>20200506</td>\n",
              "      <td>AL</td>\n",
              "      <td>8581.0</td>\n",
              "      <td>100935.0</td>\n",
              "      <td>0.0</td>\n",
              "      <td>340.0</td>\n",
              "      <td>109516</td>\n",
              "      <td>109516</td>\n",
              "      <td>1</td>\n",
              "      <td>27.0</td>\n",
              "      <td>2454.0</td>\n",
              "      <td>296.0</td>\n",
              "      <td>2750.0</td>\n",
              "    </tr>\n",
              "    <tr>\n",
              "      <th>898</th>\n",
              "      <td>20200423</td>\n",
              "      <td>AR</td>\n",
              "      <td>2465.0</td>\n",
              "      <td>29125.0</td>\n",
              "      <td>0.0</td>\n",
              "      <td>45.0</td>\n",
              "      <td>31590</td>\n",
              "      <td>31590</td>\n",
              "      <td>5</td>\n",
              "      <td>3.0</td>\n",
              "      <td>1688.0</td>\n",
              "      <td>189.0</td>\n",
              "      <td>1877.0</td>\n",
              "    </tr>\n",
              "    <tr>\n",
              "      <th>842</th>\n",
              "      <td>20200424</td>\n",
              "      <td>AR</td>\n",
              "      <td>2741.0</td>\n",
              "      <td>32837.0</td>\n",
              "      <td>0.0</td>\n",
              "      <td>45.0</td>\n",
              "      <td>35578</td>\n",
              "      <td>35578</td>\n",
              "      <td>5</td>\n",
              "      <td>0.0</td>\n",
              "      <td>3712.0</td>\n",
              "      <td>276.0</td>\n",
              "      <td>3988.0</td>\n",
              "    </tr>\n",
              "    <tr>\n",
              "      <th>1010</th>\n",
              "      <td>20200421</td>\n",
              "      <td>AR</td>\n",
              "      <td>2227.0</td>\n",
              "      <td>25214.0</td>\n",
              "      <td>0.0</td>\n",
              "      <td>43.0</td>\n",
              "      <td>27441</td>\n",
              "      <td>27441</td>\n",
              "      <td>5</td>\n",
              "      <td>1.0</td>\n",
              "      <td>584.0</td>\n",
              "      <td>304.0</td>\n",
              "      <td>888.0</td>\n",
              "    </tr>\n",
              "    <tr>\n",
              "      <th>...</th>\n",
              "      <td>...</td>\n",
              "      <td>...</td>\n",
              "      <td>...</td>\n",
              "      <td>...</td>\n",
              "      <td>...</td>\n",
              "      <td>...</td>\n",
              "      <td>...</td>\n",
              "      <td>...</td>\n",
              "      <td>...</td>\n",
              "      <td>...</td>\n",
              "      <td>...</td>\n",
              "      <td>...</td>\n",
              "      <td>...</td>\n",
              "    </tr>\n",
              "    <tr>\n",
              "      <th>558</th>\n",
              "      <td>20200430</td>\n",
              "      <td>WV</td>\n",
              "      <td>1118.0</td>\n",
              "      <td>43423.0</td>\n",
              "      <td>0.0</td>\n",
              "      <td>41.0</td>\n",
              "      <td>44541</td>\n",
              "      <td>44541</td>\n",
              "      <td>54</td>\n",
              "      <td>3.0</td>\n",
              "      <td>1447.0</td>\n",
              "      <td>23.0</td>\n",
              "      <td>1470.0</td>\n",
              "    </tr>\n",
              "    <tr>\n",
              "      <th>894</th>\n",
              "      <td>20200424</td>\n",
              "      <td>WV</td>\n",
              "      <td>988.0</td>\n",
              "      <td>28823.0</td>\n",
              "      <td>0.0</td>\n",
              "      <td>32.0</td>\n",
              "      <td>29811</td>\n",
              "      <td>29811</td>\n",
              "      <td>54</td>\n",
              "      <td>3.0</td>\n",
              "      <td>1885.0</td>\n",
              "      <td>21.0</td>\n",
              "      <td>1906.0</td>\n",
              "    </tr>\n",
              "    <tr>\n",
              "      <th>1230</th>\n",
              "      <td>20200418</td>\n",
              "      <td>WV</td>\n",
              "      <td>785.0</td>\n",
              "      <td>18655.0</td>\n",
              "      <td>0.0</td>\n",
              "      <td>16.0</td>\n",
              "      <td>19440</td>\n",
              "      <td>19440</td>\n",
              "      <td>54</td>\n",
              "      <td>3.0</td>\n",
              "      <td>728.0</td>\n",
              "      <td>31.0</td>\n",
              "      <td>759.0</td>\n",
              "    </tr>\n",
              "    <tr>\n",
              "      <th>502</th>\n",
              "      <td>20200501</td>\n",
              "      <td>WV</td>\n",
              "      <td>1136.0</td>\n",
              "      <td>45708.0</td>\n",
              "      <td>0.0</td>\n",
              "      <td>46.0</td>\n",
              "      <td>46844</td>\n",
              "      <td>46844</td>\n",
              "      <td>54</td>\n",
              "      <td>5.0</td>\n",
              "      <td>2285.0</td>\n",
              "      <td>18.0</td>\n",
              "      <td>2303.0</td>\n",
              "    </tr>\n",
              "    <tr>\n",
              "      <th>1118</th>\n",
              "      <td>20200420</td>\n",
              "      <td>WV</td>\n",
              "      <td>902.0</td>\n",
              "      <td>21253.0</td>\n",
              "      <td>0.0</td>\n",
              "      <td>24.0</td>\n",
              "      <td>22155</td>\n",
              "      <td>22155</td>\n",
              "      <td>54</td>\n",
              "      <td>6.0</td>\n",
              "      <td>2085.0</td>\n",
              "      <td>39.0</td>\n",
              "      <td>2124.0</td>\n",
              "    </tr>\n",
              "  </tbody>\n",
              "</table>\n",
              "<p>98 rows × 13 columns</p>\n",
              "</div>"
            ],
            "text/plain": [
              "          date state  positive  negative  pending  death   total  \\\n",
              "57    20200508    AL    9221.0  110893.0      0.0  375.0  120114   \n",
              "169   20200506    AL    8581.0  100935.0      0.0  340.0  109516   \n",
              "898   20200423    AR    2465.0   29125.0      0.0   45.0   31590   \n",
              "842   20200424    AR    2741.0   32837.0      0.0   45.0   35578   \n",
              "1010  20200421    AR    2227.0   25214.0      0.0   43.0   27441   \n",
              "...        ...   ...       ...       ...      ...    ...     ...   \n",
              "558   20200430    WV    1118.0   43423.0      0.0   41.0   44541   \n",
              "894   20200424    WV     988.0   28823.0      0.0   32.0   29811   \n",
              "1230  20200418    WV     785.0   18655.0      0.0   16.0   19440   \n",
              "502   20200501    WV    1136.0   45708.0      0.0   46.0   46844   \n",
              "1118  20200420    WV     902.0   21253.0      0.0   24.0   22155   \n",
              "\n",
              "      totalTestResults  fips  deathIncrease  negativeIncrease  \\\n",
              "57              120114     1           26.0            4618.0   \n",
              "169             109516     1           27.0            2454.0   \n",
              "898              31590     5            3.0            1688.0   \n",
              "842              35578     5            0.0            3712.0   \n",
              "1010             27441     5            1.0             584.0   \n",
              "...                ...   ...            ...               ...   \n",
              "558              44541    54            3.0            1447.0   \n",
              "894              29811    54            3.0            1885.0   \n",
              "1230             19440    54            3.0             728.0   \n",
              "502              46844    54            5.0            2285.0   \n",
              "1118             22155    54            6.0            2085.0   \n",
              "\n",
              "      positiveIncrease  totalTestResultsIncrease  \n",
              "57               323.0                    4941.0  \n",
              "169              296.0                    2750.0  \n",
              "898              189.0                    1877.0  \n",
              "842              276.0                    3988.0  \n",
              "1010             304.0                     888.0  \n",
              "...                ...                       ...  \n",
              "558               23.0                    1470.0  \n",
              "894               21.0                    1906.0  \n",
              "1230              31.0                     759.0  \n",
              "502               18.0                    2303.0  \n",
              "1118              39.0                    2124.0  \n",
              "\n",
              "[98 rows x 13 columns]"
            ]
          },
          "metadata": {
            "tags": []
          },
          "execution_count": 197
        }
      ]
    },
    {
      "cell_type": "markdown",
      "metadata": {
        "id": "dwTcuhJLmk34",
        "colab_type": "text"
      },
      "source": [
        "We have discarded about 98 datapoints which were classified as outliers. This constitutes approximately 5% of the total datapoints that we have which is 2162."
      ]
    },
    {
      "cell_type": "code",
      "metadata": {
        "id": "puW-NEw2NJD9",
        "colab_type": "code",
        "colab": {}
      },
      "source": [
        "newCovid.to_csv(r'./data.csv')\n"
      ],
      "execution_count": 0,
      "outputs": []
    },
    {
      "cell_type": "markdown",
      "metadata": {
        "id": "MC8Vn8ce6lQT",
        "colab_type": "text"
      },
      "source": [
        ">The issues that I found during data cleaning of the Covid dataset were:\n",
        " \n",
        "1.   The column 'pending' had a lot of NaN values. So to resolve this I looked at the pattern of the 'pending' column in the rows which had actual values. I observed that the 'pending' column follows the formula: totaltests - positive - negative for all the rows which have data. All the rows that had a value for pending followed this patter. Because of this I updated the 'pending' column for all the rows which had NaN value using this formula.\n",
        "\n",
        "2.   The next issue was for the columns : 'deathIncrease', 'negativeIncrease', 'positiveIncrease', 'totalTestResultsIncrease'. For all the states these columns had some NaN values. To resolve this I used the cumulative deaths, cumulative negatives, cumulative positive and cumulative total tests of the previous day to calculate this value. And if the date of missing value was the first day of entry for a particular state, I assigned it 0.\n",
        "\n",
        "3. The column 'recovered' too had missing data. To resolve this I set the recovered value to 0 if there have been no positive cases in that state upto that date.\n",
        "\n",
        "\n",
        ">For the outlier detection of covid dataset: \n",
        "I found 98 outliers out of the 2162 datapoints that I had which is less than 5% of the total data. And these were found individually for every state. I grouped the data by states and found the outliers because the covid outbreak started in different states at different points in time. Because of this if we do outlier detection for the data as a whole, we will get incorrect outliers as for example, the other states at one point compared to NY had very less cases which might be incorrectly measured as outliers.\n",
        "\n",
        "I also chose the 'positiveIncrease' which is the number of cases on each day and the 'deathIncrease' which is the number of deaths on each day as the columns on which I wanted to do outlier detection. This is because these two columns are majorly being used throughout the project and are of utmost importance for our inferences.\n",
        "\n",
        "As you can see above, the outliers were spread across various states but were majorly from : SD, NH, NE and MN. The first half of the records seem to be discarded because of the high values of 'positiveIncrease' column. And the other half of the outliers are because of the lower values of the 'deathIncrease' column\n",
        "        \n",
        "\n"
      ]
    },
    {
      "cell_type": "markdown",
      "metadata": {
        "id": "wVFeGEz1NfE5",
        "colab_type": "text"
      },
      "source": [
        "# Datacleaning for X Dataset:"
      ]
    },
    {
      "cell_type": "markdown",
      "metadata": {
        "id": "AdZeggmnNlmL",
        "colab_type": "text"
      },
      "source": [
        ""
      ]
    },
    {
      "cell_type": "code",
      "metadata": {
        "id": "heo3jck0NjB_",
        "colab_type": "code",
        "colab": {}
      },
      "source": [
        "q1 = pd.read_csv('./QuarterlyAnnualizedPercentChange-2020-q1.csv')\n",
        "q1['Label'] = q1['Label'].str.replace('/','')\n",
        "q1['Label'] = pd.to_numeric(q1['Label'])\n",
        "q1 = q1.loc[q1.Label>300]\n",
        "q1 = q1.loc[q1.Label<400]"
      ],
      "execution_count": 0,
      "outputs": []
    },
    {
      "cell_type": "code",
      "metadata": {
        "id": "SZuPRLWtNjEV",
        "colab_type": "code",
        "colab": {}
      },
      "source": [
        "q2 = pd.read_csv('./QuarterlyAnnualizedPercentChange-2020-q2.csv')\n",
        "q2['Label'] = q2['Label'].str.replace('/','')\n",
        "q2['Label'] = pd.to_numeric(q2['Label'])"
      ],
      "execution_count": 0,
      "outputs": []
    },
    {
      "cell_type": "code",
      "metadata": {
        "id": "R-5xB_x4NjG2",
        "colab_type": "code",
        "outputId": "acbd333f-1479-48b1-91c4-d07f05065bc2",
        "colab": {
          "base_uri": "https://localhost:8080/",
          "height": 1000
        }
      },
      "source": [
        "inflationQ = q1.append(q2)\n",
        "inflationQ"
      ],
      "execution_count": 201,
      "outputs": [
        {
          "output_type": "execute_result",
          "data": {
            "text/html": [
              "<div>\n",
              "<style scoped>\n",
              "    .dataframe tbody tr th:only-of-type {\n",
              "        vertical-align: middle;\n",
              "    }\n",
              "\n",
              "    .dataframe tbody tr th {\n",
              "        vertical-align: top;\n",
              "    }\n",
              "\n",
              "    .dataframe thead th {\n",
              "        text-align: right;\n",
              "    }\n",
              "</style>\n",
              "<table border=\"1\" class=\"dataframe\">\n",
              "  <thead>\n",
              "    <tr style=\"text-align: right;\">\n",
              "      <th></th>\n",
              "      <th>Label</th>\n",
              "      <th>CPI Inflation</th>\n",
              "      <th>Core CPI Inflation</th>\n",
              "      <th>PCE Inflation</th>\n",
              "      <th>Core PCE Inflation</th>\n",
              "    </tr>\n",
              "  </thead>\n",
              "  <tbody>\n",
              "    <tr>\n",
              "      <th>40</th>\n",
              "      <td>302</td>\n",
              "      <td>1.580386</td>\n",
              "      <td>2.339848</td>\n",
              "      <td>1.302104</td>\n",
              "      <td>1.707057</td>\n",
              "    </tr>\n",
              "    <tr>\n",
              "      <th>41</th>\n",
              "      <td>303</td>\n",
              "      <td>1.736083</td>\n",
              "      <td>2.339848</td>\n",
              "      <td>1.401607</td>\n",
              "      <td>1.707057</td>\n",
              "    </tr>\n",
              "    <tr>\n",
              "      <th>42</th>\n",
              "      <td>304</td>\n",
              "      <td>1.736083</td>\n",
              "      <td>2.339848</td>\n",
              "      <td>1.401607</td>\n",
              "      <td>1.707057</td>\n",
              "    </tr>\n",
              "    <tr>\n",
              "      <th>43</th>\n",
              "      <td>305</td>\n",
              "      <td>1.736083</td>\n",
              "      <td>2.339848</td>\n",
              "      <td>1.401607</td>\n",
              "      <td>1.707057</td>\n",
              "    </tr>\n",
              "    <tr>\n",
              "      <th>44</th>\n",
              "      <td>306</td>\n",
              "      <td>1.736083</td>\n",
              "      <td>2.339848</td>\n",
              "      <td>1.401607</td>\n",
              "      <td>1.707057</td>\n",
              "    </tr>\n",
              "    <tr>\n",
              "      <th>45</th>\n",
              "      <td>309</td>\n",
              "      <td>1.736083</td>\n",
              "      <td>2.339848</td>\n",
              "      <td>1.401607</td>\n",
              "      <td>1.707057</td>\n",
              "    </tr>\n",
              "    <tr>\n",
              "      <th>46</th>\n",
              "      <td>310</td>\n",
              "      <td>1.698991</td>\n",
              "      <td>2.339848</td>\n",
              "      <td>1.377906</td>\n",
              "      <td>1.707057</td>\n",
              "    </tr>\n",
              "    <tr>\n",
              "      <th>47</th>\n",
              "      <td>311</td>\n",
              "      <td>1.776681</td>\n",
              "      <td>2.441628</td>\n",
              "      <td>1.465390</td>\n",
              "      <td>1.798132</td>\n",
              "    </tr>\n",
              "    <tr>\n",
              "      <th>48</th>\n",
              "      <td>312</td>\n",
              "      <td>1.776681</td>\n",
              "      <td>2.441628</td>\n",
              "      <td>1.465390</td>\n",
              "      <td>1.798132</td>\n",
              "    </tr>\n",
              "    <tr>\n",
              "      <th>49</th>\n",
              "      <td>313</td>\n",
              "      <td>1.776681</td>\n",
              "      <td>2.441628</td>\n",
              "      <td>1.465390</td>\n",
              "      <td>1.798132</td>\n",
              "    </tr>\n",
              "    <tr>\n",
              "      <th>50</th>\n",
              "      <td>316</td>\n",
              "      <td>1.776681</td>\n",
              "      <td>2.441628</td>\n",
              "      <td>1.465390</td>\n",
              "      <td>1.798132</td>\n",
              "    </tr>\n",
              "    <tr>\n",
              "      <th>51</th>\n",
              "      <td>317</td>\n",
              "      <td>1.695354</td>\n",
              "      <td>2.441628</td>\n",
              "      <td>1.414386</td>\n",
              "      <td>1.798132</td>\n",
              "    </tr>\n",
              "    <tr>\n",
              "      <th>52</th>\n",
              "      <td>318</td>\n",
              "      <td>1.695354</td>\n",
              "      <td>2.441628</td>\n",
              "      <td>1.414386</td>\n",
              "      <td>1.798132</td>\n",
              "    </tr>\n",
              "    <tr>\n",
              "      <th>53</th>\n",
              "      <td>319</td>\n",
              "      <td>1.695354</td>\n",
              "      <td>2.441628</td>\n",
              "      <td>1.414386</td>\n",
              "      <td>1.798132</td>\n",
              "    </tr>\n",
              "    <tr>\n",
              "      <th>54</th>\n",
              "      <td>320</td>\n",
              "      <td>1.695354</td>\n",
              "      <td>2.441628</td>\n",
              "      <td>1.414386</td>\n",
              "      <td>1.798132</td>\n",
              "    </tr>\n",
              "    <tr>\n",
              "      <th>55</th>\n",
              "      <td>323</td>\n",
              "      <td>1.695354</td>\n",
              "      <td>2.441628</td>\n",
              "      <td>1.414386</td>\n",
              "      <td>1.798132</td>\n",
              "    </tr>\n",
              "    <tr>\n",
              "      <th>56</th>\n",
              "      <td>324</td>\n",
              "      <td>1.602821</td>\n",
              "      <td>2.441628</td>\n",
              "      <td>1.356342</td>\n",
              "      <td>1.798132</td>\n",
              "    </tr>\n",
              "    <tr>\n",
              "      <th>57</th>\n",
              "      <td>325</td>\n",
              "      <td>1.602821</td>\n",
              "      <td>2.441628</td>\n",
              "      <td>1.356342</td>\n",
              "      <td>1.798132</td>\n",
              "    </tr>\n",
              "    <tr>\n",
              "      <th>58</th>\n",
              "      <td>326</td>\n",
              "      <td>1.602821</td>\n",
              "      <td>2.441628</td>\n",
              "      <td>1.356342</td>\n",
              "      <td>1.798132</td>\n",
              "    </tr>\n",
              "    <tr>\n",
              "      <th>59</th>\n",
              "      <td>327</td>\n",
              "      <td>1.602821</td>\n",
              "      <td>2.441628</td>\n",
              "      <td>1.577039</td>\n",
              "      <td>2.006550</td>\n",
              "    </tr>\n",
              "    <tr>\n",
              "      <th>60</th>\n",
              "      <td>330</td>\n",
              "      <td>1.602821</td>\n",
              "      <td>2.441628</td>\n",
              "      <td>1.577039</td>\n",
              "      <td>2.006550</td>\n",
              "    </tr>\n",
              "    <tr>\n",
              "      <th>61</th>\n",
              "      <td>331</td>\n",
              "      <td>1.602821</td>\n",
              "      <td>2.441628</td>\n",
              "      <td>1.577039</td>\n",
              "      <td>2.006550</td>\n",
              "    </tr>\n",
              "    <tr>\n",
              "      <th>0</th>\n",
              "      <td>401</td>\n",
              "      <td>-1.137169</td>\n",
              "      <td>2.433789</td>\n",
              "      <td>-0.306224</td>\n",
              "      <td>1.870535</td>\n",
              "    </tr>\n",
              "    <tr>\n",
              "      <th>1</th>\n",
              "      <td>402</td>\n",
              "      <td>-1.544466</td>\n",
              "      <td>2.433789</td>\n",
              "      <td>-0.541254</td>\n",
              "      <td>1.870535</td>\n",
              "    </tr>\n",
              "    <tr>\n",
              "      <th>2</th>\n",
              "      <td>403</td>\n",
              "      <td>-1.077840</td>\n",
              "      <td>2.433789</td>\n",
              "      <td>-0.246121</td>\n",
              "      <td>1.870535</td>\n",
              "    </tr>\n",
              "    <tr>\n",
              "      <th>3</th>\n",
              "      <td>406</td>\n",
              "      <td>-0.668458</td>\n",
              "      <td>2.433789</td>\n",
              "      <td>0.012420</td>\n",
              "      <td>1.870535</td>\n",
              "    </tr>\n",
              "    <tr>\n",
              "      <th>4</th>\n",
              "      <td>407</td>\n",
              "      <td>-0.742205</td>\n",
              "      <td>2.433789</td>\n",
              "      <td>-0.034217</td>\n",
              "      <td>1.870535</td>\n",
              "    </tr>\n",
              "    <tr>\n",
              "      <th>5</th>\n",
              "      <td>408</td>\n",
              "      <td>-1.547130</td>\n",
              "      <td>2.433789</td>\n",
              "      <td>-0.542638</td>\n",
              "      <td>1.870535</td>\n",
              "    </tr>\n",
              "    <tr>\n",
              "      <th>6</th>\n",
              "      <td>409</td>\n",
              "      <td>-1.477656</td>\n",
              "      <td>2.433789</td>\n",
              "      <td>-0.498622</td>\n",
              "      <td>1.870535</td>\n",
              "    </tr>\n",
              "    <tr>\n",
              "      <th>7</th>\n",
              "      <td>410</td>\n",
              "      <td>-2.564012</td>\n",
              "      <td>1.410884</td>\n",
              "      <td>-0.992780</td>\n",
              "      <td>1.204163</td>\n",
              "    </tr>\n",
              "    <tr>\n",
              "      <th>8</th>\n",
              "      <td>413</td>\n",
              "      <td>-2.595045</td>\n",
              "      <td>1.410884</td>\n",
              "      <td>-1.010162</td>\n",
              "      <td>1.204163</td>\n",
              "    </tr>\n",
              "    <tr>\n",
              "      <th>9</th>\n",
              "      <td>414</td>\n",
              "      <td>-2.724158</td>\n",
              "      <td>1.410884</td>\n",
              "      <td>-1.082194</td>\n",
              "      <td>1.204163</td>\n",
              "    </tr>\n",
              "    <tr>\n",
              "      <th>10</th>\n",
              "      <td>415</td>\n",
              "      <td>-2.878014</td>\n",
              "      <td>1.410884</td>\n",
              "      <td>-1.168456</td>\n",
              "      <td>1.204163</td>\n",
              "    </tr>\n",
              "    <tr>\n",
              "      <th>11</th>\n",
              "      <td>416</td>\n",
              "      <td>-3.071492</td>\n",
              "      <td>1.410884</td>\n",
              "      <td>-1.277000</td>\n",
              "      <td>1.204163</td>\n",
              "    </tr>\n",
              "    <tr>\n",
              "      <th>12</th>\n",
              "      <td>417</td>\n",
              "      <td>-3.055038</td>\n",
              "      <td>1.410884</td>\n",
              "      <td>-1.267765</td>\n",
              "      <td>1.204163</td>\n",
              "    </tr>\n",
              "    <tr>\n",
              "      <th>13</th>\n",
              "      <td>420</td>\n",
              "      <td>-2.999361</td>\n",
              "      <td>1.410884</td>\n",
              "      <td>-1.236524</td>\n",
              "      <td>1.204163</td>\n",
              "    </tr>\n",
              "    <tr>\n",
              "      <th>14</th>\n",
              "      <td>421</td>\n",
              "      <td>-3.318800</td>\n",
              "      <td>1.410884</td>\n",
              "      <td>-1.415655</td>\n",
              "      <td>1.204163</td>\n",
              "    </tr>\n",
              "    <tr>\n",
              "      <th>15</th>\n",
              "      <td>422</td>\n",
              "      <td>-3.930093</td>\n",
              "      <td>1.410884</td>\n",
              "      <td>-1.759461</td>\n",
              "      <td>1.204163</td>\n",
              "    </tr>\n",
              "    <tr>\n",
              "      <th>16</th>\n",
              "      <td>423</td>\n",
              "      <td>-3.747746</td>\n",
              "      <td>1.410884</td>\n",
              "      <td>-1.656825</td>\n",
              "      <td>1.204163</td>\n",
              "    </tr>\n",
              "    <tr>\n",
              "      <th>17</th>\n",
              "      <td>424</td>\n",
              "      <td>-3.616438</td>\n",
              "      <td>1.410884</td>\n",
              "      <td>-1.582959</td>\n",
              "      <td>1.204163</td>\n",
              "    </tr>\n",
              "    <tr>\n",
              "      <th>18</th>\n",
              "      <td>427</td>\n",
              "      <td>-3.572852</td>\n",
              "      <td>1.410884</td>\n",
              "      <td>-1.558448</td>\n",
              "      <td>1.204163</td>\n",
              "    </tr>\n",
              "    <tr>\n",
              "      <th>19</th>\n",
              "      <td>428</td>\n",
              "      <td>-3.825872</td>\n",
              "      <td>1.410884</td>\n",
              "      <td>-1.700631</td>\n",
              "      <td>1.204163</td>\n",
              "    </tr>\n",
              "    <tr>\n",
              "      <th>20</th>\n",
              "      <td>429</td>\n",
              "      <td>-3.760440</td>\n",
              "      <td>1.410884</td>\n",
              "      <td>-1.663803</td>\n",
              "      <td>1.204163</td>\n",
              "    </tr>\n",
              "    <tr>\n",
              "      <th>21</th>\n",
              "      <td>430</td>\n",
              "      <td>-3.387528</td>\n",
              "      <td>1.410884</td>\n",
              "      <td>-1.680675</td>\n",
              "      <td>1.084328</td>\n",
              "    </tr>\n",
              "    <tr>\n",
              "      <th>22</th>\n",
              "      <td>501</td>\n",
              "      <td>-3.193792</td>\n",
              "      <td>1.410884</td>\n",
              "      <td>-1.568480</td>\n",
              "      <td>1.084328</td>\n",
              "    </tr>\n",
              "    <tr>\n",
              "      <th>23</th>\n",
              "      <td>504</td>\n",
              "      <td>-2.924398</td>\n",
              "      <td>1.410884</td>\n",
              "      <td>-1.407624</td>\n",
              "      <td>1.084328</td>\n",
              "    </tr>\n",
              "    <tr>\n",
              "      <th>24</th>\n",
              "      <td>505</td>\n",
              "      <td>-3.087977</td>\n",
              "      <td>1.410884</td>\n",
              "      <td>-1.502191</td>\n",
              "      <td>1.084328</td>\n",
              "    </tr>\n",
              "    <tr>\n",
              "      <th>25</th>\n",
              "      <td>506</td>\n",
              "      <td>-2.964688</td>\n",
              "      <td>1.410884</td>\n",
              "      <td>-1.430819</td>\n",
              "      <td>1.084328</td>\n",
              "    </tr>\n",
              "    <tr>\n",
              "      <th>26</th>\n",
              "      <td>507</td>\n",
              "      <td>-3.040627</td>\n",
              "      <td>1.410884</td>\n",
              "      <td>-1.474777</td>\n",
              "      <td>1.084328</td>\n",
              "    </tr>\n",
              "    <tr>\n",
              "      <th>27</th>\n",
              "      <td>508</td>\n",
              "      <td>-3.063894</td>\n",
              "      <td>1.410884</td>\n",
              "      <td>-1.488247</td>\n",
              "      <td>1.084328</td>\n",
              "    </tr>\n",
              "  </tbody>\n",
              "</table>\n",
              "</div>"
            ],
            "text/plain": [
              "    Label  CPI Inflation  Core CPI Inflation  PCE Inflation  \\\n",
              "40    302       1.580386            2.339848       1.302104   \n",
              "41    303       1.736083            2.339848       1.401607   \n",
              "42    304       1.736083            2.339848       1.401607   \n",
              "43    305       1.736083            2.339848       1.401607   \n",
              "44    306       1.736083            2.339848       1.401607   \n",
              "45    309       1.736083            2.339848       1.401607   \n",
              "46    310       1.698991            2.339848       1.377906   \n",
              "47    311       1.776681            2.441628       1.465390   \n",
              "48    312       1.776681            2.441628       1.465390   \n",
              "49    313       1.776681            2.441628       1.465390   \n",
              "50    316       1.776681            2.441628       1.465390   \n",
              "51    317       1.695354            2.441628       1.414386   \n",
              "52    318       1.695354            2.441628       1.414386   \n",
              "53    319       1.695354            2.441628       1.414386   \n",
              "54    320       1.695354            2.441628       1.414386   \n",
              "55    323       1.695354            2.441628       1.414386   \n",
              "56    324       1.602821            2.441628       1.356342   \n",
              "57    325       1.602821            2.441628       1.356342   \n",
              "58    326       1.602821            2.441628       1.356342   \n",
              "59    327       1.602821            2.441628       1.577039   \n",
              "60    330       1.602821            2.441628       1.577039   \n",
              "61    331       1.602821            2.441628       1.577039   \n",
              "0     401      -1.137169            2.433789      -0.306224   \n",
              "1     402      -1.544466            2.433789      -0.541254   \n",
              "2     403      -1.077840            2.433789      -0.246121   \n",
              "3     406      -0.668458            2.433789       0.012420   \n",
              "4     407      -0.742205            2.433789      -0.034217   \n",
              "5     408      -1.547130            2.433789      -0.542638   \n",
              "6     409      -1.477656            2.433789      -0.498622   \n",
              "7     410      -2.564012            1.410884      -0.992780   \n",
              "8     413      -2.595045            1.410884      -1.010162   \n",
              "9     414      -2.724158            1.410884      -1.082194   \n",
              "10    415      -2.878014            1.410884      -1.168456   \n",
              "11    416      -3.071492            1.410884      -1.277000   \n",
              "12    417      -3.055038            1.410884      -1.267765   \n",
              "13    420      -2.999361            1.410884      -1.236524   \n",
              "14    421      -3.318800            1.410884      -1.415655   \n",
              "15    422      -3.930093            1.410884      -1.759461   \n",
              "16    423      -3.747746            1.410884      -1.656825   \n",
              "17    424      -3.616438            1.410884      -1.582959   \n",
              "18    427      -3.572852            1.410884      -1.558448   \n",
              "19    428      -3.825872            1.410884      -1.700631   \n",
              "20    429      -3.760440            1.410884      -1.663803   \n",
              "21    430      -3.387528            1.410884      -1.680675   \n",
              "22    501      -3.193792            1.410884      -1.568480   \n",
              "23    504      -2.924398            1.410884      -1.407624   \n",
              "24    505      -3.087977            1.410884      -1.502191   \n",
              "25    506      -2.964688            1.410884      -1.430819   \n",
              "26    507      -3.040627            1.410884      -1.474777   \n",
              "27    508      -3.063894            1.410884      -1.488247   \n",
              "\n",
              "    Core PCE Inflation  \n",
              "40            1.707057  \n",
              "41            1.707057  \n",
              "42            1.707057  \n",
              "43            1.707057  \n",
              "44            1.707057  \n",
              "45            1.707057  \n",
              "46            1.707057  \n",
              "47            1.798132  \n",
              "48            1.798132  \n",
              "49            1.798132  \n",
              "50            1.798132  \n",
              "51            1.798132  \n",
              "52            1.798132  \n",
              "53            1.798132  \n",
              "54            1.798132  \n",
              "55            1.798132  \n",
              "56            1.798132  \n",
              "57            1.798132  \n",
              "58            1.798132  \n",
              "59            2.006550  \n",
              "60            2.006550  \n",
              "61            2.006550  \n",
              "0             1.870535  \n",
              "1             1.870535  \n",
              "2             1.870535  \n",
              "3             1.870535  \n",
              "4             1.870535  \n",
              "5             1.870535  \n",
              "6             1.870535  \n",
              "7             1.204163  \n",
              "8             1.204163  \n",
              "9             1.204163  \n",
              "10            1.204163  \n",
              "11            1.204163  \n",
              "12            1.204163  \n",
              "13            1.204163  \n",
              "14            1.204163  \n",
              "15            1.204163  \n",
              "16            1.204163  \n",
              "17            1.204163  \n",
              "18            1.204163  \n",
              "19            1.204163  \n",
              "20            1.204163  \n",
              "21            1.084328  \n",
              "22            1.084328  \n",
              "23            1.084328  \n",
              "24            1.084328  \n",
              "25            1.084328  \n",
              "26            1.084328  \n",
              "27            1.084328  "
            ]
          },
          "metadata": {
            "tags": []
          },
          "execution_count": 201
        }
      ]
    },
    {
      "cell_type": "markdown",
      "metadata": {
        "id": "XwhcW4uwN9e4",
        "colab_type": "text"
      },
      "source": [
        "In this data, we observed that the values for dates 1st April to 29th April are repeated, Hence we get rid of the rows during this time period which has NaN values."
      ]
    },
    {
      "cell_type": "code",
      "metadata": {
        "id": "55bZMHLGNjJ4",
        "colab_type": "code",
        "colab": {}
      },
      "source": [
        "inflationQ = inflationQ.dropna(subset=['CPI Inflation', 'Core CPI Inflation'])\n",
        "inf10 = pd.read_csv('./T10YIE.csv')\n",
        "inf10['DATE'] = inf10['DATE'].str.replace('-','')\n",
        "inf10['DATE'] = pd.to_numeric(inf10['DATE'])\n",
        "inf10 = inf10.loc[inf10.DATE>20200300]\n",
        "inf10['DATE'] = inf10['DATE'] - 20200000"
      ],
      "execution_count": 0,
      "outputs": []
    },
    {
      "cell_type": "code",
      "metadata": {
        "id": "yRIvLZbdOHZ1",
        "colab_type": "code",
        "outputId": "1d6a9791-652f-4a2d-ec16-a760ffca865d",
        "colab": {
          "base_uri": "https://localhost:8080/",
          "height": 153
        }
      },
      "source": [
        "xData = pd.merge(inflationQ, inf10, how='left', left_on=['Label'], right_on=['DATE'])\n",
        "xData.isna().sum()\n"
      ],
      "execution_count": 203,
      "outputs": [
        {
          "output_type": "execute_result",
          "data": {
            "text/plain": [
              "Label                 0\n",
              "CPI Inflation         0\n",
              "Core CPI Inflation    0\n",
              "PCE Inflation         0\n",
              "Core PCE Inflation    0\n",
              "DATE                  0\n",
              "T10YIE                0\n",
              "dtype: int64"
            ]
          },
          "metadata": {
            "tags": []
          },
          "execution_count": 203
        }
      ]
    },
    {
      "cell_type": "code",
      "metadata": {
        "id": "W_wKNrpiOJIB",
        "colab_type": "code",
        "outputId": "6e2f54e3-66b9-4711-c659-7f7260ebeaee",
        "colab": {
          "base_uri": "https://localhost:8080/",
          "height": 34
        }
      },
      "source": [
        "def calcAvgInflation(date, data):\n",
        "    val = 0.0\n",
        "    total = 0\n",
        "    print(date)\n",
        "    for i in range(date-7, date):\n",
        "        if(i in data['DATE'].values and pd.to_numeric(i)):\n",
        "            x = data.loc[data['DATE'] == i].T10YIE.values[0]\n",
        "            val+=pd.to_numeric(x)\n",
        "            total+=1\n",
        "    val = val/total\n",
        "    return val\n",
        "\n",
        "for i in xData.iterrows():\n",
        "    if (i[1]['T10YIE'] == '.'):\n",
        "        xData.at[i[0], 'T10YIE'] = calcAvgInflation(i[1]['DATE'],xData)"
      ],
      "execution_count": 204,
      "outputs": [
        {
          "output_type": "stream",
          "text": [
            "410\n"
          ],
          "name": "stdout"
        }
      ]
    },
    {
      "cell_type": "markdown",
      "metadata": {
        "id": "AHwdxZFHOPLw",
        "colab_type": "text"
      },
      "source": [
        "From this dataset, the data that we will be looking at is the 'PCE', 'Inflation', 'Core PCE Inflation', 'DATE', 'T10YIE'"
      ]
    },
    {
      "cell_type": "code",
      "metadata": {
        "id": "-N4suywiOXDI",
        "colab_type": "code",
        "outputId": "70e086c0-c1c1-4541-a4b7-923517e5c7e5",
        "colab": {
          "base_uri": "https://localhost:8080/",
          "height": 102
        }
      },
      "source": [
        "xData = xData[['PCE Inflation', 'Core PCE Inflation', 'DATE', 'T10YIE']]\n",
        "xData['T10YIE'] =  pd.to_numeric(xData['T10YIE'])\n",
        "xData.isna().sum()"
      ],
      "execution_count": 205,
      "outputs": [
        {
          "output_type": "execute_result",
          "data": {
            "text/plain": [
              "PCE Inflation         0\n",
              "Core PCE Inflation    0\n",
              "DATE                  0\n",
              "T10YIE                0\n",
              "dtype: int64"
            ]
          },
          "metadata": {
            "tags": []
          },
          "execution_count": 205
        }
      ]
    },
    {
      "cell_type": "markdown",
      "metadata": {
        "id": "H8QnQVJaOfTG",
        "colab_type": "text"
      },
      "source": [
        "## Outlier Detection:"
      ]
    },
    {
      "cell_type": "code",
      "metadata": {
        "id": "Q4UXc6ybOcW_",
        "colab_type": "code",
        "outputId": "427692e0-985b-4e7f-febf-2caa649d36dc",
        "colab": {
          "base_uri": "https://localhost:8080/",
          "height": 408
        }
      },
      "source": [
        "discarded = 0\n",
        "alpha = 1.5\n",
        "\n",
        "print(len(xData),'l')\n",
        "for j in ['PCE Inflation', 'Core PCE Inflation', 'T10YIE']:\n",
        "    xData = xData.sort_values([j])\n",
        "    q1 = 25/100 * len(xData)\n",
        "    q1 = math.ceil(q1)\n",
        "    q3 = 75/100 * len(xData)\n",
        "    q3 = math.ceil(q3)\n",
        "    iqr = xData[j].iloc[q3] - xData[j].iloc[q1]\n",
        "    \n",
        "    lower = xData[j].iloc[q1] - alpha*iqr\n",
        "    upper = xData[j].iloc[q3] + alpha*iqr\n",
        "    for row in xData.iterrows():\n",
        "        if (row[1][j] > upper or row[1][j] < lower):\n",
        "            discarded+=1\n",
        "            print(j)\n",
        "            print(row[1])\n",
        "            xData.drop([row[0]], axis=0, inplace=True)\n",
        "            print(discarded)\n",
        "\n",
        "print(discarded)"
      ],
      "execution_count": 206,
      "outputs": [
        {
          "output_type": "stream",
          "text": [
            "50 l\n",
            "T10YIE\n",
            "PCE Inflation           1.414386\n",
            "Core PCE Inflation      1.798132\n",
            "DATE                  319.000000\n",
            "T10YIE                  0.500000\n",
            "Name: 13, dtype: float64\n",
            "1\n",
            "T10YIE\n",
            "PCE Inflation           1.414386\n",
            "Core PCE Inflation      1.798132\n",
            "DATE                  317.000000\n",
            "T10YIE                  0.630000\n",
            "Name: 11, dtype: float64\n",
            "2\n",
            "T10YIE\n",
            "PCE Inflation           1.414386\n",
            "Core PCE Inflation      1.798132\n",
            "DATE                  318.000000\n",
            "T10YIE                  0.630000\n",
            "Name: 12, dtype: float64\n",
            "3\n",
            "3\n"
          ],
          "name": "stdout"
        }
      ]
    },
    {
      "cell_type": "code",
      "metadata": {
        "id": "xdVjyZA3Ofnd",
        "colab_type": "code",
        "colab": {}
      },
      "source": [
        "xData.to_csv(r'./xData.csv')\n"
      ],
      "execution_count": 0,
      "outputs": []
    },
    {
      "cell_type": "code",
      "metadata": {
        "id": "msxFdtNTOfBX",
        "colab_type": "code",
        "colab": {}
      },
      "source": [
        ""
      ],
      "execution_count": 0,
      "outputs": []
    },
    {
      "cell_type": "markdown",
      "metadata": {
        "id": "k-s5kWh9Jd8t",
        "colab_type": "text"
      },
      "source": [
        "### Observations:\n",
        "\n",
        "1. In the Inflation data, there were missing values for the 'T10YIE' column which is the main column that we will be using. these values were incorrectly inputted as '.'. To resolve this issue I used the average of the value of inflation from the past 7 days, based on whichever of the past 7 days exists.\n",
        "Then I also changed the data type of this column from string to float.\n",
        "2. The second issue that I observed while merging data for different quarters is that from April 1st to around middle of the month, the data was missing for a few columns in the first quarter where as it was present in the second quarter. In order to resolve this I used those rows in which the values were present. \n",
        "\n",
        "Outlier Detection : \n",
        "\n",
        ">Out of the 50 rows present, **3 outliers** are discarded based on Tu keys rule. These rows were discarded because of the outliers in the 'T10YIE' column. The rows discarded had very low values for the 'T10YIE' column. "
      ]
    },
    {
      "cell_type": "markdown",
      "metadata": {
        "id": "pxc3EL1fA2Iq",
        "colab_type": "text"
      },
      "source": [
        "### 2. Provide basic visualization of the COVID19 and X datasets to explain the general trends in data. Use histograms, timeline plots, etc., to convey any meaningful information as you need to. Comment on your findings from the graphs. "
      ]
    },
    {
      "cell_type": "markdown",
      "metadata": {
        "id": "ltPa__-6lQqY",
        "colab_type": "text"
      },
      "source": [
        "Plot to"
      ]
    },
    {
      "cell_type": "code",
      "metadata": {
        "id": "hk5DHyq8A9pA",
        "colab_type": "code",
        "outputId": "b999597b-9ac7-4ea2-f366-95936c0c4c44",
        "colab": {
          "base_uri": "https://localhost:8080/",
          "height": 1000
        }
      },
      "source": [
        "import seaborn as sns\n",
        "\n",
        "sns.set(rc={'figure.figsize':(10,20)})\n",
        "\n",
        "from matplotlib import rcParams\n",
        "\n",
        "# figure size in inches\n",
        "rcParams['figure.figsize'] = 5.7,5.27\n",
        "plotData = pd.read_csv('./data.csv')\n",
        "plotData['death'] = np.log(plotData['death'])\n",
        "# plotData['date'] = plotData['date']- 20200000\n",
        "OverallQualPlot = sns.FacetGrid(plotData, col=\"state\", margin_titles=True, col_wrap=4,height=5)\n",
        "OverallQualPlot.map(sns.barplot, \"date\", \"death\", color=\"#338844\")\n",
        "# sns.barplot.set_xticklabels(g.get_xticklabels(), rotation=90)\n"
      ],
      "execution_count": 208,
      "outputs": [
        {
          "output_type": "execute_result",
          "data": {
            "text/plain": [
              "<seaborn.axisgrid.FacetGrid at 0x7fafc18fda20>"
            ]
          },
          "metadata": {
            "tags": []
          },
          "execution_count": 208
        },
        {
          "output_type": "display_data",
          "data": {
            "image/png": "[encoded data removed]",
            "text/plain": [
              "<Figure size 1440x3240 with 33 Axes>"
            ]
          },
          "metadata": {
            "tags": []
          }
        }
      ]
    },
    {
      "cell_type": "code",
      "metadata": {
        "id": "BjhZMHl79kXx",
        "colab_type": "code",
        "outputId": "78dd6db5-73d1-4471-f18f-d8e0784451b6",
        "colab": {
          "base_uri": "https://localhost:8080/",
          "height": 574
        }
      },
      "source": [
        "cumData1 = newCovid[['deathIncrease', 'date']]\n",
        "\n",
        "totalpositives = cumData1['deathIncrease'].groupby(cumData1['date']) \n",
        "x = totalpositives.sum()\n",
        "\n",
        "plt.figure(figsize=(15,8))\n",
        "\n",
        "g = sns.barplot(x.keys(),x)\n",
        "g.set_xticklabels(g.get_xticklabels(), rotation=90)\n",
        "plt.xlabel('Date as : YYYYMMDD', size=17)\n",
        "plt.ylabel('# of Deaths', size=17)\n",
        "plt.title(\"Number of deaths each day in US\", size = 20);"
      ],
      "execution_count": 209,
      "outputs": [
        {
          "output_type": "display_data",
          "data": {
            "image/png": "[encoded data removed]",
            "text/plain": [
              "<Figure size 1080x576 with 1 Axes>"
            ]
          },
          "metadata": {
            "tags": []
          }
        }
      ]
    },
    {
      "cell_type": "markdown",
      "metadata": {
        "id": "wKBs9Fy296OV",
        "colab_type": "text"
      },
      "source": [
        ">The above graph gives us the number of deaths on each day from March 1st 2020 to 9th May 2020. As we can see, the number of deaths have been increasing from March to May. The increase in deaths was steep from March 20th to April 7th. There is no specific pattern in the number of deaths each day. But there has not been a steep increase in deaths over these few months. \n",
        "\n",
        "\n"
      ]
    },
    {
      "cell_type": "code",
      "metadata": {
        "id": "ESfsFf3B_NbG",
        "colab_type": "code",
        "outputId": "cc81e829-c5e8-49c8-de73-6fb2e1f1ec1b",
        "colab": {
          "base_uri": "https://localhost:8080/",
          "height": 591
        }
      },
      "source": [
        "cumData1 = newCovid[['positiveIncrease', 'date']]\n",
        "plt.figure(figsize=(15,8))\n",
        "\n",
        "totalpositives = cumData1['positiveIncrease'].groupby(cumData1['date']) \n",
        "x = totalpositives.sum()\n",
        "\n",
        "g = sns.barplot(x.keys(),x,color=\"#338844\")\n",
        "\n",
        "g.set_xticklabels(g.get_xticklabels(), rotation=90)\n",
        "\n",
        "plt.title(\"Number of positive cases each day\", size = 20);\n",
        "plt.xlabel('Date as : YYYYMMDD', size=17)\n",
        "plt.ylabel('# of Positive Cases', size=17)\n"
      ],
      "execution_count": 210,
      "outputs": [
        {
          "output_type": "execute_result",
          "data": {
            "text/plain": [
              "Text(0, 0.5, '# of Positive Cases')"
            ]
          },
          "metadata": {
            "tags": []
          },
          "execution_count": 210
        },
        {
          "output_type": "display_data",
          "data": {
            "image/png": "[encoded data removed]",
            "text/plain": [
              "<Figure size 1080x576 with 1 Axes>"
            ]
          },
          "metadata": {
            "tags": []
          }
        }
      ]
    },
    {
      "cell_type": "markdown",
      "metadata": {
        "id": "HP6xUUTO_Nvs",
        "colab_type": "text"
      },
      "source": [
        "> The above graph shows us the number of positive cases that are coming up each day from 1st March 2020 to 9th May 2020. We can observe a similar distribution in this graph as we saw for deaths. However the values on the y axis differ greatly. The number of positive cases each day is way more than the number of deaths. There was a steep increase in the number of positive cases from around 10th March to 3rd April and this kind of increase was not observed at later stages. The number of positive cases have been similar over the past month in the United States."
      ]
    },
    {
      "cell_type": "markdown",
      "metadata": {
        "id": "2AMY-w2-OBlO",
        "colab_type": "text"
      },
      "source": [
        ""
      ]
    },
    {
      "cell_type": "code",
      "metadata": {
        "id": "o4Knjo-IOB9A",
        "colab_type": "code",
        "outputId": "9f3e4e45-5f45-4d6b-86b8-50a0630379b2",
        "colab": {
          "base_uri": "https://localhost:8080/",
          "height": 379
        }
      },
      "source": [
        "q1_data=pd.read_csv(\"./QuarterlyAnnualizedPercentChange-2020-q1.csv\")\n",
        "q2_data=pd.read_csv(\"./QuarterlyAnnualizedPercentChange-2020-q2.csv\")\n",
        "X_dataset = pd.concat([q1_data,q2_data])\n",
        "X_dataset['date']=X_dataset.apply(lambda row: int(\"2020\"+(row['Label'].split(\"/\")[0])+(row['Label'].split(\"/\")[1])),axis=1)\n",
        "X_data=X_dataset[(X_dataset.date>=20200301) & (X_dataset.date<=20200509)]\n",
        "# import matplotlib.pyplot as plt\n",
        "# plt.plot((X_data['CPI Inflation']),(X_data['date']))\n",
        "\n",
        "import seaborn as sns; sns.set()\n",
        "import matplotlib.pyplot as plt\n",
        "plt.figure(figsize=(30,10))\n",
        "\n",
        "ax = sns.lineplot(x=\"Label\", y=\"CPI Inflation\", data=X_dataset)\n",
        "ax.set_xticklabels(X_dataset.Label,rotation=60)\n",
        "ax = sns.lineplot(x=\"Label\", y=\"PCE Inflation\", data=X_dataset)\n"
      ],
      "execution_count": 211,
      "outputs": [
        {
          "output_type": "display_data",
          "data": {
            "image/png": "[encoded data removed]",
            "text/plain": [
              "<Figure size 2160x720 with 1 Axes>"
            ]
          },
          "metadata": {
            "tags": []
          }
        }
      ]
    },
    {
      "cell_type": "markdown",
      "metadata": {
        "id": "XtYC2P0oOCNe",
        "colab_type": "text"
      },
      "source": [
        ""
      ]
    },
    {
      "cell_type": "markdown",
      "metadata": {
        "id": "dFZ07svUA-pq",
        "colab_type": "text"
      },
      "source": [
        "###3. Solve the required inferences for your dataset. See “Required inferences” section below. Only use tools/tests learned in class. Show your work clearly and comment on results as appropriate."
      ]
    },
    {
      "cell_type": "markdown",
      "metadata": {
        "id": "qVHapK-TBVaa",
        "colab_type": "text"
      },
      "source": [
        "##Required Inference 1\n",
        "\n",
        "1. Use your COVID19 dataset to predict the COVID19 fatality and #cases for the next one week. Use the following four prediction techniques: (i) AR(3), (ii) AR(5), (iii) EWMA with alpha = 0.5, and (iv) EWMA with alpha = 0.8. Make sure that your dataset allows you to verify the one week prediction. For example, use the first three weeks of data to predict the fourth week, and report the accuracy of your predictions using the actual fourth week data. Use metrics learned in class (MAPE as a % and MSE) to report accuracy numbers."
      ]
    },
    {
      "cell_type": "code",
      "metadata": {
        "id": "63-siDdajoT8",
        "colab_type": "code",
        "colab": {}
      },
      "source": [
        "state = 'NY'\n",
        "#get the 'positiveIncrease', 'deathIncrease' values for the 1st 28 days for the given state\n",
        "onemonth = covidData[(covidData.state==state) & (covidData.positiveIncrease.notnull())][['date','state', 'positiveIncrease', 'deathIncrease']].head(28)"
      ],
      "execution_count": 0,
      "outputs": []
    },
    {
      "cell_type": "code",
      "metadata": {
        "id": "NmmTH6DdkBFh",
        "colab_type": "code",
        "colab": {}
      },
      "source": [
        "#calculates the expected value y_hat for next day.\n",
        "def nextDayAR(p, y):\n",
        "    X = pd.DataFrame()\n",
        "    #constructs a matrix X used to calculate the values for beta using all the previous values of y\n",
        "    for i in range(0,p):\n",
        "        tempX = y.iloc[i:(y.shape[0]-p+i)]\n",
        "        tempX.reset_index(drop=True, inplace=True)\n",
        "        X.insert(loc=0, column = i, value = tempX)\n",
        "    X.reset_index(drop=True, inplace=True)\n",
        "    X.insert(loc=0, column = p, value = 1)\n",
        "    \n",
        "    #OLS calculation to find beta\n",
        "    x = np.array(X)\n",
        "    x_transpose = x.transpose()\n",
        "    b_ols = np.dot(pinv(np.dot(x_transpose, x)), np.dot(x_transpose, y.iloc[p:]))\n",
        "\n",
        "    #y_hat = beta0 + beta1*y(t) + .... + betap*y(t-p+1)\n",
        "    y_hat = 0.0\n",
        "    for i in range(1,p+1):\n",
        "        y_hat = y_hat + b_ols[i] * y.iloc[y.shape[0]-i]\n",
        "    y_hat = y_hat + b_ols[0]\n",
        "    \n",
        "    return y_hat"
      ],
      "execution_count": 0,
      "outputs": []
    },
    {
      "cell_type": "code",
      "metadata": {
        "id": "Hijt3QODkHvD",
        "colab_type": "code",
        "colab": {}
      },
      "source": [
        "#calculation of MSE value using actual and predicted values\n",
        "def MSE(y_actual, y_predicted):\n",
        "    sum = 0.0\n",
        "    for i in range(len(y_actual)):\n",
        "        sum = sum + (y_actual[i] - y_predicted[i])**2\n",
        "    return sum/len(y_actual)"
      ],
      "execution_count": 0,
      "outputs": []
    },
    {
      "cell_type": "code",
      "metadata": {
        "id": "u-mXQnfvkKB3",
        "colab_type": "code",
        "colab": {}
      },
      "source": [
        "#calculation of MAPE using actual and predicted values\n",
        "def MAPE(y_actual, y_predicted):\n",
        "    frac = 0.0\n",
        "    for i in range(len(y_actual)):\n",
        "        frac = frac + (abs(y_actual[i] - y_predicted[i])/y_actual[i])\n",
        "    return (frac*100)/len(y_actual)"
      ],
      "execution_count": 0,
      "outputs": []
    },
    {
      "cell_type": "code",
      "metadata": {
        "id": "pw_QOfEokNB9",
        "colab_type": "code",
        "colab": {}
      },
      "source": [
        "#predicting y values for 4th week using AutoRegression\n",
        "#p - AutoRegression parameter\n",
        "#onemonth - <'date','state', 'positiveIncrease', 'deathIncrease'> values for one month\n",
        "#attr - positiveIncrease/deathIncrease for which the 4th week values need to be predicted\n",
        "def fourthWeekARandError(p, onemonth, attr):\n",
        "    y = onemonth[attr].head(21)\n",
        "    y_actual = onemonth[attr].tail(7).tolist()\n",
        "    y_pred = []\n",
        "    y.reset_index(drop=True, inplace=True)\n",
        "    #for each of the 7 days of 4th week, calculate y_hat using nextDayAR()\n",
        "    for i in range(0, 7):\n",
        "        y_hat = nextDayAR(p, y)\n",
        "        y.loc[y.shape[0]] = y_hat\n",
        "        y_pred.append(y_hat)\n",
        "    \n",
        "    #print actual, predicted, MSE error and MAPE error\n",
        "    print('AR(' + str(p) + ') for ' + attr)\n",
        "    print('y actual: ' + str(y_actual))\n",
        "    print('y predicted: ' + str(y_pred))\n",
        "    \n",
        "    print('MSE: ' + str(MSE(y_actual, y_pred)))\n",
        "    print('MAPE: ' + str(MAPE(y_actual, y_pred)))"
      ],
      "execution_count": 0,
      "outputs": []
    },
    {
      "cell_type": "code",
      "metadata": {
        "id": "IWb6GvBekPlP",
        "colab_type": "code",
        "colab": {}
      },
      "source": [
        "#predicting y values for 4th week using EWMA\n",
        "#alpha - EWMA parameter\n",
        "#onemonth - <'date','state', 'positiveIncrease', 'deathIncrease'> values for one month\n",
        "#attr - positiveIncrease/deathIncrease for which the 4th week values need to be predicted\n",
        "def EWMA(alpha, onemonth, attr):\n",
        "    y = onemonth[attr].tolist()\n",
        "    y_actual = onemonth[attr].tail(7).tolist()\n",
        "    y_pred = []\n",
        "    y_hat = y[0]\n",
        "    y_pred.append(y_hat)\n",
        "    \n",
        "    #calculating y_hat value for each day using previous day's value\n",
        "    #y_hat(t+1) = alpha * y(t) + (1-alpha) * y_hat(t)\n",
        "    for i in range(len(y)-1):\n",
        "        y_hat = (alpha * y[i]) + ((1 - alpha) * y_hat)\n",
        "        y_pred.append(y_hat)\n",
        "    \n",
        "    #print actual, predicted, MSE error and MAPE error\n",
        "    print('EWMA (alpha = ' + str(alpha) + ') for ' + attr)\n",
        "    print('y actual: ' + str(y_actual))\n",
        "    print('y predicted: ' + str(y_pred[-7:]))\n",
        "    \n",
        "    print('MSE: ' + str(MSE(y_actual, y_pred[-7:])))\n",
        "    print('MAPE: ' + str(MAPE(y_actual, y_pred[-7:])))"
      ],
      "execution_count": 0,
      "outputs": []
    },
    {
      "cell_type": "markdown",
      "metadata": {
        "id": "aPOWS0DvkeyQ",
        "colab_type": "text"
      },
      "source": [
        "###AutoRegression AR (3)"
      ]
    },
    {
      "cell_type": "markdown",
      "metadata": {
        "id": "On9xSeI7knMF",
        "colab_type": "text"
      },
      "source": [
        "predict the 4th week values for positiveIncrease"
      ]
    },
    {
      "cell_type": "code",
      "metadata": {
        "id": "cxybe5dOko_P",
        "colab_type": "code",
        "colab": {
          "base_uri": "https://localhost:8080/",
          "height": 122
        },
        "outputId": "fce65f8b-a45a-4a7f-f951-0b7204c5d1d8"
      },
      "source": [
        "fourthWeekARandError(3, onemonth, 'positiveIncrease')"
      ],
      "execution_count": 218,
      "outputs": [
        {
          "output_type": "stream",
          "text": [
            "AR(3) for positiveIncrease\n",
            "y actual: [5146.0, 6447.0, 7377.0, 7683.0, 7195.0, 6984.0, 9298.0]\n",
            "y predicted: [4356.320576700623, 3941.137082272116, 3620.573425455474, 3364.518828060703, 3164.74411828238, 3010.2026207514655, 2892.0722791179696]\n",
            "MSE: 16104700.120710215\n",
            "MAPE: 49.02174923860046\n"
          ],
          "name": "stdout"
        }
      ]
    },
    {
      "cell_type": "markdown",
      "metadata": {
        "id": "uAp8Gf3ukyyc",
        "colab_type": "text"
      },
      "source": [
        "predict the 4th week values for deathIncrease"
      ]
    },
    {
      "cell_type": "code",
      "metadata": {
        "id": "eIn2S8NmkTTf",
        "colab_type": "code",
        "colab": {
          "base_uri": "https://localhost:8080/",
          "height": 122
        },
        "outputId": "cdc425f5-6301-4792-a93e-e307c7d2f473"
      },
      "source": [
        "fourthWeekARandError(3, onemonth, 'deathIncrease')"
      ],
      "execution_count": 219,
      "outputs": [
        {
          "output_type": "stream",
          "text": [
            "AR(3) for deathIncrease\n",
            "y actual: [75.0, 100.0, 134.0, 209.0, 237.0, 253.0, 332.0]\n",
            "y predicted: [-201.958096556656, -60.09165723963686, -920.2800522026408, -334.77671661429224, -1969.296308433993, 1136.4180833918435, -934.091529548547]\n",
            "MSE: 1251527.6205482867\n",
            "MAPE: 462.54031652637156\n"
          ],
          "name": "stdout"
        }
      ]
    },
    {
      "cell_type": "markdown",
      "metadata": {
        "id": "vgvrk9sUk4Bz",
        "colab_type": "text"
      },
      "source": [
        "###AutoRegression AR (5)"
      ]
    },
    {
      "cell_type": "markdown",
      "metadata": {
        "id": "hvU9aUOqk8xr",
        "colab_type": "text"
      },
      "source": [
        "predict the 4th week values for positiveIncrease"
      ]
    },
    {
      "cell_type": "code",
      "metadata": {
        "id": "jk0pViank_V1",
        "colab_type": "code",
        "colab": {
          "base_uri": "https://localhost:8080/",
          "height": 122
        },
        "outputId": "bfd8477b-f715-48f8-a93c-3584d944efcc"
      },
      "source": [
        "fourthWeekARandError(5, onemonth, 'positiveIncrease')"
      ],
      "execution_count": 220,
      "outputs": [
        {
          "output_type": "stream",
          "text": [
            "AR(5) for positiveIncrease\n",
            "y actual: [5146.0, 6447.0, 7377.0, 7683.0, 7195.0, 6984.0, 9298.0]\n",
            "y predicted: [3481.8203178472954, -1006.6223983507698, -10841.658287269096, -25065.844602001285, -47119.864398301295, -78449.01052417465, -115323.83983003342]\n",
            "MSE: 3891748436.839728\n",
            "MAPE: 591.377501893965\n"
          ],
          "name": "stdout"
        }
      ]
    },
    {
      "cell_type": "markdown",
      "metadata": {
        "id": "fuduXNbXk_-K",
        "colab_type": "text"
      },
      "source": [
        "predict the 4th week values for deathIncrease"
      ]
    },
    {
      "cell_type": "code",
      "metadata": {
        "id": "H0k2h3RolFjz",
        "colab_type": "code",
        "colab": {
          "base_uri": "https://localhost:8080/",
          "height": 122
        },
        "outputId": "3d340fe8-a2f1-4773-ae5a-8f58d070db35"
      },
      "source": [
        "fourthWeekARandError(5, onemonth, 'deathIncrease')"
      ],
      "execution_count": 221,
      "outputs": [
        {
          "output_type": "stream",
          "text": [
            "AR(5) for deathIncrease\n",
            "y actual: [75.0, 100.0, 134.0, 209.0, 237.0, 253.0, 332.0]\n",
            "y predicted: [-181.51868658156926, 17.312962768717878, -669.3495803352197, 168.20513640016304, -1075.5178809209297, 1996.3529285402929, -776.3944873455906]\n",
            "MSE: 958599.2446539716\n",
            "MAPE: 374.3538166318466\n"
          ],
          "name": "stdout"
        }
      ]
    },
    {
      "cell_type": "markdown",
      "metadata": {
        "id": "I_63hG0dlPRC",
        "colab_type": "text"
      },
      "source": [
        "###EWMA (0.5)"
      ]
    },
    {
      "cell_type": "markdown",
      "metadata": {
        "id": "63bfu12olUEO",
        "colab_type": "text"
      },
      "source": [
        "predict the 4th week values for positiveIncrease"
      ]
    },
    {
      "cell_type": "code",
      "metadata": {
        "id": "pOT5UNMwlYAv",
        "colab_type": "code",
        "colab": {
          "base_uri": "https://localhost:8080/",
          "height": 122
        },
        "outputId": "a5dec6b5-028c-4429-cd39-27c60a94faf0"
      },
      "source": [
        "EWMA(0.5, onemonth, 'positiveIncrease')"
      ],
      "execution_count": 222,
      "outputs": [
        {
          "output_type": "stream",
          "text": [
            "EWMA (alpha = 0.5) for positiveIncrease\n",
            "y actual: [5146.0, 6447.0, 7377.0, 7683.0, 7195.0, 6984.0, 9298.0]\n",
            "y predicted: [4755.463296890259, 4950.731648445129, 5698.865824222565, 6537.932912111282, 7110.466456055641, 7152.733228027821, 7068.36661401391]\n",
            "MSE: 1646504.671744999\n",
            "MAPE: 13.71722614735865\n"
          ],
          "name": "stdout"
        }
      ]
    },
    {
      "cell_type": "markdown",
      "metadata": {
        "id": "PcLCfv6OlZIO",
        "colab_type": "text"
      },
      "source": [
        "predict the 4th week values for deathIncrease"
      ]
    },
    {
      "cell_type": "code",
      "metadata": {
        "id": "XxFkqQlElZmD",
        "colab_type": "code",
        "colab": {
          "base_uri": "https://localhost:8080/",
          "height": 122
        },
        "outputId": "76b205b0-667b-4ea6-a83c-c3eb0543cfc7"
      },
      "source": [
        "EWMA(0.5, onemonth, 'deathIncrease')"
      ],
      "execution_count": 223,
      "outputs": [
        {
          "output_type": "stream",
          "text": [
            "EWMA (alpha = 0.5) for deathIncrease\n",
            "y actual: [75.0, 100.0, 134.0, 209.0, 237.0, 253.0, 332.0]\n",
            "y predicted: [58.0810546875, 66.54052734375, 83.270263671875, 108.6351318359375, 158.81756591796875, 197.90878295898438, 225.4543914794922]\n",
            "MSE: 4935.985974212743\n",
            "MAPE: 32.679021540552164\n"
          ],
          "name": "stdout"
        }
      ]
    },
    {
      "cell_type": "markdown",
      "metadata": {
        "id": "J43qKWEPledA",
        "colab_type": "text"
      },
      "source": [
        "###EWMA(0.8)"
      ]
    },
    {
      "cell_type": "markdown",
      "metadata": {
        "id": "6gRuuk6PligG",
        "colab_type": "text"
      },
      "source": [
        "predict the 4th week values for positiveIncrease"
      ]
    },
    {
      "cell_type": "code",
      "metadata": {
        "id": "rT_r-MNAlns6",
        "colab_type": "code",
        "colab": {
          "base_uri": "https://localhost:8080/",
          "height": 122
        },
        "outputId": "c0789c4d-e025-4243-baf9-be373caa0914"
      },
      "source": [
        "EWMA(0.8, onemonth, 'positiveIncrease')"
      ],
      "execution_count": 224,
      "outputs": [
        {
          "output_type": "stream",
          "text": [
            "EWMA (alpha = 0.8) for positiveIncrease\n",
            "y actual: [5146.0, 6447.0, 7377.0, 7683.0, 7195.0, 6984.0, 9298.0]\n",
            "y predicted: [4924.201866805894, 5101.640373361179, 6177.928074672236, 7137.185614934448, 7573.83712298689, 7270.767424597378, 7041.353484919476]\n",
            "MSE: 1273297.19678859\n",
            "MAPE: 11.739723073290486\n"
          ],
          "name": "stdout"
        }
      ]
    },
    {
      "cell_type": "markdown",
      "metadata": {
        "id": "eay_2zU2lopb",
        "colab_type": "text"
      },
      "source": [
        "predict the 4th week values for deathIncrease"
      ]
    },
    {
      "cell_type": "code",
      "metadata": {
        "id": "Sy7WbnCElpJu",
        "colab_type": "code",
        "colab": {
          "base_uri": "https://localhost:8080/",
          "height": 122
        },
        "outputId": "f1ed0518-d893-481f-838a-0a1f1890c2c7"
      },
      "source": [
        "EWMA(0.8, onemonth, 'deathIncrease')"
      ],
      "execution_count": 225,
      "outputs": [
        {
          "output_type": "stream",
          "text": [
            "EWMA (alpha = 0.8) for deathIncrease\n",
            "y actual: [75.0, 100.0, 134.0, 209.0, 237.0, 253.0, 332.0]\n",
            "y predicted: [79.12730542080001, 75.82546108416, 95.165092216832, 126.2330184433664, 192.4466036886733, 228.08932073773468, 248.01786414754693]\n",
            "MSE: 2659.7874981249706\n",
            "MAPE: 21.74302251314577\n"
          ],
          "name": "stdout"
        }
      ]
    },
    {
      "cell_type": "markdown",
      "metadata": {
        "id": "boY0M16ABVxM",
        "colab_type": "text"
      },
      "source": [
        "## Required Inference 2\n",
        "2. Apply the Wald’s test, Z-test, and t-test (assume all are applicable) to check whether the mean of COVID19 deaths and #cases are different from the second-last week to the last week in your dataset. Use MLE for Wald’s test as the estimator; assume for Wald’s estimator purposes that daily data is Poisson distributed. Note, you have to report results for deaths and #cases separately, so think of this as two inferences. After running the test and reporting the numbers, check and comment on whether the tests are applicable or not. First use one-sample tests by computing the mean of the second-last week data and using that as guess for last week data. Then, repeat with a two-sample version of Wald and t-tests. For t-test, use both paired and unpaired tests. Use alpha value of 0.05 for all. For t-test, the threshold to check against is tn-1, alpha/2 for two-tailed, where n is the number of data points. You can find these values in online t tables, similar to z tables. For Z-test, use the sample standard deviation of the entire covid19 dataset you have and use that as the true sigma value."
      ]
    },
    {
      "cell_type": "markdown",
      "metadata": {
        "id": "v_1cygUwEKTo",
        "colab_type": "text"
      },
      "source": [
        "#### Wald's Two Sample Test"
      ]
    },
    {
      "cell_type": "code",
      "metadata": {
        "id": "YXwdO8GBELmT",
        "colab_type": "code",
        "colab": {}
      },
      "source": [
        "covidData = pd.read_csv(r'./data.csv')\n",
        "last_week_cases = list(covidData.groupby(['date']).sum().positiveIncrease[-7:])\n",
        "second_last_week_cases = list(covidData.groupby(['date']).sum().positiveIncrease[-14:-7])\n",
        "last_week_deaths = list(covidData.groupby(['date']).sum().deathIncrease[-7:])\n",
        "second_last_week_deaths = list(covidData.groupby(['date']).sum().deathIncrease[-14:-7])"
      ],
      "execution_count": 0,
      "outputs": []
    },
    {
      "cell_type": "code",
      "metadata": {
        "id": "6vA4-ZyfEMAN",
        "colab_type": "code",
        "outputId": "288552d5-1a6c-420c-e46e-453bb8c2d8f4",
        "colab": {
          "base_uri": "https://localhost:8080/",
          "height": 85
        }
      },
      "source": [
        "def walds_two_sample_test(data_x, data_y, label):\n",
        "    theta_0 = 0\n",
        "    # used mle to estimate mean and variance\n",
        "    mle_mean_x = sum(data_x)/len(data_x)\n",
        "    mle_mean_y = sum(data_y)/len(data_y)\n",
        "\n",
        "    mle_var_x = sum([(n-mle_mean_x)**2 for n in data_x])/len(data_x)\n",
        "    mle_var_y = sum([(n-mle_mean_y)**2 for n in data_y])/len(data_y)\n",
        "\n",
        "    theta_mle = abs(mle_mean_x - mle_mean_y)\n",
        "    var_x = mle_var_x/len(data_x)\n",
        "    var_y = mle_var_y/len(data_y)\n",
        "    std_err = math.sqrt(var_x + var_y)\n",
        "\n",
        "    W = abs(theta_mle - theta_0)/std_err\n",
        "    print (label, W)\n",
        "    if W < 1.96:\n",
        "        print(\"We accept the null hypothesis\")\n",
        "    else:\n",
        "        print(\"We reject the null hypothesis\")\n",
        "\n",
        "walds_two_sample_test(last_week_cases, second_last_week_cases, \"Wald's two sample test statistic for number of cases:\")\n",
        "walds_two_sample_test(last_week_deaths, second_last_week_deaths, \"Wald's two sample test statistic for number of deaths:\")"
      ],
      "execution_count": 227,
      "outputs": [
        {
          "output_type": "stream",
          "text": [
            "Wald's two sample test statistic for number of cases: 3.0577647047382293\n",
            "We reject the null hypothesis\n",
            "Wald's two sample test statistic for number of deaths: 0.38301190667394336\n",
            "We accept the null hypothesis\n"
          ],
          "name": "stdout"
        }
      ]
    },
    {
      "cell_type": "markdown",
      "metadata": {
        "id": "-OtRxYOyNHhT",
        "colab_type": "text"
      },
      "source": [
        "For Wald's two sample test to be applicable the estimator need to be Asymptotically Normal\n",
        "\n",
        "Since we are using MLE estimator which is Asymptotically Normal the Wald's two sample test is applicable\n",
        "\n",
        "It can be concluded that as for  number of cases |Z|= 3.058 > 1.96 threshold, we reject the null hypothesis -> mean for last week's data [week 2] != mean of second last week's data(mu0).\n",
        "\n",
        "For number of deaths as well, |Z| = 0.383 < 1.96, hence we accept the null hypothesis"
      ]
    },
    {
      "cell_type": "markdown",
      "metadata": {
        "id": "dFGpYCp_Ejq_",
        "colab_type": "text"
      },
      "source": [
        "#### Wald's one sample Test"
      ]
    },
    {
      "cell_type": "code",
      "metadata": {
        "id": "ZUrr0kbVEMDY",
        "colab_type": "code",
        "outputId": "a3893812-1442-4e4b-d297-01788c00b7ac",
        "colab": {
          "base_uri": "https://localhost:8080/",
          "height": 85
        }
      },
      "source": [
        "def walds_one_sample_test(data_x, data_y, label):\n",
        "    theta_mle = sum(data_x)/len(data_x)\n",
        "    theta_0 = sum(data_y)/len(data_y)\n",
        "    mle_mean_x = sum(data_x)/len(data_x)\n",
        "    mle_var_x = sum([(n-mle_mean_x)**2 for n in data_x])/len(data_x)\n",
        "    var_x = mle_var_x/len(data_x)\n",
        "    std_err = math.sqrt(var_x)\n",
        "\n",
        "    W = abs(theta_mle - theta_0)/std_err\n",
        "    print (label, W)\n",
        "    if W < 1.96:\n",
        "        print(\"We accept the null hypothesis\")\n",
        "    else:\n",
        "        print(\"We reject the null hypothesis\")\n",
        "walds_one_sample_test(last_week_cases, second_last_week_cases, \"Wald's two sample test statistic for number of cases:\")\n",
        "walds_one_sample_test(last_week_deaths, second_last_week_deaths, \"Wald's two sample test statistic for number of deaths:\")"
      ],
      "execution_count": 228,
      "outputs": [
        {
          "output_type": "stream",
          "text": [
            "Wald's two sample test statistic for number of cases: 4.460891384661064\n",
            "We reject the null hypothesis\n",
            "Wald's two sample test statistic for number of deaths: 0.5019973235335636\n",
            "We accept the null hypothesis\n"
          ],
          "name": "stdout"
        }
      ]
    },
    {
      "cell_type": "markdown",
      "metadata": {
        "id": "-8UhR57FNVrw",
        "colab_type": "text"
      },
      "source": [
        "For Wald's one sample test to be applicable the estimator need to be Asymptotically Normal\n",
        "\n",
        "Since we are using MLE estimator which is Asymptotically Normal the Wald's one sample test is applicable\n",
        "\n",
        "It can be concluded that as for  number of cases |W|= 4.461 > 1.96 threshold, we reject the null hypothesis -> mean for last week's data [week 2] != mean of second last week's data(mu0).\n",
        "\n",
        "For number of deaths as well, |W| = 0.383 < 1.96, hence we accept the null hypothesis"
      ]
    },
    {
      "cell_type": "code",
      "metadata": {
        "id": "zduYJYukEJBF",
        "colab_type": "code",
        "outputId": "49d3fb23-1a5e-4bfd-f77f-8c176fdbe9fd",
        "colab": {
          "base_uri": "https://localhost:8080/",
          "height": 241
        }
      },
      "source": [
        "covidData = pd.read_csv(r'./data.csv')\n",
        "twoWeeksData = covidData[(covidData['date']>20200425) & (covidData['date']<=20200509)]\n",
        "twoWeeksData.head()"
      ],
      "execution_count": 229,
      "outputs": [
        {
          "output_type": "execute_result",
          "data": {
            "text/html": [
              "<div>\n",
              "<style scoped>\n",
              "    .dataframe tbody tr th:only-of-type {\n",
              "        vertical-align: middle;\n",
              "    }\n",
              "\n",
              "    .dataframe tbody tr th {\n",
              "        vertical-align: top;\n",
              "    }\n",
              "\n",
              "    .dataframe thead th {\n",
              "        text-align: right;\n",
              "    }\n",
              "</style>\n",
              "<table border=\"1\" class=\"dataframe\">\n",
              "  <thead>\n",
              "    <tr style=\"text-align: right;\">\n",
              "      <th></th>\n",
              "      <th>Unnamed: 0</th>\n",
              "      <th>date</th>\n",
              "      <th>state</th>\n",
              "      <th>positive</th>\n",
              "      <th>negative</th>\n",
              "      <th>pending</th>\n",
              "      <th>death</th>\n",
              "      <th>total</th>\n",
              "      <th>totalTestResults</th>\n",
              "      <th>fips</th>\n",
              "      <th>deathIncrease</th>\n",
              "      <th>negativeIncrease</th>\n",
              "      <th>positiveIncrease</th>\n",
              "      <th>totalTestResultsIncrease</th>\n",
              "    </tr>\n",
              "  </thead>\n",
              "  <tbody>\n",
              "    <tr>\n",
              "      <th>24</th>\n",
              "      <td>337</td>\n",
              "      <td>20200503</td>\n",
              "      <td>AL</td>\n",
              "      <td>7725.0</td>\n",
              "      <td>84775.0</td>\n",
              "      <td>0.0</td>\n",
              "      <td>290.0</td>\n",
              "      <td>92500</td>\n",
              "      <td>92500</td>\n",
              "      <td>1</td>\n",
              "      <td>2.0</td>\n",
              "      <td>0.0</td>\n",
              "      <td>291.0</td>\n",
              "      <td>291.0</td>\n",
              "    </tr>\n",
              "    <tr>\n",
              "      <th>29</th>\n",
              "      <td>561</td>\n",
              "      <td>20200429</td>\n",
              "      <td>AL</td>\n",
              "      <td>6842.0</td>\n",
              "      <td>73607.0</td>\n",
              "      <td>0.0</td>\n",
              "      <td>245.0</td>\n",
              "      <td>80449</td>\n",
              "      <td>80449</td>\n",
              "      <td>1</td>\n",
              "      <td>3.0</td>\n",
              "      <td>4467.0</td>\n",
              "      <td>155.0</td>\n",
              "      <td>4622.0</td>\n",
              "    </tr>\n",
              "    <tr>\n",
              "      <th>32</th>\n",
              "      <td>729</td>\n",
              "      <td>20200426</td>\n",
              "      <td>AL</td>\n",
              "      <td>6270.0</td>\n",
              "      <td>67281.0</td>\n",
              "      <td>0.0</td>\n",
              "      <td>216.0</td>\n",
              "      <td>73551</td>\n",
              "      <td>73551</td>\n",
              "      <td>1</td>\n",
              "      <td>4.0</td>\n",
              "      <td>2074.0</td>\n",
              "      <td>133.0</td>\n",
              "      <td>2207.0</td>\n",
              "    </tr>\n",
              "    <tr>\n",
              "      <th>34</th>\n",
              "      <td>281</td>\n",
              "      <td>20200504</td>\n",
              "      <td>AL</td>\n",
              "      <td>8025.0</td>\n",
              "      <td>95092.0</td>\n",
              "      <td>0.0</td>\n",
              "      <td>296.0</td>\n",
              "      <td>103117</td>\n",
              "      <td>103117</td>\n",
              "      <td>1</td>\n",
              "      <td>6.0</td>\n",
              "      <td>10317.0</td>\n",
              "      <td>300.0</td>\n",
              "      <td>10617.0</td>\n",
              "    </tr>\n",
              "    <tr>\n",
              "      <th>35</th>\n",
              "      <td>673</td>\n",
              "      <td>20200427</td>\n",
              "      <td>AL</td>\n",
              "      <td>6499.0</td>\n",
              "      <td>67498.0</td>\n",
              "      <td>0.0</td>\n",
              "      <td>222.0</td>\n",
              "      <td>73997</td>\n",
              "      <td>73997</td>\n",
              "      <td>1</td>\n",
              "      <td>6.0</td>\n",
              "      <td>217.0</td>\n",
              "      <td>229.0</td>\n",
              "      <td>446.0</td>\n",
              "    </tr>\n",
              "  </tbody>\n",
              "</table>\n",
              "</div>"
            ],
            "text/plain": [
              "    Unnamed: 0      date state  positive  negative  pending  death   total  \\\n",
              "24         337  20200503    AL    7725.0   84775.0      0.0  290.0   92500   \n",
              "29         561  20200429    AL    6842.0   73607.0      0.0  245.0   80449   \n",
              "32         729  20200426    AL    6270.0   67281.0      0.0  216.0   73551   \n",
              "34         281  20200504    AL    8025.0   95092.0      0.0  296.0  103117   \n",
              "35         673  20200427    AL    6499.0   67498.0      0.0  222.0   73997   \n",
              "\n",
              "    totalTestResults  fips  deathIncrease  negativeIncrease  positiveIncrease  \\\n",
              "24             92500     1            2.0               0.0             291.0   \n",
              "29             80449     1            3.0            4467.0             155.0   \n",
              "32             73551     1            4.0            2074.0             133.0   \n",
              "34            103117     1            6.0           10317.0             300.0   \n",
              "35             73997     1            6.0             217.0             229.0   \n",
              "\n",
              "    totalTestResultsIncrease  \n",
              "24                     291.0  \n",
              "29                    4622.0  \n",
              "32                    2207.0  \n",
              "34                   10617.0  \n",
              "35                     446.0  "
            ]
          },
          "metadata": {
            "tags": []
          },
          "execution_count": 229
        }
      ]
    },
    {
      "cell_type": "code",
      "metadata": {
        "id": "bVbRmFZkUSmW",
        "colab_type": "code",
        "outputId": "f4222c5e-8574-4787-ee06-82830c76d629",
        "colab": {
          "base_uri": "https://localhost:8080/",
          "height": 289
        }
      },
      "source": [
        "data = twoWeeksData.groupby('date')\n",
        "data.head()\n",
        "twoWeeksData['week'] = twoWeeksData.apply(lambda row: 'week1' if((row['date']>20200425) & (row['date']<=20200502)) else 'week2',axis=1)\n",
        "twoWeeksData['week'] = twoWeeksData.apply(lambda row: 'week1' if((row['date']>20200425) & (row['date']<=20200502)) else 'week2',axis=1)\n",
        "NoOfDeaths=twoWeeksData.groupby(['week','date']).deathIncrease.sum()\n",
        "NoOfDeaths"
      ],
      "execution_count": 230,
      "outputs": [
        {
          "output_type": "execute_result",
          "data": {
            "text/plain": [
              "week   date    \n",
              "week1  20200426     826.0\n",
              "       20200427    1055.0\n",
              "       20200428    1824.0\n",
              "       20200429    1560.0\n",
              "       20200430    1776.0\n",
              "       20200501    1418.0\n",
              "       20200502    1281.0\n",
              "week2  20200503     995.0\n",
              "       20200504     764.0\n",
              "       20200505    1563.0\n",
              "       20200506    1390.0\n",
              "       20200507    2104.0\n",
              "       20200508    1156.0\n",
              "       20200509    1235.0\n",
              "Name: deathIncrease, dtype: float64"
            ]
          },
          "metadata": {
            "tags": []
          },
          "execution_count": 230
        }
      ]
    },
    {
      "cell_type": "markdown",
      "metadata": {
        "id": "JKc2y_YLUYDp",
        "colab_type": "text"
      },
      "source": [
        "# Z statistic results\n"
      ]
    },
    {
      "cell_type": "markdown",
      "metadata": {
        "id": "cky9YqWPW2IK",
        "colab_type": "text"
      },
      "source": [
        "The assumption for Z test is true standard deviation is known and this is valid as we have precomputed std deviation for the entire dataset."
      ]
    },
    {
      "cell_type": "code",
      "metadata": {
        "id": "7F9N6csTUSqS",
        "colab_type": "code",
        "colab": {}
      },
      "source": [
        "NoOfCases=twoWeeksData.groupby(['week','date']).positiveIncrease.sum()\n",
        "\n",
        "def compute_Z_Test(NoOfCases,NoOfDeaths,alpha):\n",
        "    week1_mean_num_cases = NoOfCases['week1'].mean()\n",
        "    week1_mean_num_deaths = NoOfDeaths['week1'].mean()\n",
        "    week2_mle_num_cases= NoOfCases['week2'].mean()\n",
        "    week2_mle_num_deaths = NoOfDeaths['week2'].mean()\n",
        "    week2_num_cases_stddev = covidData['positiveIncrease'].std()\n",
        "    week2_num_deaths_stddev = covidData['deathIncrease'].std()\n",
        "    n1=len(NoOfDeaths['week1'])\n",
        "    n2=len(NoOfDeaths['week2'])\n",
        "    Z_stat_num_cases =  (week2_mle_num_cases-week1_mean_num_cases)/(week2_num_cases_stddev/np.sqrt(n2))\n",
        "    Z_stat_num_deaths =  (week2_mle_num_deaths-week1_mean_num_deaths)/(week2_num_deaths_stddev/np.sqrt(n2))\n",
        "    threshold = np.abs(st.norm.ppf(alpha/2))\n",
        "    return np.abs(Z_stat_num_cases),np.abs(Z_stat_num_deaths),threshold"
      ],
      "execution_count": 0,
      "outputs": []
    },
    {
      "cell_type": "code",
      "metadata": {
        "id": "lqIovywCUSue",
        "colab_type": "code",
        "colab": {}
      },
      "source": [
        "Z_stat_num_cases,Z_stat_num_deaths,threshold = compute_Z_Test(NoOfCases,NoOfDeaths,0.05)"
      ],
      "execution_count": 0,
      "outputs": []
    },
    {
      "cell_type": "code",
      "metadata": {
        "id": "n_ssJQu-US11",
        "colab_type": "code",
        "outputId": "fa4d8984-af6b-4235-c023-8a115de5da84",
        "colab": {
          "base_uri": "https://localhost:8080/",
          "height": 68
        }
      },
      "source": [
        "print(\"For number of cases -  last week data with m0 for second last week: |Z| =\",Z_stat_num_cases)\n",
        "print(\"For number of deaths -  last week data with m0 for second last week: |Z| =\",Z_stat_num_deaths)\n",
        "\n",
        "print(\"threshold with alpha = 0.05 is \",threshold)"
      ],
      "execution_count": 233,
      "outputs": [
        {
          "output_type": "stream",
          "text": [
            "For number of cases -  last week data with m0 for second last week: |Z| = 7.106998001565005\n",
            "For number of deaths -  last week data with m0 for second last week: |Z| = 2.3732979258122993\n",
            "threshold with alpha = 0.05 is  1.9599639845400545\n"
          ],
          "name": "stdout"
        }
      ]
    },
    {
      "cell_type": "markdown",
      "metadata": {
        "id": "qXOm34GAXGwB",
        "colab_type": "text"
      },
      "source": [
        "It can be concluded that as for  number of cases |Z|= 7.106 > 1.96 threshold, we reject the null hypothesis -> mean for last week's data [week 2] != mean of second last week's data(mu0).\n",
        "\n",
        "\n",
        "For number of deaths as well, |Z| = 2.373 > 1.96, hence we reject the null hypothesis"
      ]
    },
    {
      "cell_type": "markdown",
      "metadata": {
        "id": "JGPnIGyMYhAo",
        "colab_type": "text"
      },
      "source": [
        "## **T statistic results - One Sampled T test**"
      ]
    },
    {
      "cell_type": "code",
      "metadata": {
        "id": "9of-GUv2USw1",
        "colab_type": "code",
        "colab": {}
      },
      "source": [
        "def compute_T_Test_One_sampled(NoOfCases,NoOfDeaths,alpha):\n",
        "    week1_mean_num_cases = NoOfCases['week1'].mean()\n",
        "    week1_mean_num_deaths = NoOfDeaths['week1'].mean()\n",
        "    week2_mle_num_cases= NoOfCases['week2'].mean()\n",
        "    week2_mle_num_deaths = NoOfDeaths['week2'].mean()\n",
        "    week2_num_cases_sample_stddev= NoOfCases['week2'].std()\n",
        "    week2_num_deaths_sample_stddev = NoOfDeaths['week2'].std()\n",
        "    n1=len(NoOfDeaths['week1'])\n",
        "    n2=len(NoOfDeaths['week2'])\n",
        "    t_stat_num_cases = (week2_mle_num_cases -week1_mean_num_cases )/(week2_num_cases_sample_stddev/np.sqrt(n2))\n",
        "    t_stat_num_deaths = (week2_mle_num_deaths -week1_mean_num_deaths )/(week2_num_deaths_sample_stddev/np.sqrt(n2))\n",
        "    threshold = np.abs(st.t.ppf(alpha/2, n2-1))\n",
        "    return np.abs(t_stat_num_cases),np.abs(t_stat_num_deaths),threshold"
      ],
      "execution_count": 0,
      "outputs": []
    },
    {
      "cell_type": "code",
      "metadata": {
        "id": "5csg3nuIUSs8",
        "colab_type": "code",
        "colab": {}
      },
      "source": [
        "t_stat_num_cases,t_stat_num_deaths,threshold = compute_T_Test_One_sampled(NoOfCases,NoOfDeaths,alpha)"
      ],
      "execution_count": 0,
      "outputs": []
    },
    {
      "cell_type": "code",
      "metadata": {
        "id": "mrsvasV6USpR",
        "colab_type": "code",
        "outputId": "db074e85-99f9-43d2-ad6d-ef7e823ab68d",
        "colab": {
          "base_uri": "https://localhost:8080/",
          "height": 68
        }
      },
      "source": [
        "print(\"For number of cases - last week data with m0 for second last week: |T| =\",t_stat_num_cases)\n",
        "print(\"For number of deaths - last week data with m0 for second last week: |T| =\",t_stat_num_deaths)\n",
        "print(\"threshold with alpha = 0.05 is \",threshold)"
      ],
      "execution_count": 236,
      "outputs": [
        {
          "output_type": "stream",
          "text": [
            "For number of cases - last week data with m0 for second last week: |T| = 4.1299829068214216\n",
            "For number of deaths - last week data with m0 for second last week: |T| = 0.4647592121593977\n",
            "threshold with alpha = 0.05 is  0.7175581964909963\n"
          ],
          "name": "stdout"
        }
      ]
    },
    {
      "cell_type": "markdown",
      "metadata": {
        "id": "MzNQNGCQY7kh",
        "colab_type": "text"
      },
      "source": [
        "Here N=7, small sample size and hence T test is applicable. \n",
        "For number of cases , |T| = 4.129 > 0.717 , hence we reject null hypothesis.\n",
        "\n",
        "For number of deaths, |T|=0.46 < 0.717, hence we accept null hypothesis here. Thus, the estimated mean number of deaths for last week = mean number of deaths second last week"
      ]
    },
    {
      "cell_type": "markdown",
      "metadata": {
        "id": "PAEWFa6_UjZ-",
        "colab_type": "text"
      },
      "source": [
        "# T statistic results - Paired T Test"
      ]
    },
    {
      "cell_type": "code",
      "metadata": {
        "id": "l8z6OkhCUSlG",
        "colab_type": "code",
        "colab": {}
      },
      "source": [
        "def compute_T_Test_Paired(NoOfCases,NoOfDeaths,alpha):\n",
        "    diff_num_cases = pd.Series(NoOfCases['week2'].values- NoOfCases['week1'].values)\n",
        "    diff_num_cases_mean = diff_num_cases.mean()\n",
        "    diff_num_cases_stddev = diff_num_cases.std()\n",
        "    n1=len(NoOfDeaths['week1'])\n",
        "    n2=len(NoOfDeaths['week2'])\n",
        "    num_cases_paired_t_stat = (diff_num_cases_mean-0)/(diff_num_cases_stddev/np.sqrt(n2))\n",
        "\n",
        "    diff_num_deaths = pd.Series(NoOfDeaths['week2'].values- NoOfDeaths['week1'].values)\n",
        "    diff_num_deaths_mean = diff_num_deaths.mean()\n",
        "    diff_num_deaths_stddev = diff_num_deaths.std()\n",
        "    num_deaths_paired_t_stat = (diff_num_deaths_mean-0)/(diff_num_deaths_stddev/np.sqrt(n2))\n",
        "    threshold = np.abs(st.t.ppf(alpha/2, n2-1))\n",
        "\n",
        "    return np.abs(num_cases_paired_t_stat),np.abs(num_deaths_paired_t_stat),threshold"
      ],
      "execution_count": 0,
      "outputs": []
    },
    {
      "cell_type": "code",
      "metadata": {
        "id": "4LNgqtt3DXp3",
        "colab_type": "code",
        "outputId": "a5e79f6f-d46e-42d6-dfeb-541106c93bcd",
        "colab": {
          "base_uri": "https://localhost:8080/",
          "height": 68
        }
      },
      "source": [
        "num_cases_paired_t_stat,num_deaths_paired_t_stat,threshold = compute_T_Test_Paired(NoOfCases,NoOfDeaths,alpha)\n",
        "\n",
        "print(\"For number of cases - Paired T test: |T| for last 2 weeks data=\",num_cases_paired_t_stat)\n",
        "print(\"For number of deaths - Paired T test for last 2 weeks data: |T| =\",num_deaths_paired_t_stat)\n",
        "print(\"threshold with alpha = 0.05 (T_n_alpha) is \",threshold)"
      ],
      "execution_count": 238,
      "outputs": [
        {
          "output_type": "stream",
          "text": [
            "For number of cases - Paired T test: |T| for last 2 weeks data= 5.732845197054555\n",
            "For number of deaths - Paired T test for last 2 weeks data: |T| = 0.8364691536150204\n",
            "threshold with alpha = 0.05 (T_n_alpha) is  0.7175581964909963\n"
          ],
          "name": "stdout"
        }
      ]
    },
    {
      "cell_type": "markdown",
      "metadata": {
        "id": "cFbjeA8eY_y7",
        "colab_type": "text"
      },
      "source": [
        "Here N1=N2=7, small sample sizes are same.\n",
        "\n",
        "|T| = 5.732 > 0.717 , hence we reject null hypothesis for number of cases and |T|=0.836 hence we reject null also for number of deaths"
      ]
    },
    {
      "cell_type": "markdown",
      "metadata": {
        "id": "DYF-xTONUoy1",
        "colab_type": "text"
      },
      "source": [
        "# T statistic results - UnPaired T Test\n"
      ]
    },
    {
      "cell_type": "code",
      "metadata": {
        "id": "vkjNxjO7Uro9",
        "colab_type": "code",
        "colab": {}
      },
      "source": [
        "def compute_T_Test_Unpaired(NoOfCases,NoOfDeaths,alpha):\n",
        "    diff_mean_num_cases = NoOfCases['week2'].mean() - NoOfCases['week1'].mean()\n",
        "    week1_num_cases_sample_stddev= NoOfCases['week1'].std()\n",
        "    week2_num_cases_sample_stddev= NoOfCases['week2'].std()\n",
        "    week2_num_deaths_sample_stddev = NoOfDeaths['week2'].std()\n",
        "    n1=len(NoOfDeaths['week1'])\n",
        "    n2=len(NoOfDeaths['week2'])\n",
        "    unpaired_t_stat_num_cases = (diff_mean_num_cases-0)/(np.sqrt((week2_num_cases_sample_stddev**2/n2)+ (week1_num_cases_sample_stddev**2/n1)))\n",
        "    \n",
        "    threshold = np.abs(st.t.ppf(alpha/2, n2-1))\n",
        "\n",
        "    diff_mean_num_deaths = NoOfDeaths['week2'].mean() - NoOfDeaths['week1'].mean()\n",
        "    week1_num_deaths_sample_stddev = NoOfDeaths['week1'].std()\n",
        "    unpaired_t_stat_num_deaths = (diff_mean_num_deaths-0)/(np.sqrt((week2_num_deaths_sample_stddev**2/n2)+ (week1_num_deaths_sample_stddev**2/n1)))\n",
        "   \n",
        "    return np.abs(unpaired_t_stat_num_cases),np.abs(unpaired_t_stat_num_deaths),threshold"
      ],
      "execution_count": 0,
      "outputs": []
    },
    {
      "cell_type": "code",
      "metadata": {
        "id": "qheo_BaAUroA",
        "colab_type": "code",
        "outputId": "8f9d265c-861c-4787-832f-16fb17bc4bce",
        "colab": {
          "base_uri": "https://localhost:8080/",
          "height": 68
        }
      },
      "source": [
        "unpaired_t_stat_num_cases,unpaired_t_stat_num_deaths,threshold = compute_T_Test_Unpaired(NoOfCases,NoOfDeaths,alpha)\n",
        "\n",
        "print(\"For number of cases - UnPaired T test: |T| for last 2 weeks data=\",unpaired_t_stat_num_cases)\n",
        "print(\"For number of deaths - UnPaired T test for last 2 weeks data: |T| =\",unpaired_t_stat_num_deaths)\n",
        "print(\"threshold with alpha = 0.05 (T_n_alpha) is \",threshold)"
      ],
      "execution_count": 240,
      "outputs": [
        {
          "output_type": "stream",
          "text": [
            "For number of cases - UnPaired T test: |T| for last 2 weeks data= 2.830940024021734\n",
            "For number of deaths - UnPaired T test for last 2 weeks data: |T| = 0.3546001216509454\n",
            "threshold with alpha = 0.05 (T_n_alpha) is  0.7175581964909963\n"
          ],
          "name": "stdout"
        }
      ]
    },
    {
      "cell_type": "markdown",
      "metadata": {
        "id": "ThEU6hT9Z7gE",
        "colab_type": "text"
      },
      "source": [
        "Here N1=N2=7, small sample sizes are same.\n",
        "|T| = 2.83 > 0.717 , hence we reject null hypothesis for number of cases and |T|=0.354 hence we accept null  for number of deaths"
      ]
    },
    {
      "cell_type": "markdown",
      "metadata": {
        "id": "YxF4DEuMBV_O",
        "colab_type": "text"
      },
      "source": [
        "## Required Inference 3\n",
        "\n",
        "3. Repeat inference 2 above but for equality of distributions (distribution of second-last week and last week), using K-S test and Permutation test. For the K-S test, use both 1-sample and 2-sample tests. For the 1-sample test, try Poisson, Geometric, and Binomial. To obtain parameters of these distributions to check against in 1-sample KS, use MME on second last week’s data to obtain parameters of the distribution, and then check whether the last week’s data has the distribution with the obtained MME parameters. Use a threshold of 0.05 for both K-S test and Permutation test.\n"
      ]
    },
    {
      "cell_type": "markdown",
      "metadata": {
        "id": "l-IkRML9PHUy",
        "colab_type": "text"
      },
      "source": [
        "#### K-S Test - Two Sample"
      ]
    },
    {
      "cell_type": "code",
      "metadata": {
        "id": "LjA8thNlPY4m",
        "colab_type": "code",
        "colab": {}
      },
      "source": [
        "covidData = pd.read_csv(r'./data.csv')\n",
        "last_week_cases = list(covidData.groupby(['date']).sum().positiveIncrease[-7:])\n",
        "second_last_week_cases = list(covidData.groupby(['date']).sum().positiveIncrease[-14:-7])\n",
        "last_week_deaths = list(covidData.groupby(['date']).sum().deathIncrease[-7:])\n",
        "second_last_week_deaths = list(covidData.groupby(['date']).sum().deathIncrease[-14:-7])"
      ],
      "execution_count": 0,
      "outputs": []
    },
    {
      "cell_type": "code",
      "metadata": {
        "id": "B2QJfBenPGs8",
        "colab_type": "code",
        "colab": {
          "base_uri": "https://localhost:8080/",
          "height": 1000
        },
        "outputId": "6c0319f7-9cf2-4dd7-8b80-c962e13f9ac9"
      },
      "source": [
        "#Function to help visualize the steps in the plots\n",
        "def computeY(Y):\n",
        "    y_computed=[]\n",
        "    for y in Y:\n",
        "        y_computed.append(y)\n",
        "        y_computed.append(y)\n",
        "\n",
        "    del y_computed[-1]\n",
        "    y_computed=[0]+y_computed\n",
        "    return y_computed\n",
        "\n",
        "#Function for plotting the points\n",
        "def generatePlot(ecdf_2019,ecdf_2009,X_2019, X_2009, label1, label2, png_name,mark, max_diff):\n",
        "    fig = plt.figure(figsize=(20,10))\n",
        "    ax = fig.add_subplot(111)\n",
        "    plt.plot(X_2019, ecdf_2019 ,label='ecdf_'+label1,color='red')\n",
        "    plt.plot(X_2009, ecdf_2009 ,label='ecdf_'+label2,color='purple')\n",
        "    \n",
        "    n=len(X_2019)\n",
        "    plt.scatter(X_2019, [0]*n, color='red', marker='x', s=100, label=label1+' PTS')\n",
        "    n=len(X_2009)\n",
        "    plt.scatter(X_2009, [0]*n, color='purple', marker='x', s=100, label=label2+' PTS')\n",
        "    plt.axvline(x=mark, color='green',linestyle='--')\n",
        "    ax.annotate('  Point: '+ str(mark) +'\\n  Max Diff: '+str(max_diff),\n",
        "                xy=(mark,0.5))\n",
        "    plt.xlabel('x')\n",
        "    plt.ylabel('ecdf estimates')\n",
        "    plt.legend(loc=\"upper left\")\n",
        "    plt.grid()\n",
        "    plt.title('KS Test Two Sample ecdf_' + label1 + ' v/s ecdf_' + label2)\n",
        "    plt.savefig(png_name)\n",
        "    \n",
        "    plt.show()\n",
        "\n",
        "def ks_two_sample_test(last_week_data, second_last_week_data, label):\n",
        "    X_2019 = list(last_week_data)\n",
        "    X_2019.sort() \n",
        "\n",
        "    X_2009 = list(second_last_week_data)\n",
        "    X_2009.sort()\n",
        "\n",
        "    ecdf_2019=[]\n",
        "    ecdf_2009=[]\n",
        "\n",
        "    for x in X_2019:\n",
        "        cdf_x_2019 = sum(i<=x for i in X_2019)/len(X_2019)\n",
        "        ecdf_2019.append(cdf_x_2019)\n",
        "\n",
        "    for x in X_2009:\n",
        "        cdf_x_2009 = sum(i<=x for i in X_2009)/len(X_2009)\n",
        "        ecdf_2009.append(cdf_x_2009)\n",
        "\n",
        "    x_final_2019=[]\n",
        "    for x in X_2019:\n",
        "        x_final_2019.append(x)\n",
        "        x_final_2019.append(x)\n",
        "\n",
        "    x_final_2009=[]\n",
        "    for x in X_2009:\n",
        "        x_final_2009.append(x)\n",
        "        x_final_2009.append(x)\n",
        "\n",
        "    F_y_minus = 0\n",
        "    increment = 1/len(X_2009)\n",
        "    F_y_plus = increment\n",
        "    F_x = 0\n",
        "    mark = 0\n",
        "\n",
        "    max_diff = -1\n",
        "    for x in X_2009:\n",
        "        F_x = sum(i<=x for i in X_2019)/len(X_2019)\n",
        "        if abs(F_x - F_y_minus) > max_diff:\n",
        "            max_diff = abs(F_x - F_y_minus)\n",
        "            mark = x\n",
        "        if abs(F_x - F_y_plus) > max_diff:\n",
        "            max_diff = abs(F_x - F_y_plus)\n",
        "            mark = x\n",
        "\n",
        "        F_y_minus = F_y_plus\n",
        "        F_y_plus += increment\n",
        "    print(label)\n",
        "    print('For last week v/s second last week max difference is', max_diff, 'at point', mark)\n",
        "    if max_diff < 0.05:\n",
        "        print('Since', max_diff, 'is less than C=0.05, we reject the Null hypothesis.', 'Hence the distribution isn\\'t the same')\n",
        "    else:\n",
        "        print('Since', max_diff, 'is greater than C=0.05, we accept the Null hypothesis.', 'Hence the distribution is the same')\n",
        "\n",
        "    y_final_cdf_2019=computeY(ecdf_2019)\n",
        "    y_final_cdf_2009=computeY(ecdf_2009)\n",
        "\n",
        "    generatePlot(y_final_cdf_2019,y_final_cdf_2009, x_final_2019, x_final_2009, 'last week', 'second last week', 'PTS_2019vs2009.png',mark, max_diff)\n",
        "\n",
        "ks_two_sample_test(last_week_cases, second_last_week_cases, \"KS two sample test statistic for number of cases:\")\n",
        "ks_two_sample_test(last_week_deaths, second_last_week_deaths, \"KS two sample test statistic for number of deaths:\")"
      ],
      "execution_count": 242,
      "outputs": [
        {
          "output_type": "stream",
          "text": [
            "KS two sample test statistic for number of cases:\n",
            "For last week v/s second last week max difference is 0.5714285714285714 at point 18479.0\n",
            "Since 0.5714285714285714 is greater than C=0.05, we accept the Null hypothesis. Hence the distribution is the same\n"
          ],
          "name": "stdout"
        },
        {
          "output_type": "display_data",
          "data": {
            "image/png": "[encoded data removed]",
            "text/plain": [
              "<Figure size 1440x720 with 1 Axes>"
            ]
          },
          "metadata": {
            "tags": []
          }
        },
        {
          "output_type": "stream",
          "text": [
            "KS two sample test statistic for number of deaths:\n",
            "For last week v/s second last week max difference is 0.28571428571428575 at point 1418.0\n",
            "Since 0.28571428571428575 is greater than C=0.05, we accept the Null hypothesis. Hence the distribution is the same\n"
          ],
          "name": "stdout"
        },
        {
          "output_type": "display_data",
          "data": {
            "image/png": "[encoded data removed]",
            "text/plain": [
              "<Figure size 1440x720 with 1 Axes>"
            ]
          },
          "metadata": {
            "tags": []
          }
        }
      ]
    },
    {
      "cell_type": "markdown",
      "metadata": {
        "id": "1gNae4EbdPOV",
        "colab_type": "text"
      },
      "source": [
        "Since KS test does not have any assumption, the test is applicable for this scenario.\n",
        "\n",
        "KS two sample test statistic for number of cases:\n",
        "For last week v/s second last week max difference is 0.5714285714285714 at point 18479.0\n",
        "Since 0.5714285714285714 is greater than C=0.05, we accpet the Null hypothesis. Hence the distribution is the same\n",
        "\n",
        "KS two sample test statistic for number of deaths:\n",
        "For last week v/s second last week max difference is 0.28571428571428575 at point 1418.0\n",
        "Since 0.28571428571428575 is greater than C=0.05, we accept the Null hypothesis. Hence the distribution is the same"
      ]
    },
    {
      "cell_type": "markdown",
      "metadata": {
        "id": "3TZ2FU1zPl2V",
        "colab_type": "text"
      },
      "source": [
        "#### Permutation Test - two sample"
      ]
    },
    {
      "cell_type": "code",
      "metadata": {
        "id": "axrk260fPG2S",
        "colab_type": "code",
        "colab": {
          "base_uri": "https://localhost:8080/",
          "height": 85
        },
        "outputId": "bb3528f8-f957-434d-a04e-88075772aaca"
      },
      "source": [
        "cases_last_week = list(last_week_cases)\n",
        "cases_second_last_week = list(second_last_week_cases)\n",
        "\n",
        "def calculate_T_i(X_union_Y, len_X):\n",
        "     np.random.shuffle(X_union_Y)\n",
        "     X_i = X_union_Y[:len_X]\n",
        "     Y_i = X_union_Y[len_X:]\n",
        "     mean_X_i = sum(X_i)/len(X_i)\n",
        "     mean_Y_i = sum(Y_i)/len(Y_i)\n",
        "     return abs(mean_X_i - mean_Y_i)\n",
        "\n",
        "def calculate_p_value(X, Y, n):\n",
        "    X_union_Y = X + Y\n",
        "    len_X = len(X)\n",
        "    len_Y = len(Y)\n",
        "    mean_X = sum(X)/len_X\n",
        "    mean_Y = sum(Y)/len_Y\n",
        "    T_obs = abs(mean_X - mean_Y)\n",
        "\n",
        "    count_Ti_greater_Tobs = 0\n",
        "    for i in range(n):\n",
        "        T_i = calculate_T_i(X_union_Y, len_X)\n",
        "        if T_i > T_obs:\n",
        "            count_Ti_greater_Tobs += 1\n",
        "    p_value = count_Ti_greater_Tobs/n\n",
        "    return p_value\n",
        "\n",
        "p_value = calculate_p_value(cases_last_week, cases_second_last_week, 20000)\n",
        "print('For n=20000 last week v/s second last week pvalue:', p_value)\n",
        "print('Since', p_value, 'is less than 0.05, we reject the Null hypothesis.',\n",
        "      'Hence the distribution isnt the same')\n",
        "\n",
        "p_value = calculate_p_value(last_week_deaths, second_last_week_deaths, 20000)\n",
        "print('For n=20000 last week v/s second last week pvalue:', p_value)\n",
        "print('Since', p_value, 'is greater than 0.05, we reject accept the Null hypothesis.',\n",
        "      'Hence the distribution is the same')"
      ],
      "execution_count": 244,
      "outputs": [
        {
          "output_type": "stream",
          "text": [
            "For n=20000 last week v/s second last week pvalue: 0.0183\n",
            "Since 0.0183 is less than 0.05, we reject the Null hypothesis. Hence the distribution isnt the same\n",
            "For n=20000 last week v/s second last week pvalue: 0.72495\n",
            "Since 0.72495 is greater than 0.05, we reject accept the Null hypothesis. Hence the distribution is the same\n"
          ],
          "name": "stdout"
        }
      ]
    },
    {
      "cell_type": "markdown",
      "metadata": {
        "id": "QRRnL1I3dtjU",
        "colab_type": "text"
      },
      "source": [
        "For n=20000 last week v/s second last week pvalue: 0.018\n",
        "Since 0.018 is less than 0.05, we reject the Null hypothesis. Hence the distribution isn't remain the same\n",
        "\n",
        "For n=20000 last week v/s second last week pvalue: 0.72545\n",
        "Since 0.72545 is greater than 0.05, we cannot reject the Null hypothesis. Hence the distribution is the same"
      ]
    },
    {
      "cell_type": "markdown",
      "metadata": {
        "id": "R_LzRwcOPtFg",
        "colab_type": "text"
      },
      "source": [
        "### K-S Test - One Sample Poisson Distribution"
      ]
    },
    {
      "cell_type": "code",
      "metadata": {
        "id": "z-AUpGTAPti7",
        "colab_type": "code",
        "colab": {
          "base_uri": "https://localhost:8080/",
          "height": 1000
        },
        "outputId": "42b99a3b-c155-4941-82f7-a1847dc97530"
      },
      "source": [
        "lambda_value = sum(second_last_week_deaths)/len(second_last_week_deaths)\n",
        "cdf_poisson = poisson.cdf(last_week_deaths, lambda_value)\n",
        "\n",
        "def ks_one_sample_test(last_week_data, ecdf_2009, label):\n",
        "    X_2019 = list(last_week_data)\n",
        "    X_2019.sort()\n",
        "    ecdf_2009.sort()\n",
        "    ecdf_2019=[]\n",
        "\n",
        "    for x in X_2019:\n",
        "        cdf_x_2019 = sum(i<=x for i in X_2019)/len(X_2019)\n",
        "        ecdf_2019.append(cdf_x_2019)\n",
        "\n",
        "    x_final_2019=[]\n",
        "    for x in X_2019:\n",
        "        x_final_2019.append(x)\n",
        "        x_final_2019.append(x)\n",
        "\n",
        "    x_final_2009=[]\n",
        "    for x in X_2019:\n",
        "        x_final_2009.append(x)\n",
        "        x_final_2009.append(x)\n",
        "\n",
        "    F_y_minus = 0\n",
        "    increment = 1/len(X_2019)\n",
        "    F_y_plus = increment\n",
        "    F_x = 0\n",
        "    mark = 0\n",
        "\n",
        "    max_diff = -1\n",
        "    for i in range(7):#x in ecdf_2009:\n",
        "        F_x = ecdf_2009[i]#sum(i<=x for i in X_2019)/len(X_2019)\n",
        "        if abs(F_x - F_y_minus) > max_diff:\n",
        "            max_diff = abs(F_x - F_y_minus)\n",
        "            mark = X_2019[i]\n",
        "        if abs(F_x - F_y_plus) > max_diff:\n",
        "            max_diff = abs(F_x - F_y_plus)\n",
        "            mark = X_2019[i]\n",
        "\n",
        "        F_y_minus = F_y_plus\n",
        "        F_y_plus += increment\n",
        "    print(label)\n",
        "    print('For last week v/s second last week max difference is', max_diff, 'at point', mark)\n",
        "    if max_diff < 0.05: \n",
        "        print('Since', max_diff, 'is less than C=0.05, we reject the Null hypothesis.', 'Hence the distribution isn\\'t the same')\n",
        "    else:\n",
        "        print('Since', max_diff, 'is greater than C=0.05, we accept the Null hypothesis.', 'Hence the distribution is the same')\n",
        "\n",
        "    y_final_cdf_2019=computeY(ecdf_2019)\n",
        "    y_final_cdf_2009=computeY(ecdf_2009)\n",
        "\n",
        "    generatePlot(y_final_cdf_2019,y_final_cdf_2009, x_final_2019, x_final_2009, 'last week', 'second last week', 'PTS_2019vs2009.png',mark, max_diff)\n",
        "\n",
        "\n",
        "lambda_value_cases = sum(second_last_week_cases)/len(second_last_week_cases)\n",
        "cdf_cases=poisson.cdf(last_week_cases, lambda_value_cases)\n",
        "lambda_value_deaths = sum(second_last_week_deaths)/len(second_last_week_deaths)\n",
        "cdf_deaths=poisson.cdf(last_week_deaths, lambda_value_deaths)\n",
        "print(cdf_cases, cdf_deaths)\n",
        "ks_one_sample_test(last_week_cases, cdf_cases, \"KS two sample test statistic for number of cases:\")\n",
        "ks_one_sample_test(last_week_deaths, cdf_deaths, \"KS two sample test statistic for number of deaths:\")"
      ],
      "execution_count": 245,
      "outputs": [
        {
          "output_type": "stream",
          "text": [
            "[3.06788899e-002 2.65007817e-263 0.00000000e+000 6.89666051e-284\n",
            " 7.18669563e-020 5.44611099e-075 1.22099749e-091] [2.44044839e-29 8.63822765e-76 9.99997006e-01 4.91851263e-01\n",
            " 1.00000000e+00 4.45319944e-11 1.03321375e-05]\n",
            "KS two sample test statistic for number of cases:\n",
            "For last week v/s second last week max difference is 0.9693211101408529 at point 20087.0\n",
            "Since 0.9693211101408529 is greater than C=0.05, we accept the Null hypothesis. Hence the distribution is the same\n"
          ],
          "name": "stdout"
        },
        {
          "output_type": "display_data",
          "data": {
            "image/png": "[encoded data removed]",
            "text/plain": [
              "<Figure size 1440x720 with 1 Axes>"
            ]
          },
          "metadata": {
            "tags": []
          }
        },
        {
          "output_type": "stream",
          "text": [
            "KS two sample test statistic for number of deaths:\n",
            "For last week v/s second last week max difference is 0.571418239291088 at point 1235.0\n",
            "Since 0.571418239291088 is greater than C=0.05, we accept the Null hypothesis. Hence the distribution is the same\n"
          ],
          "name": "stdout"
        },
        {
          "output_type": "display_data",
          "data": {
            "image/png": "[encoded data removed]",
            "text/plain": [
              "<Figure size 1440x720 with 1 Axes>"
            ]
          },
          "metadata": {
            "tags": []
          }
        }
      ]
    },
    {
      "cell_type": "markdown",
      "metadata": {
        "id": "-Pu0OyCsfUSx",
        "colab_type": "text"
      },
      "source": [
        "Since KS test does not have any assumption, the test is applicable for this scenario.\n",
        "\n",
        "KS two sample test statistic for number of cases:\n",
        "For last week v/s second last week max difference is 0.9693211101408529 at point 20087.0\n",
        "Since 0.9693211101408529 is greater than C=0.05, we accept the Null hypothesis. Hence the distribution is the same\n",
        "\n",
        "KS two sample test statistic for number of deaths:\n",
        "For last week v/s second last week max difference is 0.571418239291088 at point 1235.0\n",
        "Since 0.571418239291088 is greater than C=0.05, we accept the Null hypothesis. Hence the distribution is the same"
      ]
    },
    {
      "cell_type": "markdown",
      "metadata": {
        "id": "Xg11m_zwQRDE",
        "colab_type": "text"
      },
      "source": [
        "#### K-S Test - One Sample - Geometric"
      ]
    },
    {
      "cell_type": "code",
      "metadata": {
        "id": "SCEkCDEjQRPM",
        "colab_type": "code",
        "colab": {
          "base_uri": "https://localhost:8080/",
          "height": 1000
        },
        "outputId": "4a8d1ec2-e31a-4563-aff7-e1c2cc1c8679"
      },
      "source": [
        "p_mme_deaths = 1/np.mean(second_last_week_deaths)\n",
        "print(p_mme_deaths)\n",
        "ecdf_geom_deaths = geom.cdf(last_week_deaths,p_mme_deaths)\n",
        "print(ecdf_geom_deaths)\n",
        "p_mme_cases = 1/np.mean(second_last_week_cases)\n",
        "print(p_mme_cases)\n",
        "ecdf_geom_cases = geom.cdf(last_week_cases,p_mme_cases)\n",
        "print(ecdf_geom_cases)\n",
        "ks_one_sample_test(last_week_cases, ecdf_geom_cases, \"KS one sample test statistic for number of cases:\")\n",
        "ks_one_sample_test(last_week_deaths, ecdf_geom_deaths, \"KS one sample test statistic for number of deaths:\")"
      ],
      "execution_count": 246,
      "outputs": [
        {
          "output_type": "stream",
          "text": [
            "0.0007186858316221767\n",
            "[0.51097883 0.42263081 0.6749284  0.6318749  0.77967656 0.56442989\n",
            " 0.58847936]\n",
            "4.913039206052864e-05\n",
            "[0.62727203 0.535684   0.5089838  0.53167458 0.60829034 0.5829677\n",
            " 0.57739868]\n",
            "KS one sample test statistic for number of cases:\n",
            "For last week v/s second last week max difference is 0.5089838004168078 at point 14477.0\n",
            "Since 0.5089838004168078 is greater than C=0.05, we accept the Null hypothesis. Hence the distribution is the same\n"
          ],
          "name": "stdout"
        },
        {
          "output_type": "display_data",
          "data": {
            "image/png": "[encoded data removed]",
            "text/plain": [
              "<Figure size 1440x720 with 1 Axes>"
            ]
          },
          "metadata": {
            "tags": []
          }
        },
        {
          "output_type": "stream",
          "text": [
            "KS one sample test statistic for number of deaths:\n",
            "For last week v/s second last week max difference is 0.42263081198641095 at point 764.0\n",
            "Since 0.42263081198641095 is greater than C=0.05, we accept the Null hypothesis. Hence the distribution is the same\n"
          ],
          "name": "stdout"
        },
        {
          "output_type": "display_data",
          "data": {
            "image/png": "[encoded data removed]",
            "text/plain": [
              "<Figure size 1440x720 with 1 Axes>"
            ]
          },
          "metadata": {
            "tags": []
          }
        }
      ]
    },
    {
      "cell_type": "markdown",
      "metadata": {
        "id": "9uCOx38Ue1t0",
        "colab_type": "text"
      },
      "source": [
        "Since KS test does not have any assumption, the test is applicable for this scenario.\n",
        "\n",
        "KS one sample test statistic for number of cases:\n",
        "For last week v/s second last week max difference is 0.5089838004168078 at point 14477.0\n",
        "Since 0.5089838004168078 is greater than C=0.05, we accept the Null hypothesis. Hence the distribution is the same\n",
        "\n",
        "KS one sample test statistic for number of deaths:\n",
        "For last week v/s second last week max difference is 0.42263081198641095 at point 764.0\n",
        "Since 0.42263081198641095 is greater than C=0.05, we accept the Null hypothesis. Hence the distribution is the same"
      ]
    },
    {
      "cell_type": "markdown",
      "metadata": {
        "id": "9j2wirq2RkFY",
        "colab_type": "text"
      },
      "source": [
        "#### KS for Binomial : "
      ]
    },
    {
      "cell_type": "code",
      "metadata": {
        "id": "NMAKoIClQSGR",
        "colab_type": "code",
        "colab": {
          "base_uri": "https://localhost:8080/",
          "height": 34
        },
        "outputId": "47d103cc-ee62-4f4c-f599-6e085e859747"
      },
      "source": [
        "n = len(second_last_week_cases)\n",
        "e_x = sum(second_last_week_cases)/n\n",
        "#n_bin * p_bin = e_x\n",
        "e_x_sq = sum([x**2 for x in second_last_week_cases])/len(second_last_week_cases)\n",
        "var = e_x_sq  - e_x**2\n",
        "r_bin = var/e_x\n",
        "p_bin = 1 - r_bin\n",
        "n_bin = e_x/p_bin\n",
        "print(n_bin, p_bin)\n"
      ],
      "execution_count": 247,
      "outputs": [
        {
          "output_type": "stream",
          "text": [
            "-101.97906431094269 -199.58998582237382\n"
          ],
          "name": "stdout"
        }
      ]
    },
    {
      "cell_type": "markdown",
      "metadata": {
        "id": "8Bu13uiAeau3",
        "colab_type": "text"
      },
      "source": [
        "Since we are getting invalid (-101.97906431094269, -199.58998582237382) values for n, p resp. Our distribution doesn't seem to follow the binomial distribution and hence we cannot apply the KS test assuming that the distribution is binomial"
      ]
    },
    {
      "cell_type": "markdown",
      "metadata": {
        "id": "6ZzjO4gfBWGY",
        "colab_type": "text"
      },
      "source": [
        "## Required Inference 4\n",
        "\n",
        "4. Report the Pearson correlation value for #deaths and your X dataset, and also for #cases and your X dataset over one month of data. Use the most relevant column in X to compare against the covid numbers.\n"
      ]
    },
    {
      "cell_type": "markdown",
      "metadata": {
        "id": "FbUVfvpaQBAq",
        "colab_type": "text"
      },
      "source": [
        "Extracting the cleaned data and aggregating it based on the 'date' column and agrregating it\n",
        "to get total cases over all the regions on a particular date"
      ]
    },
    {
      "cell_type": "code",
      "metadata": {
        "id": "_4W5Hh6iQBRs",
        "colab_type": "code",
        "colab": {
          "base_uri": "https://localhost:8080/",
          "height": 238
        },
        "outputId": "427b29d0-46b9-4415-ee86-a1911a731eb8"
      },
      "source": [
        "covidData=pd.read_csv('data.csv')\n",
        "covidData['date']= pd.to_datetime(covidData['date'], format='%Y%m%d')\n",
        "covidgrp=covidData.groupby('date')\n",
        "covidaggr=covidgrp.agg({\"positiveIncrease\":['sum'],\"deathIncrease\":['sum']})\n",
        "positivecolname=covidaggr.columns[0]\n",
        "deathcolname=covidaggr.columns[1]\n",
        "covidaggr[deathcolname]"
      ],
      "execution_count": 248,
      "outputs": [
        {
          "output_type": "execute_result",
          "data": {
            "text/plain": [
              "date\n",
              "2020-03-01       0.0\n",
              "2020-03-02       0.0\n",
              "2020-03-03       0.0\n",
              "2020-03-04       0.0\n",
              "2020-03-05       0.0\n",
              "               ...  \n",
              "2020-05-05    1563.0\n",
              "2020-05-06    1390.0\n",
              "2020-05-07    2104.0\n",
              "2020-05-08    1156.0\n",
              "2020-05-09    1235.0\n",
              "Name: (deathIncrease, sum), Length: 70, dtype: float64"
            ]
          },
          "metadata": {
            "tags": []
          },
          "execution_count": 248
        }
      ]
    },
    {
      "cell_type": "markdown",
      "metadata": {
        "id": "ot2apRShQBgK",
        "colab_type": "text"
      },
      "source": [
        "Extracting the XDataset and meging it with Covid Data based on the Date column (In the left table Date is index) \n",
        "Here the most relevant column is PCE Inflation"
      ]
    },
    {
      "cell_type": "code",
      "metadata": {
        "id": "P8Hx_p6qQBp8",
        "colab_type": "code",
        "colab": {}
      },
      "source": [
        "\n",
        "XData=pd.read_csv('xData.csv')\n",
        "XData['DATE']='2020'+XData['DATE'].astype(str)\n",
        "XData['DATE']= pd.to_datetime(XData['DATE'], format='%Y%m%d')\n",
        "Merged_Data=pd.merge(covidaggr, XData, left_index=True, right_on='DATE')\n",
        "#XData['PCE Inflation']\n"
      ],
      "execution_count": 0,
      "outputs": []
    },
    {
      "cell_type": "markdown",
      "metadata": {
        "id": "oLPhcr2IQC3x",
        "colab_type": "text"
      },
      "source": [
        "Computing the pearson correlation between two distributions. for computing the Expectations using the plugin estimators\n",
        "i.e considering probability as 1/n"
      ]
    },
    {
      "cell_type": "code",
      "metadata": {
        "id": "xfR6MHdGQDD0",
        "colab_type": "code",
        "colab": {}
      },
      "source": [
        "def compute_pc_coefficient(X,Y):\n",
        "    n=len(X)\n",
        "    X_mean=sum(X)/n\n",
        "    Y_mean=sum(Y)/n\n",
        "    num=0\n",
        "    den_x=0\n",
        "    den_y=0\n",
        "    for i in range(n):\n",
        "        num+=(X[i]-X_mean)*(Y[i]-Y_mean)\n",
        "        den_x+=(X[i]-X_mean)**2\n",
        "        den_y+=(Y[i]-Y_mean)**2\n",
        "    den=np.sqrt(den_x*den_y)\n",
        "    corr=num/den\n",
        "    return corr"
      ],
      "execution_count": 0,
      "outputs": []
    },
    {
      "cell_type": "code",
      "metadata": {
        "id": "iMMGaUmMQDL3",
        "colab_type": "code",
        "colab": {
          "base_uri": "https://localhost:8080/",
          "height": 51
        },
        "outputId": "2bd82a11-1605-4512-ea13-6d6bee14d3cc"
      },
      "source": [
        "#Computing the Correlation between the #deaths(new) and X dataset most relevant column is PCE Inflation\n",
        "\n",
        "#print(Merged_Data[deathcolname],Merged_Data['T10YIE'])\n",
        "corr =compute_pc_coefficient(Merged_Data[deathcolname],Merged_Data['PCE Inflation'])\n",
        "print(\"Pearson Correlation value  between #deaths and X dataset PCE Inflation is:\\t\",corr)\n",
        "\n",
        "#Computing the Correlation between the #cases(new) and X dataset most relevant column is PCE Inflation\n",
        "\n",
        "#print(Merged_Data[positivecolname],Merged_Data['T10YIE'])\n",
        "\n",
        "corr =compute_pc_coefficient(Merged_Data[positivecolname],Merged_Data['PCE Inflation'])\n",
        "print(\"Pearson Correlation value between #cases and X dataset PCE Inflation is:\\t\",corr)\n",
        "\n"
      ],
      "execution_count": 251,
      "outputs": [
        {
          "output_type": "stream",
          "text": [
            "Pearson Correlation value  between #deaths and X dataset PCE Inflation is:\t -0.8996261099728777\n",
            "Pearson Correlation value between #cases and X dataset PCE Inflation is:\t -0.7444113082533089\n"
          ],
          "name": "stdout"
        }
      ]
    },
    {
      "cell_type": "markdown",
      "metadata": {
        "id": "b-r3nDjNQD2Q",
        "colab_type": "text"
      },
      "source": [
        "As the correlation values corr<-0.5 in both the cases there is negetive correlation in both cases \n",
        "i.e, the increase in number of Deaths a day is correlated with decrease in the PCE Inflation value and similar \n",
        "in the second case.\n",
        "In the first case  #deaths and X dataset PCE Inflation there is a very high negetive correlation"
      ]
    },
    {
      "cell_type": "markdown",
      "metadata": {
        "id": "8ObyjybsBWMb",
        "colab_type": "text"
      },
      "source": [
        "##Required Inference 5\n",
        "\n",
        "5. Assume the daily deaths are Poisson distributed with parameter lambda. Assume an Exponential prior (with mean beta) on lambda. To find beta for the prior, equate the mean of the Exponential prior to that of the Poisson lambda_MME. That is, find the MME of lambda using the first week’s data, and equate this lambda to the mean of Exp(1/beta) to find beta for the prior. Use first week’s data to obtain the posterior for lambda via Bayesian inference. Now, use second week’s data to obtain the new posterior, using prior as posterior after week 1. Repeat till the end of week 4. Plot all posterior distributions on one graph. Report the MAP for all posteriors.\n"
      ]
    },
    {
      "cell_type": "markdown",
      "metadata": {
        "id": "4KF5yAIGQbc4",
        "colab_type": "text"
      },
      "source": [
        "Extracting the cleaned data and aggregating it based on the 'date' column and agrregating it\n",
        "to get total cases over all the regions on a particular date."
      ]
    },
    {
      "cell_type": "code",
      "metadata": {
        "id": "V78Ojd9gQbnq",
        "colab_type": "code",
        "colab": {
          "base_uri": "https://localhost:8080/",
          "height": 481
        },
        "outputId": "c288de9e-31e4-45ab-ddcf-643cb79742db"
      },
      "source": [
        "covidData=pd.read_csv('data.csv')\n",
        "covidData['date']= pd.to_datetime(covidData['date'], format='%Y%m%d')\n",
        "covidgrp=covidData.groupby('date')\n",
        "covidaggr=covidgrp.agg({\"positiveIncrease\":['sum'],\"deathIncrease\":['sum']})\n",
        "positivecolname=covidaggr.columns[0]\n",
        "deathcolname=covidaggr.columns[1]\n",
        "covidaggr"
      ],
      "execution_count": 252,
      "outputs": [
        {
          "output_type": "execute_result",
          "data": {
            "text/html": [
              "<div>\n",
              "<style scoped>\n",
              "    .dataframe tbody tr th:only-of-type {\n",
              "        vertical-align: middle;\n",
              "    }\n",
              "\n",
              "    .dataframe tbody tr th {\n",
              "        vertical-align: top;\n",
              "    }\n",
              "\n",
              "    .dataframe thead tr th {\n",
              "        text-align: left;\n",
              "    }\n",
              "\n",
              "    .dataframe thead tr:last-of-type th {\n",
              "        text-align: right;\n",
              "    }\n",
              "</style>\n",
              "<table border=\"1\" class=\"dataframe\">\n",
              "  <thead>\n",
              "    <tr>\n",
              "      <th></th>\n",
              "      <th>positiveIncrease</th>\n",
              "      <th>deathIncrease</th>\n",
              "    </tr>\n",
              "    <tr>\n",
              "      <th></th>\n",
              "      <th>sum</th>\n",
              "      <th>sum</th>\n",
              "    </tr>\n",
              "    <tr>\n",
              "      <th>date</th>\n",
              "      <th></th>\n",
              "      <th></th>\n",
              "    </tr>\n",
              "  </thead>\n",
              "  <tbody>\n",
              "    <tr>\n",
              "      <th>2020-03-01</th>\n",
              "      <td>0.0</td>\n",
              "      <td>0.0</td>\n",
              "    </tr>\n",
              "    <tr>\n",
              "      <th>2020-03-02</th>\n",
              "      <td>9.0</td>\n",
              "      <td>0.0</td>\n",
              "    </tr>\n",
              "    <tr>\n",
              "      <th>2020-03-03</th>\n",
              "      <td>17.0</td>\n",
              "      <td>0.0</td>\n",
              "    </tr>\n",
              "    <tr>\n",
              "      <th>2020-03-04</th>\n",
              "      <td>18.0</td>\n",
              "      <td>0.0</td>\n",
              "    </tr>\n",
              "    <tr>\n",
              "      <th>2020-03-05</th>\n",
              "      <td>44.0</td>\n",
              "      <td>0.0</td>\n",
              "    </tr>\n",
              "    <tr>\n",
              "      <th>...</th>\n",
              "      <td>...</td>\n",
              "      <td>...</td>\n",
              "    </tr>\n",
              "    <tr>\n",
              "      <th>2020-05-05</th>\n",
              "      <td>14477.0</td>\n",
              "      <td>1563.0</td>\n",
              "    </tr>\n",
              "    <tr>\n",
              "      <th>2020-05-06</th>\n",
              "      <td>15440.0</td>\n",
              "      <td>1390.0</td>\n",
              "    </tr>\n",
              "    <tr>\n",
              "      <th>2020-05-07</th>\n",
              "      <td>19076.0</td>\n",
              "      <td>2104.0</td>\n",
              "    </tr>\n",
              "    <tr>\n",
              "      <th>2020-05-08</th>\n",
              "      <td>17801.0</td>\n",
              "      <td>1156.0</td>\n",
              "    </tr>\n",
              "    <tr>\n",
              "      <th>2020-05-09</th>\n",
              "      <td>17531.0</td>\n",
              "      <td>1235.0</td>\n",
              "    </tr>\n",
              "  </tbody>\n",
              "</table>\n",
              "<p>70 rows × 2 columns</p>\n",
              "</div>"
            ],
            "text/plain": [
              "           positiveIncrease deathIncrease\n",
              "                        sum           sum\n",
              "date                                     \n",
              "2020-03-01              0.0           0.0\n",
              "2020-03-02              9.0           0.0\n",
              "2020-03-03             17.0           0.0\n",
              "2020-03-04             18.0           0.0\n",
              "2020-03-05             44.0           0.0\n",
              "...                     ...           ...\n",
              "2020-05-05          14477.0        1563.0\n",
              "2020-05-06          15440.0        1390.0\n",
              "2020-05-07          19076.0        2104.0\n",
              "2020-05-08          17801.0        1156.0\n",
              "2020-05-09          17531.0        1235.0\n",
              "\n",
              "[70 rows x 2 columns]"
            ]
          },
          "metadata": {
            "tags": []
          },
          "execution_count": 252
        }
      ]
    },
    {
      "cell_type": "code",
      "metadata": {
        "id": "AxC_ycNHQbv4",
        "colab_type": "code",
        "colab": {}
      },
      "source": [
        "#using month data for the task i.e 4 weeks from start date \n",
        "\n",
        "start_date = \"2020-04-10\"\n",
        "end_date = \"2020-05-08\"\n",
        "condtns=covidaggr.index.to_series().between(start_date,end_date)\n",
        "filtered_data=covidaggr.loc[condtns]"
      ],
      "execution_count": 0,
      "outputs": []
    },
    {
      "cell_type": "code",
      "metadata": {
        "id": "yWo1FowVQb1u",
        "colab_type": "code",
        "colab": {
          "base_uri": "https://localhost:8080/",
          "height": 85
        },
        "outputId": "f669c4b6-3c52-4f8f-9d33-e26bb7eee062"
      },
      "source": [
        "#generating weekly data for 4 weeks\n",
        "\n",
        "start = datetime.datetime.strptime(start_date, \"%Y-%m-%d\")\n",
        "weekly_data=[]\n",
        "for i in range(4):\n",
        "    end = start + datetime.timedelta(days=6)\n",
        "    wdata=covidaggr.loc[covidaggr.index.to_series().between(start,end)]\n",
        "    weekly_data.append(wdata[deathcolname].to_list())\n",
        "    start=end + datetime.timedelta(days=1)\n",
        "weekly_data\n"
      ],
      "execution_count": 254,
      "outputs": [
        {
          "output_type": "execute_result",
          "data": {
            "text/plain": [
              "[[1861.0, 1721.0, 1390.0, 1363.0, 2091.0, 2037.0, 1910.0],\n",
              " [1806.0, 1524.0, 1160.0, 1258.0, 1920.0, 1641.0, 1708.0],\n",
              " [1493.0, 1441.0, 826.0, 1055.0, 1824.0, 1560.0, 1776.0],\n",
              " [1418.0, 1281.0, 995.0, 764.0, 1563.0, 1390.0, 2104.0]]"
            ]
          },
          "metadata": {
            "tags": []
          },
          "execution_count": 254
        }
      ]
    },
    {
      "cell_type": "markdown",
      "metadata": {
        "id": "WnuJBj1oQcrB",
        "colab_type": "text"
      },
      "source": [
        "Given that the distribution of the data is poisson with param lambda and prior distribution of lambda as exponential.\n",
        "\n",
        "On computing the posterior using the bayesian inference we got the distribution as Gamma distibution. On computing \n",
        "posterior distribution again by using computed posterior as a prior now we again got a Gamma distribution.\n",
        "\n",
        "Also we know that exponential is a special caase of gamma distibution. So Gamma is conjugate prior for poisson distribution.\n",
        "\n",
        "   So considering this our initial prior exp(1/B) which was ~ Gamma(a,b) where a=1 b=1/B  B is mean\n",
        "   The posterior distribution we computed was ~ Gamma(x,y) where x= Sum(X_i)+a  ( for i-> 1 to n) and y= n+b   \n",
        "   \n",
        "   mean and variance of gamma distribution is given by     mu= x/y sig=x/y^2"
      ]
    },
    {
      "cell_type": "code",
      "metadata": {
        "id": "MAzuoXx_Qdma",
        "colab_type": "code",
        "colab": {}
      },
      "source": [
        "\n",
        "\n",
        "def compute_bi_distribution(data,a,b):\n",
        "    x=sum(data)+a\n",
        "    y=len(data)+b\n",
        "    return x,y\n",
        "\n",
        "def set_plot(name):\n",
        "    plt.figure(name)\n",
        "    plt.xlabel('x')\n",
        "    plt.ylabel('f(x=X) posterior ')\n",
        "    plt.title('Bayesian Inference PDF ')\n",
        "\n",
        "def plot_gamma(a,b,k):\n",
        "    P = []\n",
        "    start=(a/b)-4*np.sqrt(a/b**2)\n",
        "    end=(a/b)+(a/b**2)\n",
        "    X = np.arange(start,end,1)\n",
        "    for i in X:\n",
        "        y=gamma.pdf( a=a,x=i, scale=1/b)\n",
        "        P.append(y)\n",
        "    plt.plot(X, P,label=\"Iteration:\"+str(k+1))\n",
        "\n"
      ],
      "execution_count": 0,
      "outputs": []
    },
    {
      "cell_type": "markdown",
      "metadata": {
        "id": "WbhykjrTQeGh",
        "colab_type": "text"
      },
      "source": [
        " Using first week’s data obtained the posterior for lambda via Bayesian inference and considering this posterior as new prior and using second week data computed new posterior. Repeated this process for 4 weeks."
      ]
    },
    {
      "cell_type": "code",
      "metadata": {
        "id": "M6jwHpIuQeia",
        "colab_type": "code",
        "colab": {
          "base_uri": "https://localhost:8080/",
          "height": 439
        },
        "outputId": "2a891492-48fa-4e46-8218-8af4590ac76a"
      },
      "source": [
        " \n",
        "a=1\n",
        "b=len(weekly_data[0])/(sum(weekly_data[0])+1)\n",
        "print(\"R\",\"\\tMean\",\"\\t\\tVariance\" ,\"\\tx\" , \"\\t\\ty\")\n",
        "i=1\n",
        "for data in weekly_data:\n",
        "    x,y=compute_bi_distribution(data,a,b)\n",
        "    print(i,\"\\t{:.4f}\".format(x/y), \"\\t{:.4f}\".format(x/y**2),\"\\t{:.4f}\".format(x),\"\\t{:.4f}\".format(y))\n",
        "    a,b=x,y\n",
        "    i+=1\n",
        "    plot_gamma(x,y,i)\n",
        "plt.legend(loc=\"upper left\")"
      ],
      "execution_count": 256,
      "outputs": [
        {
          "output_type": "stream",
          "text": [
            "R \tMean \t\tVariance \tx \t\ty\n",
            "1 \t1767.5714 \t252.4898 \t12374.0000 \t7.0006\n",
            "2 \t1670.7182 \t119.3322 \t23391.0000 \t14.0006\n",
            "3 \t1588.8143 \t75.6558 \t33366.0000 \t21.0006\n",
            "4 \t1531.4333 \t54.6929 \t42881.0000 \t28.0006\n"
          ],
          "name": "stdout"
        },
        {
          "output_type": "execute_result",
          "data": {
            "text/plain": [
              "<matplotlib.legend.Legend at 0x7fafb86bd278>"
            ]
          },
          "metadata": {
            "tags": []
          },
          "execution_count": 256
        },
        {
          "output_type": "display_data",
          "data": {
            "image/png": "[encoded data removed]",
            "text/plain": [
              "<Figure size 410.4x379.44 with 1 Axes>"
            ]
          },
          "metadata": {
            "tags": []
          }
        }
      ]
    },
    {
      "cell_type": "markdown",
      "metadata": {
        "id": "378UsA3lA-do",
        "colab_type": "text"
      },
      "source": [
        "## Sample Inferences\n",
        "\n",
        "\n",
        "###4. Propose three new inferences for your dataset and solve them using tools learned in class. You will be graded on creativity/practicality of your inferences. For each inference you propose, provide a paragraph of text to explain why this inference is practical and useful. Also comment on the results of your inference, as appropriate. See “Sample inferences” section below for ideas. Only use tools/tests learned in class. This will be 30% of the project grade.\n"
      ]
    },
    {
      "cell_type": "markdown",
      "metadata": {
        "id": "AtHq3YwgDnnS",
        "colab_type": "text"
      },
      "source": [
        "## Sample Inference 1\n"
      ]
    },
    {
      "cell_type": "markdown",
      "metadata": {
        "id": "NpXOju5hCI72",
        "colab_type": "text"
      },
      "source": [
        "***1. (highly recommended) Use your X dataset to check if COVID19 had an impact on the X data. State your hypothesis clearly and determine the best tool (from among those learned in class) to apply to your hypotheses. Also check whether the tool/test is applicable or not. ***\n",
        "\n"
      ]
    },
    {
      "cell_type": "markdown",
      "metadata": {
        "id": "IYtub4gzCbEU",
        "colab_type": "text"
      },
      "source": [
        "\n",
        "\n",
        "> Our X dataset is the inflation data which represents the latest value that the market participants expect the inflation to be in the next 10 years on an average. We will be using the 'Inflation' column from our X dataset for this question. \n",
        "\n",
        ">To check if Covid 19 has had an impact on the inflation across United States, we will be using the inflation data from June 2019 to May 2020. \n",
        "\n",
        ">The data from June 2019 to December 2019 will be considered the before Covid 19 data and the data from January 2020 to May 2020 will be considered as the after Covid 19 data.\n",
        "\n",
        "### Hypothesis\n",
        "\n",
        "\n",
        "Our Hypothesis is as follows:\n",
        "**Ho** : Null Hypothesis: Covid 19 has not had any impact on the inflation of United States.\n",
        "**H1** : Covid 19 has had an impact on the inflation of United States.\n",
        "\n",
        "**The Null Hypothesis is that it hasn't had an impact because that would be the default state of things in our case and which is why it is chosen as Ho.**\n",
        "\n",
        "To determine the best tool to apply this Hypothesis we need to look at the data. Since we don't have information about the distribution of our data, lets divide the data into 2 sets:\n",
        "\n",
        ">Before Covid Data : September 2019 - December 2019\n",
        "\n",
        ">After Covid Data : January 2020 - May 2020.\n",
        "\n",
        ">According to our Hypothesis we are saying that the distribution of the data of before and after covid should be the same. And our H1 states that these two are distributed differently.\n",
        "\n",
        "\n"
      ]
    },
    {
      "cell_type": "markdown",
      "metadata": {
        "id": "6YLZpECiD5uw",
        "colab_type": "text"
      },
      "source": [
        "#### Best Tool to use:\n",
        "\n",
        "The best test to use in our case would be the Permutation test. If indeed the Covid 19 has had an impact on the inflation in US, then if we move things around, we will observe a drop in the difference between the mean of the two sets.\n",
        "\n",
        "This test is applicable in our case because our hypothesis states that the two distributions should be the same. Since we are talking about inflation it means that the average of the two sets should be similar if Covid has not impacted it. But if the hypothesis is false, and Covid 19 has had an impact on the inflation, then the inflation value should drop in the second set, thus dropping its mean.\n",
        "\n",
        "P-test is applicable here because with different permutations of the test, we can discover if the values after December 2019 are indeed less than those before as the mean of the set will drop. Also, P-test has no assumptions on the data and hence we can apply it in our case.\n"
      ]
    },
    {
      "cell_type": "markdown",
      "metadata": {
        "id": "RqZQaFloEAYL",
        "colab_type": "text"
      },
      "source": [
        "### Permutation Test:\n",
        "\n",
        "X : Inflation before covid\n",
        "Y : Inflation after covid\n",
        "N : Number of observations\n",
        "\n",
        "Step 1 : Compute Tobs = |Mean of X - Mean of Y|\n",
        "\n",
        "Step 2 : Permute X U Y in 900 different permutations to get Xi and Yi.\n",
        "\n",
        "Step 3 : Compute Ti = |Mean of Xi - Mean of Yi| for the given permutations.\n",
        "\n",
        "Step 4 : Calculate p-value\n",
        "\n",
        "Step 5 : If p-value < 0.05, reject Null Hypothesis.\n",
        "\n"
      ]
    },
    {
      "cell_type": "markdown",
      "metadata": {
        "id": "AVNVCXG1EF4U",
        "colab_type": "text"
      },
      "source": [
        ">Since we need only the inflation column in our case, we will use the original dataset which is not merged."
      ]
    },
    {
      "cell_type": "markdown",
      "metadata": {
        "id": "BVwwNo2ZPJvF",
        "colab_type": "text"
      },
      "source": [
        "#### Datacleaning for this dataset:"
      ]
    },
    {
      "cell_type": "code",
      "metadata": {
        "id": "lwGgs9VWEfSx",
        "colab_type": "code",
        "colab": {}
      },
      "source": [
        "pData = pd.read_csv('./T10YIEpTest.csv')\n",
        "pData['DATE'] = pData['DATE'].str.replace('-','')\n",
        "pData['DATE'] = pd.to_numeric(pData['DATE'])\n",
        "\n",
        "#Filling in the missing values with the average of the past week.\n",
        "def calcAvgInflation(date, data):\n",
        "    val = 0.0\n",
        "    total = 0\n",
        "    for i in range(date-7, date):\n",
        "        if(i in data['DATE'].values and pd.to_numeric(i)):\n",
        "            x = data.loc[data['DATE'] == i].T10YIE.values[0]\n",
        "            val+=pd.to_numeric(x)\n",
        "            total+=1\n",
        "#             print(x,val)\n",
        "    if(val>0):\n",
        "        val = val/total\n",
        "    return val\n",
        "  \n",
        "for i in pData.iterrows():\n",
        "    if (i[1]['T10YIE'] == '.'):\n",
        "        pData.at[i[0], 'T10YIE'] = calcAvgInflation(i[1]['DATE'],pData)\n",
        "\n",
        "#Segregating the data based on before Covid and after Covid\n",
        "pData['T10YIE'] = pd.to_numeric(pData['T10YIE'])\n",
        "pData = pData.loc[pData.DATE >= 20190901]\n",
        "beforeC = pData.loc[pData.DATE <= 20191231]\n",
        "afterC = pData.loc[pData.DATE > 20191231]\n",
        "lenB = len(beforeC)\n",
        "lenA = len(afterC)\n",
        "pDataList = pData['T10YIE'].tolist()"
      ],
      "execution_count": 0,
      "outputs": []
    },
    {
      "cell_type": "markdown",
      "metadata": {
        "id": "dJlzJbw_POSb",
        "colab_type": "text"
      },
      "source": [
        "#### Permutation Test:"
      ]
    },
    {
      "cell_type": "code",
      "metadata": {
        "id": "t0gnczxLEvov",
        "colab_type": "code",
        "colab": {
          "base_uri": "https://localhost:8080/",
          "height": 0
        },
        "outputId": "0c3dbd22-1b1d-4b35-d2c8-0c17bcbb4efa"
      },
      "source": [
        "# Permutation Test:\n",
        "\n",
        "#Implementing the algorithm stated above\n",
        "#Initializing the Tobs\n",
        "Tobs = abs(beforeC.mean(axis = 0)['T10YIE'] - afterC.mean(axis = 0)['T10YIE'])\n",
        "pValue = 0\n",
        "#Getting 900 permutations of the data\n",
        "for i in range(900):\n",
        "    permData = np.random.permutation(pDataList)\n",
        "    permB = permData[:lenB]\n",
        "    permA = permData[lenB:]\n",
        "    #Calculating the T for each permutation\n",
        "    Tperm = abs(statistics.mean(permB) - statistics.mean(permA))\n",
        "#     print(Tperm, Tobs)\n",
        "    #Incrementing the p value if Tperm>Tobs\n",
        "    if(Tperm > Tobs):\n",
        "        pValue += 1\n",
        "\n",
        "pValue = pValue/900\n",
        "print('The p value calculated for the permutation Test is: ', pValue)\n",
        "if(pValue < 0.05):\n",
        "    print('The null hypothesis is Rejected as the p-value is < 0.05.')\n",
        "    print('This means we accept H1 which states that : Covid 19 has had an impact on inflation in the US')\n",
        "else:\n",
        "    print('The null hypothesis is Accepted as the p-value is > 0.05.')\n",
        "    print('This means we accept the null hypothesis which states that : Covid 19 has not had an impact on inflation in the US')"
      ],
      "execution_count": 258,
      "outputs": [
        {
          "output_type": "stream",
          "text": [
            "The p value calculated for the permutation Test is:  0.0\n",
            "The null hypothesis is Rejected as the p-value is < 0.05.\n",
            "This means we accept H1 which states that : Covid 19 has had an impact on inflation in the US\n"
          ],
          "name": "stdout"
        }
      ]
    },
    {
      "cell_type": "markdown",
      "metadata": {
        "id": "WKxbn0cyEF9M",
        "colab_type": "text"
      },
      "source": [
        "I had previously used 200 randomized permutations for the P-test and increased it by 100 till I reached 900. I observed that the p-value was stable and never changed. It was always 0.0.\n",
        "\n",
        ">Thus by using permutation test, we conclude that COVID 19 has had an impact on inflation in the US."
      ]
    },
    {
      "cell_type": "markdown",
      "metadata": {
        "id": "zVMlNSaGDvRs",
        "colab_type": "text"
      },
      "source": [
        "## Sample Inference 2"
      ]
    },
    {
      "cell_type": "markdown",
      "metadata": {
        "id": "y-sadNUYCJEA",
        "colab_type": "text"
      },
      "source": [
        "2. (highly recommended) Check if COVID19 data changed after some local event or rule was enforced, like lockdown or stay-at-home, etc. For this, compare COVID19 data before and after the event. Maybe take into account that COVID19 takes some time to show symptoms, so maybe give some time to allow the lockdown to show its effects."
      ]
    },
    {
      "cell_type": "markdown",
      "metadata": {
        "id": "24ifZ_DUpK3i",
        "colab_type": "text"
      },
      "source": [
        "We have chosen two weeks for data for a date two weeks before the lockdown and two weeks of data one week after the lockdown to see if we see any effect of the lockdown on the number of cases and deaths. We used the Permutation, KS Test and Wald's test"
      ]
    },
    {
      "cell_type": "code",
      "metadata": {
        "id": "VwlYKHqCBNGS",
        "colab_type": "code",
        "colab": {
          "base_uri": "https://localhost:8080/",
          "height": 51
        },
        "outputId": "2c006226-ca76-4ef3-9487-43ce63ec482f"
      },
      "source": [
        "covidData = pd.read_csv(r'./data.csv')\n",
        "lockdown_date = 20200320\n",
        "\n",
        "after_date = 20200327\n",
        "before_lockdown=covidData[(covidData.date<=20200320) & (covidData.date>=20200306)]\n",
        "\n",
        "print(len(before_lockdown))\n",
        "\n",
        "after_lockdown=covidData[(covidData.date>=20200327) & (covidData.date<=20200410)]\n",
        "\n",
        "print(len(after_lockdown))"
      ],
      "execution_count": 259,
      "outputs": [
        {
          "output_type": "stream",
          "text": [
            "481\n",
            "480\n"
          ],
          "name": "stdout"
        }
      ]
    },
    {
      "cell_type": "code",
      "metadata": {
        "id": "dvPQ4AZISDAY",
        "colab_type": "code",
        "colab": {
          "base_uri": "https://localhost:8080/",
          "height": 34
        },
        "outputId": "882c4afd-6b73-4c87-8fbb-bc42672f7af1"
      },
      "source": [
        "(before_lockdown.positiveIncrease/before_lockdown.totalTestResultsIncrease).mean()"
      ],
      "execution_count": 260,
      "outputs": [
        {
          "output_type": "execute_result",
          "data": {
            "text/plain": [
              "0.32667807606148686"
            ]
          },
          "metadata": {
            "tags": []
          },
          "execution_count": 260
        }
      ]
    },
    {
      "cell_type": "code",
      "metadata": {
        "id": "sO8IAtLKSDFC",
        "colab_type": "code",
        "colab": {
          "base_uri": "https://localhost:8080/",
          "height": 34
        },
        "outputId": "f7415177-fa06-4d47-ae54-f3bc62163736"
      },
      "source": [
        "(after_lockdown.positiveIncrease/after_lockdown.totalTestResultsIncrease).mean()"
      ],
      "execution_count": 261,
      "outputs": [
        {
          "output_type": "execute_result",
          "data": {
            "text/plain": [
              "0.2242761812002825"
            ]
          },
          "metadata": {
            "tags": []
          },
          "execution_count": 261
        }
      ]
    },
    {
      "cell_type": "code",
      "metadata": {
        "id": "TOlV2VlmSDH5",
        "colab_type": "code",
        "colab": {
          "base_uri": "https://localhost:8080/",
          "height": 272
        },
        "outputId": "976adf82-d74a-4cc9-c926-5db7a6485631"
      },
      "source": [
        "before_lockdown[(before_lockdown.state=='NY') & (before_lockdown.totalTestResultsIncrease>0)].positiveIncrease/before_lockdown[(before_lockdown.state=='NY') & (before_lockdown.totalTestResultsIncrease>0)].totalTestResultsIncrease"
      ],
      "execution_count": 262,
      "outputs": [
        {
          "output_type": "execute_result",
          "data": {
            "text/plain": [
              "1379    0.230259\n",
              "1380    0.437828\n",
              "1381    1.000000\n",
              "1382    1.000000\n",
              "1383    1.000000\n",
              "1384    0.070885\n",
              "1385    1.000000\n",
              "1386    1.000000\n",
              "1388    0.407407\n",
              "1390    1.000000\n",
              "1391    0.104114\n",
              "1392    1.000000\n",
              "1393    0.092274\n",
              "1395    0.290841\n",
              "dtype: float64"
            ]
          },
          "metadata": {
            "tags": []
          },
          "execution_count": 262
        }
      ]
    },
    {
      "cell_type": "code",
      "metadata": {
        "id": "WRGEKphySDOm",
        "colab_type": "code",
        "colab": {
          "base_uri": "https://localhost:8080/",
          "height": 289
        },
        "outputId": "f07cb660-b647-49fd-ff01-d317d46636b0"
      },
      "source": [
        "before_lockdown[(before_lockdown.state=='NY')].deathIncrease"
      ],
      "execution_count": 263,
      "outputs": [
        {
          "output_type": "execute_result",
          "data": {
            "text/plain": [
              "1379     0.0\n",
              "1380     0.0\n",
              "1381     0.0\n",
              "1382     0.0\n",
              "1383     0.0\n",
              "1384     0.0\n",
              "1385     0.0\n",
              "1386     0.0\n",
              "1388     0.0\n",
              "1389     0.0\n",
              "1390     0.0\n",
              "1391     3.0\n",
              "1392     4.0\n",
              "1393     5.0\n",
              "1395    23.0\n",
              "Name: deathIncrease, dtype: float64"
            ]
          },
          "metadata": {
            "tags": []
          },
          "execution_count": 263
        }
      ]
    },
    {
      "cell_type": "code",
      "metadata": {
        "id": "X6MH9qRtSDRa",
        "colab_type": "code",
        "colab": {
          "base_uri": "https://localhost:8080/",
          "height": 289
        },
        "outputId": "b86258ef-b4f1-45ca-8f7b-9e121e87c9a1"
      },
      "source": [
        "after_lockdown[(after_lockdown.state=='NY')].deathIncrease"
      ],
      "execution_count": 264,
      "outputs": [
        {
          "output_type": "execute_result",
          "data": {
            "text/plain": [
              "1400    134.0\n",
              "1401    209.0\n",
              "1407    237.0\n",
              "1408    253.0\n",
              "1413    332.0\n",
              "1418    391.0\n",
              "1420    432.0\n",
              "1428    562.0\n",
              "1429    594.0\n",
              "1430    599.0\n",
              "1432    630.0\n",
              "1435    731.0\n",
              "1438    777.0\n",
              "1440    779.0\n",
              "1442    799.0\n",
              "Name: deathIncrease, dtype: float64"
            ]
          },
          "metadata": {
            "tags": []
          },
          "execution_count": 264
        }
      ]
    },
    {
      "cell_type": "code",
      "metadata": {
        "id": "naBU_2-MSDV0",
        "colab_type": "code",
        "colab": {
          "base_uri": "https://localhost:8080/",
          "height": 289
        },
        "outputId": "4f7d09c2-3c84-448e-e10b-fe340b2cf714"
      },
      "source": [
        "after_lockdown[(after_lockdown.state=='NY') & (after_lockdown.totalTestResultsIncrease>0)].positiveIncrease/after_lockdown[(after_lockdown.state=='NY') & (after_lockdown.totalTestResultsIncrease>0)].totalTestResultsIncrease"
      ],
      "execution_count": 265,
      "outputs": [
        {
          "output_type": "execute_result",
          "data": {
            "text/plain": [
              "1400    0.311937\n",
              "1401    0.754641\n",
              "1407    0.438025\n",
              "1408    0.495038\n",
              "1413    0.496741\n",
              "1418    0.504460\n",
              "1420    0.479348\n",
              "1428    0.486291\n",
              "1429    0.446273\n",
              "1430    0.467217\n",
              "1432    0.469287\n",
              "1435    0.424690\n",
              "1438    0.401542\n",
              "1440    0.416537\n",
              "1442    0.402372\n",
              "dtype: float64"
            ]
          },
          "metadata": {
            "tags": []
          },
          "execution_count": 265
        }
      ]
    },
    {
      "cell_type": "code",
      "metadata": {
        "id": "PzoaJUrjSDa5",
        "colab_type": "code",
        "colab": {
          "base_uri": "https://localhost:8080/",
          "height": 551
        },
        "outputId": "3b6c5088-ea7e-4338-a1f7-9c8c7baa49e4"
      },
      "source": [
        "before_lockdown[before_lockdown.state=='NY']"
      ],
      "execution_count": 266,
      "outputs": [
        {
          "output_type": "execute_result",
          "data": {
            "text/html": [
              "<div>\n",
              "<style scoped>\n",
              "    .dataframe tbody tr th:only-of-type {\n",
              "        vertical-align: middle;\n",
              "    }\n",
              "\n",
              "    .dataframe tbody tr th {\n",
              "        vertical-align: top;\n",
              "    }\n",
              "\n",
              "    .dataframe thead th {\n",
              "        text-align: right;\n",
              "    }\n",
              "</style>\n",
              "<table border=\"1\" class=\"dataframe\">\n",
              "  <thead>\n",
              "    <tr style=\"text-align: right;\">\n",
              "      <th></th>\n",
              "      <th>Unnamed: 0</th>\n",
              "      <th>date</th>\n",
              "      <th>state</th>\n",
              "      <th>positive</th>\n",
              "      <th>negative</th>\n",
              "      <th>pending</th>\n",
              "      <th>death</th>\n",
              "      <th>total</th>\n",
              "      <th>totalTestResults</th>\n",
              "      <th>fips</th>\n",
              "      <th>deathIncrease</th>\n",
              "      <th>negativeIncrease</th>\n",
              "      <th>positiveIncrease</th>\n",
              "      <th>totalTestResultsIncrease</th>\n",
              "    </tr>\n",
              "  </thead>\n",
              "  <tbody>\n",
              "    <tr>\n",
              "      <th>1379</th>\n",
              "      <td>2893</td>\n",
              "      <td>20200319</td>\n",
              "      <td>NY</td>\n",
              "      <td>4152.0</td>\n",
              "      <td>18132.0</td>\n",
              "      <td>0.0</td>\n",
              "      <td>12.0</td>\n",
              "      <td>22284</td>\n",
              "      <td>22284</td>\n",
              "      <td>36</td>\n",
              "      <td>0.0</td>\n",
              "      <td>5917.0</td>\n",
              "      <td>1770.0</td>\n",
              "      <td>7687.0</td>\n",
              "    </tr>\n",
              "    <tr>\n",
              "      <th>1380</th>\n",
              "      <td>3005</td>\n",
              "      <td>20200317</td>\n",
              "      <td>NY</td>\n",
              "      <td>1700.0</td>\n",
              "      <td>5506.0</td>\n",
              "      <td>0.0</td>\n",
              "      <td>7.0</td>\n",
              "      <td>7206</td>\n",
              "      <td>7206</td>\n",
              "      <td>36</td>\n",
              "      <td>0.0</td>\n",
              "      <td>963.0</td>\n",
              "      <td>750.0</td>\n",
              "      <td>1713.0</td>\n",
              "    </tr>\n",
              "    <tr>\n",
              "      <th>1381</th>\n",
              "      <td>3165</td>\n",
              "      <td>20200314</td>\n",
              "      <td>NY</td>\n",
              "      <td>524.0</td>\n",
              "      <td>2779.0</td>\n",
              "      <td>0.0</td>\n",
              "      <td>0.0</td>\n",
              "      <td>3303</td>\n",
              "      <td>3303</td>\n",
              "      <td>36</td>\n",
              "      <td>0.0</td>\n",
              "      <td>0.0</td>\n",
              "      <td>103.0</td>\n",
              "      <td>103.0</td>\n",
              "    </tr>\n",
              "    <tr>\n",
              "      <th>1382</th>\n",
              "      <td>3317</td>\n",
              "      <td>20200311</td>\n",
              "      <td>NY</td>\n",
              "      <td>216.0</td>\n",
              "      <td>92.0</td>\n",
              "      <td>0.0</td>\n",
              "      <td>0.0</td>\n",
              "      <td>308</td>\n",
              "      <td>308</td>\n",
              "      <td>36</td>\n",
              "      <td>0.0</td>\n",
              "      <td>0.0</td>\n",
              "      <td>43.0</td>\n",
              "      <td>43.0</td>\n",
              "    </tr>\n",
              "    <tr>\n",
              "      <th>1383</th>\n",
              "      <td>3517</td>\n",
              "      <td>20200307</td>\n",
              "      <td>NY</td>\n",
              "      <td>76.0</td>\n",
              "      <td>92.0</td>\n",
              "      <td>0.0</td>\n",
              "      <td>0.0</td>\n",
              "      <td>404</td>\n",
              "      <td>168</td>\n",
              "      <td>36</td>\n",
              "      <td>0.0</td>\n",
              "      <td>0.0</td>\n",
              "      <td>43.0</td>\n",
              "      <td>43.0</td>\n",
              "    </tr>\n",
              "    <tr>\n",
              "      <th>1384</th>\n",
              "      <td>3216</td>\n",
              "      <td>20200313</td>\n",
              "      <td>NY</td>\n",
              "      <td>421.0</td>\n",
              "      <td>2779.0</td>\n",
              "      <td>0.0</td>\n",
              "      <td>0.0</td>\n",
              "      <td>3200</td>\n",
              "      <td>3200</td>\n",
              "      <td>36</td>\n",
              "      <td>0.0</td>\n",
              "      <td>2687.0</td>\n",
              "      <td>205.0</td>\n",
              "      <td>2892.0</td>\n",
              "    </tr>\n",
              "    <tr>\n",
              "      <th>1385</th>\n",
              "      <td>3367</td>\n",
              "      <td>20200310</td>\n",
              "      <td>NY</td>\n",
              "      <td>173.0</td>\n",
              "      <td>92.0</td>\n",
              "      <td>0.0</td>\n",
              "      <td>0.0</td>\n",
              "      <td>265</td>\n",
              "      <td>265</td>\n",
              "      <td>36</td>\n",
              "      <td>0.0</td>\n",
              "      <td>0.0</td>\n",
              "      <td>31.0</td>\n",
              "      <td>31.0</td>\n",
              "    </tr>\n",
              "    <tr>\n",
              "      <th>1386</th>\n",
              "      <td>3467</td>\n",
              "      <td>20200308</td>\n",
              "      <td>NY</td>\n",
              "      <td>105.0</td>\n",
              "      <td>92.0</td>\n",
              "      <td>0.0</td>\n",
              "      <td>0.0</td>\n",
              "      <td>197</td>\n",
              "      <td>197</td>\n",
              "      <td>36</td>\n",
              "      <td>0.0</td>\n",
              "      <td>0.0</td>\n",
              "      <td>29.0</td>\n",
              "      <td>29.0</td>\n",
              "    </tr>\n",
              "    <tr>\n",
              "      <th>1388</th>\n",
              "      <td>3557</td>\n",
              "      <td>20200306</td>\n",
              "      <td>NY</td>\n",
              "      <td>33.0</td>\n",
              "      <td>92.0</td>\n",
              "      <td>0.0</td>\n",
              "      <td>0.0</td>\n",
              "      <td>361</td>\n",
              "      <td>125</td>\n",
              "      <td>36</td>\n",
              "      <td>0.0</td>\n",
              "      <td>16.0</td>\n",
              "      <td>11.0</td>\n",
              "      <td>27.0</td>\n",
              "    </tr>\n",
              "    <tr>\n",
              "      <th>1389</th>\n",
              "      <td>3267</td>\n",
              "      <td>20200312</td>\n",
              "      <td>NY</td>\n",
              "      <td>216.0</td>\n",
              "      <td>92.0</td>\n",
              "      <td>0.0</td>\n",
              "      <td>0.0</td>\n",
              "      <td>308</td>\n",
              "      <td>308</td>\n",
              "      <td>36</td>\n",
              "      <td>0.0</td>\n",
              "      <td>0.0</td>\n",
              "      <td>0.0</td>\n",
              "      <td>0.0</td>\n",
              "    </tr>\n",
              "    <tr>\n",
              "      <th>1390</th>\n",
              "      <td>3417</td>\n",
              "      <td>20200309</td>\n",
              "      <td>NY</td>\n",
              "      <td>142.0</td>\n",
              "      <td>92.0</td>\n",
              "      <td>0.0</td>\n",
              "      <td>0.0</td>\n",
              "      <td>234</td>\n",
              "      <td>234</td>\n",
              "      <td>36</td>\n",
              "      <td>0.0</td>\n",
              "      <td>0.0</td>\n",
              "      <td>37.0</td>\n",
              "      <td>37.0</td>\n",
              "    </tr>\n",
              "    <tr>\n",
              "      <th>1391</th>\n",
              "      <td>3114</td>\n",
              "      <td>20200315</td>\n",
              "      <td>NY</td>\n",
              "      <td>729.0</td>\n",
              "      <td>4543.0</td>\n",
              "      <td>0.0</td>\n",
              "      <td>3.0</td>\n",
              "      <td>5272</td>\n",
              "      <td>5272</td>\n",
              "      <td>36</td>\n",
              "      <td>3.0</td>\n",
              "      <td>1764.0</td>\n",
              "      <td>205.0</td>\n",
              "      <td>1969.0</td>\n",
              "    </tr>\n",
              "    <tr>\n",
              "      <th>1392</th>\n",
              "      <td>3061</td>\n",
              "      <td>20200316</td>\n",
              "      <td>NY</td>\n",
              "      <td>950.0</td>\n",
              "      <td>4543.0</td>\n",
              "      <td>0.0</td>\n",
              "      <td>7.0</td>\n",
              "      <td>5493</td>\n",
              "      <td>5493</td>\n",
              "      <td>36</td>\n",
              "      <td>4.0</td>\n",
              "      <td>0.0</td>\n",
              "      <td>221.0</td>\n",
              "      <td>221.0</td>\n",
              "    </tr>\n",
              "    <tr>\n",
              "      <th>1393</th>\n",
              "      <td>2949</td>\n",
              "      <td>20200318</td>\n",
              "      <td>NY</td>\n",
              "      <td>2382.0</td>\n",
              "      <td>12215.0</td>\n",
              "      <td>0.0</td>\n",
              "      <td>12.0</td>\n",
              "      <td>14597</td>\n",
              "      <td>14597</td>\n",
              "      <td>36</td>\n",
              "      <td>5.0</td>\n",
              "      <td>6709.0</td>\n",
              "      <td>682.0</td>\n",
              "      <td>7391.0</td>\n",
              "    </tr>\n",
              "    <tr>\n",
              "      <th>1395</th>\n",
              "      <td>2837</td>\n",
              "      <td>20200320</td>\n",
              "      <td>NY</td>\n",
              "      <td>7102.0</td>\n",
              "      <td>25325.0</td>\n",
              "      <td>0.0</td>\n",
              "      <td>35.0</td>\n",
              "      <td>32427</td>\n",
              "      <td>32427</td>\n",
              "      <td>36</td>\n",
              "      <td>23.0</td>\n",
              "      <td>7193.0</td>\n",
              "      <td>2950.0</td>\n",
              "      <td>10143.0</td>\n",
              "    </tr>\n",
              "  </tbody>\n",
              "</table>\n",
              "</div>"
            ],
            "text/plain": [
              "      Unnamed: 0      date state  positive  negative  pending  death  total  \\\n",
              "1379        2893  20200319    NY    4152.0   18132.0      0.0   12.0  22284   \n",
              "1380        3005  20200317    NY    1700.0    5506.0      0.0    7.0   7206   \n",
              "1381        3165  20200314    NY     524.0    2779.0      0.0    0.0   3303   \n",
              "1382        3317  20200311    NY     216.0      92.0      0.0    0.0    308   \n",
              "1383        3517  20200307    NY      76.0      92.0      0.0    0.0    404   \n",
              "1384        3216  20200313    NY     421.0    2779.0      0.0    0.0   3200   \n",
              "1385        3367  20200310    NY     173.0      92.0      0.0    0.0    265   \n",
              "1386        3467  20200308    NY     105.0      92.0      0.0    0.0    197   \n",
              "1388        3557  20200306    NY      33.0      92.0      0.0    0.0    361   \n",
              "1389        3267  20200312    NY     216.0      92.0      0.0    0.0    308   \n",
              "1390        3417  20200309    NY     142.0      92.0      0.0    0.0    234   \n",
              "1391        3114  20200315    NY     729.0    4543.0      0.0    3.0   5272   \n",
              "1392        3061  20200316    NY     950.0    4543.0      0.0    7.0   5493   \n",
              "1393        2949  20200318    NY    2382.0   12215.0      0.0   12.0  14597   \n",
              "1395        2837  20200320    NY    7102.0   25325.0      0.0   35.0  32427   \n",
              "\n",
              "      totalTestResults  fips  deathIncrease  negativeIncrease  \\\n",
              "1379             22284    36            0.0            5917.0   \n",
              "1380              7206    36            0.0             963.0   \n",
              "1381              3303    36            0.0               0.0   \n",
              "1382               308    36            0.0               0.0   \n",
              "1383               168    36            0.0               0.0   \n",
              "1384              3200    36            0.0            2687.0   \n",
              "1385               265    36            0.0               0.0   \n",
              "1386               197    36            0.0               0.0   \n",
              "1388               125    36            0.0              16.0   \n",
              "1389               308    36            0.0               0.0   \n",
              "1390               234    36            0.0               0.0   \n",
              "1391              5272    36            3.0            1764.0   \n",
              "1392              5493    36            4.0               0.0   \n",
              "1393             14597    36            5.0            6709.0   \n",
              "1395             32427    36           23.0            7193.0   \n",
              "\n",
              "      positiveIncrease  totalTestResultsIncrease  \n",
              "1379            1770.0                    7687.0  \n",
              "1380             750.0                    1713.0  \n",
              "1381             103.0                     103.0  \n",
              "1382              43.0                      43.0  \n",
              "1383              43.0                      43.0  \n",
              "1384             205.0                    2892.0  \n",
              "1385              31.0                      31.0  \n",
              "1386              29.0                      29.0  \n",
              "1388              11.0                      27.0  \n",
              "1389               0.0                       0.0  \n",
              "1390              37.0                      37.0  \n",
              "1391             205.0                    1969.0  \n",
              "1392             221.0                     221.0  \n",
              "1393             682.0                    7391.0  \n",
              "1395            2950.0                   10143.0  "
            ]
          },
          "metadata": {
            "tags": []
          },
          "execution_count": 266
        }
      ]
    },
    {
      "cell_type": "code",
      "metadata": {
        "id": "cuLKD2VWSDfh",
        "colab_type": "code",
        "colab": {}
      },
      "source": [
        "before_lockdown_list = list(before_lockdown[(before_lockdown.state=='NY') & (before_lockdown.totalTestResultsIncrease>0)].positiveIncrease/before_lockdown[(before_lockdown.state=='NY') & (before_lockdown.totalTestResultsIncrease>0)].totalTestResultsIncrease)\n",
        "after_lockdown_list = list(after_lockdown[(after_lockdown.state=='NY') & (after_lockdown.totalTestResultsIncrease>0)].positiveIncrease/after_lockdown[(after_lockdown.state=='NY') & (after_lockdown.totalTestResultsIncrease>0)].totalTestResultsIncrease)\n",
        "before_lockdown_death_list = list(before_lockdown[(before_lockdown.state=='NY')].deathIncrease)\n",
        "after_lockdown_death_list = list(after_lockdown[(after_lockdown.state=='NY')].deathIncrease)"
      ],
      "execution_count": 0,
      "outputs": []
    },
    {
      "cell_type": "code",
      "metadata": {
        "id": "lf5_Jok3SDiK",
        "colab_type": "code",
        "colab": {
          "base_uri": "https://localhost:8080/",
          "height": 272
        },
        "outputId": "82845f33-f051-4e67-c55e-f4682561eee6"
      },
      "source": [
        "after_lockdown_list"
      ],
      "execution_count": 268,
      "outputs": [
        {
          "output_type": "execute_result",
          "data": {
            "text/plain": [
              "[0.3119370797919574,\n",
              " 0.7546409979373343,\n",
              " 0.43802508218677705,\n",
              " 0.4950382761553728,\n",
              " 0.4967411048188909,\n",
              " 0.5044603033006244,\n",
              " 0.4793475255736798,\n",
              " 0.4862908837856646,\n",
              " 0.4462725762366686,\n",
              " 0.46721709567751335,\n",
              " 0.4692870438509155,\n",
              " 0.42468956200966385,\n",
              " 0.40154161603888217,\n",
              " 0.41653715879657305,\n",
              " 0.40237157145021973]"
            ]
          },
          "metadata": {
            "tags": []
          },
          "execution_count": 268
        }
      ]
    },
    {
      "cell_type": "code",
      "metadata": {
        "id": "rpBTBmniSDd5",
        "colab_type": "code",
        "colab": {
          "base_uri": "https://localhost:8080/",
          "height": 51
        },
        "outputId": "3d486b46-259d-4e0c-ed71-6af2ba53de4b"
      },
      "source": [
        "p_value = calculate_p_value(before_lockdown_list, after_lockdown_list, 20000)\n",
        "print(p_value)\n",
        "p_value = calculate_p_value(before_lockdown_death_list, after_lockdown_death_list, 20000)\n",
        "print(p_value)"
      ],
      "execution_count": 269,
      "outputs": [
        {
          "output_type": "stream",
          "text": [
            "0.17635\n",
            "0.0\n"
          ],
          "name": "stdout"
        }
      ]
    },
    {
      "cell_type": "markdown",
      "metadata": {
        "id": "T6g18mrUoK0B",
        "colab_type": "text"
      },
      "source": [
        "For n=20000 before lockdown v/s after lockdown pvalue: 0.17845\n",
        "Since 0.17845 is greater than 0.05, we accept the Null hypothesis. Hence the distribution is remain the same\n",
        "For n=20000 last week v/s second last week pvalue: 0.0\n",
        "Since 0.0 is less than 0.05, we reject the Null hypothesis. Hence the distribution isn't the same"
      ]
    },
    {
      "cell_type": "code",
      "metadata": {
        "id": "-_0veSw1SDY2",
        "colab_type": "code",
        "colab": {
          "base_uri": "https://localhost:8080/",
          "height": 1000
        },
        "outputId": "1d08491c-656a-41a8-8f41-c681ab281918"
      },
      "source": [
        "ks_two_sample_test(before_lockdown_list, after_lockdown_list, \"KS two sample test statistic for before or after lockdown\")\n",
        "ks_two_sample_test(before_lockdown_death_list, after_lockdown_death_list, \"KS two sample test statistic for before or after lockdown\")"
      ],
      "execution_count": 270,
      "outputs": [
        {
          "output_type": "stream",
          "text": [
            "KS two sample test statistic for before or after lockdown\n",
            "For last week v/s second last week max difference is 0.4999999999999999 at point 0.7546409979373343\n",
            "Since 0.4999999999999999 is greater than C=0.05, we accept the Null hypothesis. Hence the distribution is the same\n"
          ],
          "name": "stdout"
        },
        {
          "output_type": "display_data",
          "data": {
            "image/png": "[encoded data removed]",
            "text/plain": [
              "<Figure size 1440x720 with 1 Axes>"
            ]
          },
          "metadata": {
            "tags": []
          }
        },
        {
          "output_type": "stream",
          "text": [
            "KS two sample test statistic for before or after lockdown\n",
            "For last week v/s second last week max difference is 1.0 at point 134.0\n",
            "Since 1.0 is greater than C=0.05, we accept the Null hypothesis. Hence the distribution is the same\n"
          ],
          "name": "stdout"
        },
        {
          "output_type": "display_data",
          "data": {
            "image/png": "[encoded data removed]",
            "text/plain": [
              "<Figure size 1440x720 with 1 Axes>"
            ]
          },
          "metadata": {
            "tags": []
          }
        }
      ]
    },
    {
      "cell_type": "markdown",
      "metadata": {
        "id": "TwliXlivorQN",
        "colab_type": "text"
      },
      "source": [
        "Since KS test does not have any assumption, the test is applicable for this scenario.\n",
        "\n",
        "KS two sample test statistic for before or after lockdown\n",
        "For before lockdown v/s after lockdown max difference is 0.4999999999999999 at point 0.7546409979373343\n",
        "Since 0.4999999999999999 is greater than C=0.05, we accept the Null hypothesis. Hence the distribution is the same\n",
        "\n",
        "KS two sample test statistic for before or after lockdown\n",
        "For before lockdown v/s after lockdown max difference is 1.0 at point 134.0\n",
        "Since 1.0 is greater than C=0.05, we accept the Null hypothesis. Hence the distribution is the same"
      ]
    },
    {
      "cell_type": "markdown",
      "metadata": {
        "id": "z6vdE110olwX",
        "colab_type": "text"
      },
      "source": [
        ""
      ]
    },
    {
      "cell_type": "code",
      "metadata": {
        "id": "YRapt5h-SDUE",
        "colab_type": "code",
        "colab": {
          "base_uri": "https://localhost:8080/",
          "height": 85
        },
        "outputId": "2499dc06-3774-4f89-c60a-6f5da6dbe2f5"
      },
      "source": [
        "### Wald's two sample test NY before and after lockdown\n",
        "\n",
        "walds_two_sample_test(before_lockdown_list, after_lockdown_list, \"Wald's two sample test statistic for cases before number of cases:\")\n",
        "walds_two_sample_test(before_lockdown_death_list, after_lockdown_death_list, \"Wald's two sample test statistic for cases before number of cases:\")"
      ],
      "execution_count": 271,
      "outputs": [
        {
          "output_type": "stream",
          "text": [
            "Wald's two sample test statistic for cases before number of cases: 1.3871714613133943\n",
            "We accept the null hypothesis\n",
            "Wald's two sample test statistic for cases before number of cases: 8.685314862500697\n",
            "We reject the null hypothesis\n"
          ],
          "name": "stdout"
        }
      ]
    },
    {
      "cell_type": "markdown",
      "metadata": {
        "id": "frFIL1BcnO4q",
        "colab_type": "text"
      },
      "source": [
        "For Wald's one sample test to be applicable the estimator need to be Asymptotically Normal\n",
        "\n",
        "Since we are using MLE estimator which is Asymptotically Normal the Wald's one sample test is applicable\n",
        "\n",
        "It can be concluded that as for  number of cases |W|= 1.3871714613133943 < 1.96 threshold, we accept the null hypothesis -> mean for before lockdown was implemented = mean of after lockdown was implemented(mu0).\n",
        "\n",
        "For number of deaths as well, |W| = 8.685314862500697 > 1.96, hence we reject the null hypothesis"
      ]
    },
    {
      "cell_type": "markdown",
      "metadata": {
        "id": "ZNiUMSnApltj",
        "colab_type": "text"
      },
      "source": [
        "Conclusion\n",
        "\n",
        "Number of cases before v/s after the lockdown:\n",
        "\n",
        "We got excellent result as all three of the test i.e. Wald's, Permutation and KS test were accepting the null hypothesis. That is we can say with confidence that the lockdown helped keep the growth in check and the number of cases was sort of stabilized despite the increase in the number of test conducted.\n",
        "\n",
        "Death count before v/s after the lockdown:\n",
        "\n",
        "We can say that the \n",
        "We did not get any concrete result with respect to the death count before and after the lockdown as Wald's Test and Permutation test were rejecting the NUll hypothesis that the distribution was same, whereas the KS test is accepting it."
      ]
    },
    {
      "cell_type": "code",
      "metadata": {
        "id": "_GzTyLygSDLu",
        "colab_type": "code",
        "colab": {}
      },
      "source": [
        ""
      ],
      "execution_count": 0,
      "outputs": []
    },
    {
      "cell_type": "code",
      "metadata": {
        "id": "ukrDtN1rSDC8",
        "colab_type": "code",
        "colab": {}
      },
      "source": [
        ""
      ],
      "execution_count": 0,
      "outputs": []
    },
    {
      "cell_type": "markdown",
      "metadata": {
        "id": "Sl9C9SrYhwCJ",
        "colab_type": "text"
      },
      "source": [
        "## Sample Inference 4\n",
        "Use Chi-square independence test to check if COVID19 impacted your X dataset in some way."
      ]
    },
    {
      "cell_type": "markdown",
      "metadata": {
        "id": "xclqfEXbiIdI",
        "colab_type": "text"
      },
      "source": [
        "As chi2 test can be applied on the categorical data we are categorizing the data into pre and post Covid19\n",
        "and the most relevant column here PCE Inflation is being converted into categorical data by convering data \n",
        "into bins.\n"
      ]
    },
    {
      "cell_type": "code",
      "metadata": {
        "id": "1ghSYoglh4_K",
        "colab_type": "code",
        "colab": {
          "base_uri": "https://localhost:8080/",
          "height": 34
        },
        "outputId": "52a52f2a-24e3-49b0-9ef2-0a46ae2d4f68"
      },
      "source": [
        "XData=pd.read_csv('xPrePostCovid.csv')\n",
        "# binning th data in to bins \n",
        "\n",
        "min_value=np.floor(min(XData['Core PCE Inflation']))\n",
        "max_value=np.ceil(max(XData['Core PCE Inflation']))\n",
        "print(min_value,max_value)\n",
        "bins=2\n",
        "bin_width=(max_value-min_value)/bins\n",
        "data_bins_pre=[]\n",
        "data_bins_post=[]\n",
        "for i in range(bins):\n",
        "    data_bins_pre.append(0)\n",
        "    data_bins_post.append(0)\n",
        "for x in range(XData.shape[0]):\n",
        "    d=XData['Core PCE Inflation'][x]\n",
        "    bin_id=int(np.floor((d-min_value)/bin_width))\n",
        "    #print(bin_id)\n",
        "    if(XData['type'][x]=='pre'):\n",
        "        data_bins_pre[bin_id]+=1\n",
        "    else:\n",
        "        data_bins_post[bin_id]+=1\n",
        "\n",
        "level_totals=[]\n",
        "\n",
        "pre_total=0\n",
        "post_total=0\n",
        "for l in range(bins):\n",
        "    level_totals.append(data_bins_pre[l]+data_bins_post[l])\n",
        "    pre_total+=data_bins_pre[l]\n",
        "    post_total+=data_bins_post[l]\n",
        "\n",
        "total=pre_total+post_total\n"
      ],
      "execution_count": 272,
      "outputs": [
        {
          "output_type": "stream",
          "text": [
            "1.0 2.0\n"
          ],
          "name": "stdout"
        }
      ]
    },
    {
      "cell_type": "code",
      "metadata": {
        "id": "82lfWWKmmj5Q",
        "colab_type": "code",
        "colab": {
          "base_uri": "https://localhost:8080/",
          "height": 153
        },
        "outputId": "b6c4da10-af92-4786-d84d-074427bcbca2"
      },
      "source": [
        "#printing Chi Square observed value, matrix\n",
        "def print_totals( attr1, attr2, totl):\n",
        "    for i in range(bins):\n",
        "        print(\"\\t\\tlevel\",i,end =\" \")\n",
        "    print(\"\\tTotal\")\n",
        "    print(\"Pre Covid\",end =\" \")\n",
        "    for i in attr1:\n",
        "        print(\"\\t\",i,end =\"\\t\\t\")\n",
        "    print(pre_total)\n",
        "    print(\"Post Covid\",end =\" \")\n",
        "    for i in attr2:\n",
        "        print(\"\\t\",i,end =\"\\t\\t\")\n",
        "    print(post_total)\n",
        "    print()\n",
        "    print(\"Total\\t\",end =\" \")\n",
        "    for i in totl:\n",
        "        print(\"\\t\",i,end =\"\\t\\t\")\n",
        "\n",
        "    print(total)\n",
        "\n",
        "print(\"Chi2 test values\")\n",
        "print(\"Observed values\")\n",
        "print_totals(data_bins_pre,data_bins_post,level_totals)\n",
        "print(level_totals)"
      ],
      "execution_count": 273,
      "outputs": [
        {
          "output_type": "stream",
          "text": [
            "Chi2 test values\n",
            "Observed values\n",
            "\t\tlevel 0 \t\tlevel 1 \tTotal\n",
            "Pre Covid \t 17\t\t\t 0\t\t17\n",
            "Post Covid \t 21\t\t\t 6\t\t27\n",
            "\n",
            "Total\t \t 38\t\t\t 6\t\t44\n",
            "[38, 6]\n"
          ],
          "name": "stdout"
        }
      ]
    },
    {
      "cell_type": "markdown",
      "metadata": {
        "id": "ig2ZHKWLiRJy",
        "colab_type": "text"
      },
      "source": [
        "Generating the Expected values for the give setting for the analysis of the Covid Data"
      ]
    },
    {
      "cell_type": "code",
      "metadata": {
        "id": "y2LhMjqoiU-_",
        "colab_type": "code",
        "colab": {
          "base_uri": "https://localhost:8080/",
          "height": 85
        },
        "outputId": "3cf2ea6f-230d-49d3-ae4c-62b3e17b2b5b"
      },
      "source": [
        "pre_expected_values=[]\n",
        "post_expected_values=[]\n",
        "\n",
        "for lt in level_totals:\n",
        "    pre_expected_values.append(pre_total* lt/total)\n",
        "    post_expected_values.append(post_total* lt/total)\n",
        "print(\"Pre covid Expected values\",pre_expected_values)\n",
        "\n",
        "print(\"post covid expected values\",post_expected_values)\n",
        "Q_stat=0\n",
        "for i in range(bins):\n",
        "    Q_stat+= ((pre_expected_values[i]-data_bins_pre[i])**2)/pre_expected_values[i]\n",
        "    Q_stat+= ((post_expected_values[i]-data_bins_post[i])**2)/post_expected_values[i]\n",
        "    \n",
        "print(\"Q_stat_value \",Q_stat)\n",
        "print(\"P value \",1 - chi2.cdf(Q_stat, bins-1))\n"
      ],
      "execution_count": 274,
      "outputs": [
        {
          "output_type": "stream",
          "text": [
            "Pre covid Expected values [14.681818181818182, 2.3181818181818183]\n",
            "post covid expected values [23.318181818181817, 3.6818181818181817]\n",
            "Q_stat_value  4.374269005847953\n",
            "P value  0.03648547671438307\n"
          ],
          "name": "stdout"
        }
      ]
    },
    {
      "cell_type": "markdown",
      "metadata": {
        "id": "d4II1j-qinFq",
        "colab_type": "text"
      },
      "source": [
        "From this p value << 0.5 so the Covid19 has impacted the Core PCE Inflation\n",
        "So Core PCE Inflation is dependant on Pre and post covid changes"
      ]
    }
  ]
}
